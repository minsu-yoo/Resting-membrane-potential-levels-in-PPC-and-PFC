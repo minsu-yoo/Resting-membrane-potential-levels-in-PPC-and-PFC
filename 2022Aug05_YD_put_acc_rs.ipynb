{
 "cells": [
  {
   "cell_type": "code",
   "execution_count": 1,
   "metadata": {},
   "outputs": [],
   "source": [
    "import pickle\n",
    "import pandas as pd\n",
    "import numpy as np\n",
    "\n",
    "with open('slice_data.pickle', 'rb') as handle:\n",
    "    raw_data = pickle.load(handle)\n",
    "\n",
    "\n",
    "data = raw_data['ACC_FS']\n",
    "\n",
    "\n",
    "n_column = data.iloc[0,:].size\n",
    "\n",
    "\n",
    "starting_index = np.arange (1,n_column+1, 15)\n",
    "\n",
    "cell_list = []\n",
    "\n",
    "#separate the cells from one sheet\n",
    "\n",
    "for i in starting_index:\n",
    "    cell_data = data.iloc[:,i:i+13]\n",
    "    cell_list.append(cell_data)\n",
    "\n",
    "\n",
    "clamp_levels = data.iloc[0,1:14]\n",
    "\n",
    "clamp_levels_string = pd.Series(clamp_levels, dtype=\"string\")\n",
    "\n",
    "col_list = list(clamp_levels_string)"
   ]
  },
  {
   "cell_type": "code",
   "execution_count": 2,
   "metadata": {},
   "outputs": [
    {
     "data": {
      "text/plain": [
       "['-200.0',\n",
       " '-150.0',\n",
       " '-100.0',\n",
       " '-50.0',\n",
       " '0.0',\n",
       " '50.0',\n",
       " '100.0',\n",
       " '150.0',\n",
       " '200.0',\n",
       " '250.0',\n",
       " '300.0',\n",
       " '350.0',\n",
       " '400.0']"
      ]
     },
     "execution_count": 2,
     "metadata": {},
     "output_type": "execute_result"
    }
   ],
   "source": [
    "col_list"
   ]
  },
  {
   "cell_type": "code",
   "execution_count": 3,
   "metadata": {},
   "outputs": [
    {
     "data": {
      "text/html": [
       "<div>\n",
       "<style scoped>\n",
       "    .dataframe tbody tr th:only-of-type {\n",
       "        vertical-align: middle;\n",
       "    }\n",
       "\n",
       "    .dataframe tbody tr th {\n",
       "        vertical-align: top;\n",
       "    }\n",
       "\n",
       "    .dataframe thead th {\n",
       "        text-align: right;\n",
       "    }\n",
       "</style>\n",
       "<table border=\"1\" class=\"dataframe\">\n",
       "  <thead>\n",
       "    <tr style=\"text-align: right;\">\n",
       "      <th></th>\n",
       "      <th>20190219 Slice 1 Cell 0</th>\n",
       "      <th>Unnamed: 2</th>\n",
       "      <th>Unnamed: 3</th>\n",
       "      <th>Unnamed: 4</th>\n",
       "      <th>Unnamed: 5</th>\n",
       "      <th>Unnamed: 6</th>\n",
       "      <th>Unnamed: 7</th>\n",
       "      <th>Unnamed: 8</th>\n",
       "      <th>Unnamed: 9</th>\n",
       "      <th>Unnamed: 10</th>\n",
       "      <th>Unnamed: 11</th>\n",
       "      <th>Unnamed: 12</th>\n",
       "      <th>Unnamed: 13</th>\n",
       "    </tr>\n",
       "  </thead>\n",
       "  <tbody>\n",
       "    <tr>\n",
       "      <th>0</th>\n",
       "      <td>-200.0000</td>\n",
       "      <td>-150.0000</td>\n",
       "      <td>-100.0000</td>\n",
       "      <td>-50.0000</td>\n",
       "      <td>0.0000</td>\n",
       "      <td>50.0000</td>\n",
       "      <td>100.0000</td>\n",
       "      <td>150.0000</td>\n",
       "      <td>200.0000</td>\n",
       "      <td>250.0000</td>\n",
       "      <td>300.0000</td>\n",
       "      <td>350.0000</td>\n",
       "      <td>400.0000</td>\n",
       "    </tr>\n",
       "    <tr>\n",
       "      <th>1</th>\n",
       "      <td>-75.2563</td>\n",
       "      <td>-74.8901</td>\n",
       "      <td>-75.4089</td>\n",
       "      <td>-74.9817</td>\n",
       "      <td>-75.4395</td>\n",
       "      <td>-75.3174</td>\n",
       "      <td>-75.1953</td>\n",
       "      <td>-75.8057</td>\n",
       "      <td>-76.4465</td>\n",
       "      <td>-78.3386</td>\n",
       "      <td>-79.9561</td>\n",
       "      <td>-80.8716</td>\n",
       "      <td>-82.0312</td>\n",
       "    </tr>\n",
       "    <tr>\n",
       "      <th>2</th>\n",
       "      <td>-75.2869</td>\n",
       "      <td>-74.8291</td>\n",
       "      <td>-75.5310</td>\n",
       "      <td>-74.9512</td>\n",
       "      <td>-75.3784</td>\n",
       "      <td>-75.3784</td>\n",
       "      <td>-75.1038</td>\n",
       "      <td>-75.8362</td>\n",
       "      <td>-76.3855</td>\n",
       "      <td>-78.3691</td>\n",
       "      <td>-80.0171</td>\n",
       "      <td>-80.8105</td>\n",
       "      <td>-81.9702</td>\n",
       "    </tr>\n",
       "    <tr>\n",
       "      <th>3</th>\n",
       "      <td>-75.2869</td>\n",
       "      <td>-74.8596</td>\n",
       "      <td>-75.4395</td>\n",
       "      <td>-74.9512</td>\n",
       "      <td>-75.4395</td>\n",
       "      <td>-75.2869</td>\n",
       "      <td>-75.1953</td>\n",
       "      <td>-75.7751</td>\n",
       "      <td>-76.3855</td>\n",
       "      <td>-78.3081</td>\n",
       "      <td>-79.9255</td>\n",
       "      <td>-80.9021</td>\n",
       "      <td>-82.0618</td>\n",
       "    </tr>\n",
       "    <tr>\n",
       "      <th>4</th>\n",
       "      <td>-75.2563</td>\n",
       "      <td>-74.8291</td>\n",
       "      <td>-75.4700</td>\n",
       "      <td>-75.0122</td>\n",
       "      <td>-75.4395</td>\n",
       "      <td>-75.3479</td>\n",
       "      <td>-75.1343</td>\n",
       "      <td>-75.8057</td>\n",
       "      <td>-76.5076</td>\n",
       "      <td>-78.3691</td>\n",
       "      <td>-79.9561</td>\n",
       "      <td>-80.7800</td>\n",
       "      <td>-81.9702</td>\n",
       "    </tr>\n",
       "    <tr>\n",
       "      <th>...</th>\n",
       "      <td>...</td>\n",
       "      <td>...</td>\n",
       "      <td>...</td>\n",
       "      <td>...</td>\n",
       "      <td>...</td>\n",
       "      <td>...</td>\n",
       "      <td>...</td>\n",
       "      <td>...</td>\n",
       "      <td>...</td>\n",
       "      <td>...</td>\n",
       "      <td>...</td>\n",
       "      <td>...</td>\n",
       "      <td>...</td>\n",
       "    </tr>\n",
       "    <tr>\n",
       "      <th>10996</th>\n",
       "      <td>-74.8596</td>\n",
       "      <td>-75.4395</td>\n",
       "      <td>-74.9207</td>\n",
       "      <td>-75.3784</td>\n",
       "      <td>-75.3784</td>\n",
       "      <td>-75.1038</td>\n",
       "      <td>-75.7141</td>\n",
       "      <td>-76.3855</td>\n",
       "      <td>-78.3997</td>\n",
       "      <td>-79.9866</td>\n",
       "      <td>-80.7800</td>\n",
       "      <td>-82.0007</td>\n",
       "      <td>-82.4585</td>\n",
       "    </tr>\n",
       "    <tr>\n",
       "      <th>10997</th>\n",
       "      <td>-74.8596</td>\n",
       "      <td>-75.4395</td>\n",
       "      <td>-74.9512</td>\n",
       "      <td>-75.3479</td>\n",
       "      <td>-75.3479</td>\n",
       "      <td>-75.1953</td>\n",
       "      <td>-75.8362</td>\n",
       "      <td>-76.3550</td>\n",
       "      <td>-78.3386</td>\n",
       "      <td>-79.9866</td>\n",
       "      <td>-80.8105</td>\n",
       "      <td>-81.9702</td>\n",
       "      <td>-82.3975</td>\n",
       "    </tr>\n",
       "    <tr>\n",
       "      <th>10998</th>\n",
       "      <td>-74.8291</td>\n",
       "      <td>-75.4700</td>\n",
       "      <td>-74.8901</td>\n",
       "      <td>-75.3479</td>\n",
       "      <td>-75.3174</td>\n",
       "      <td>-75.1038</td>\n",
       "      <td>-75.7751</td>\n",
       "      <td>-76.3855</td>\n",
       "      <td>-78.3997</td>\n",
       "      <td>-80.0171</td>\n",
       "      <td>-80.7495</td>\n",
       "      <td>-81.9702</td>\n",
       "      <td>-82.4585</td>\n",
       "    </tr>\n",
       "    <tr>\n",
       "      <th>10999</th>\n",
       "      <td>-74.8596</td>\n",
       "      <td>-75.4089</td>\n",
       "      <td>-74.9512</td>\n",
       "      <td>-75.4089</td>\n",
       "      <td>-75.3174</td>\n",
       "      <td>-75.1648</td>\n",
       "      <td>-75.8362</td>\n",
       "      <td>-76.4160</td>\n",
       "      <td>-78.3386</td>\n",
       "      <td>-79.9255</td>\n",
       "      <td>-80.8411</td>\n",
       "      <td>-82.0007</td>\n",
       "      <td>-82.3669</td>\n",
       "    </tr>\n",
       "    <tr>\n",
       "      <th>11000</th>\n",
       "      <td>-74.9207</td>\n",
       "      <td>-75.5005</td>\n",
       "      <td>-74.9817</td>\n",
       "      <td>-75.3174</td>\n",
       "      <td>-75.3479</td>\n",
       "      <td>-75.0732</td>\n",
       "      <td>-75.7446</td>\n",
       "      <td>-76.4160</td>\n",
       "      <td>-78.3691</td>\n",
       "      <td>-79.9561</td>\n",
       "      <td>-80.6885</td>\n",
       "      <td>-81.9702</td>\n",
       "      <td>-82.3975</td>\n",
       "    </tr>\n",
       "  </tbody>\n",
       "</table>\n",
       "<p>11001 rows × 13 columns</p>\n",
       "</div>"
      ],
      "text/plain": [
       "       20190219 Slice 1 Cell 0  Unnamed: 2  Unnamed: 3  Unnamed: 4  \\\n",
       "0                    -200.0000   -150.0000   -100.0000    -50.0000   \n",
       "1                     -75.2563    -74.8901    -75.4089    -74.9817   \n",
       "2                     -75.2869    -74.8291    -75.5310    -74.9512   \n",
       "3                     -75.2869    -74.8596    -75.4395    -74.9512   \n",
       "4                     -75.2563    -74.8291    -75.4700    -75.0122   \n",
       "...                        ...         ...         ...         ...   \n",
       "10996                 -74.8596    -75.4395    -74.9207    -75.3784   \n",
       "10997                 -74.8596    -75.4395    -74.9512    -75.3479   \n",
       "10998                 -74.8291    -75.4700    -74.8901    -75.3479   \n",
       "10999                 -74.8596    -75.4089    -74.9512    -75.4089   \n",
       "11000                 -74.9207    -75.5005    -74.9817    -75.3174   \n",
       "\n",
       "       Unnamed: 5  Unnamed: 6  Unnamed: 7  Unnamed: 8  Unnamed: 9  \\\n",
       "0          0.0000     50.0000    100.0000    150.0000    200.0000   \n",
       "1        -75.4395    -75.3174    -75.1953    -75.8057    -76.4465   \n",
       "2        -75.3784    -75.3784    -75.1038    -75.8362    -76.3855   \n",
       "3        -75.4395    -75.2869    -75.1953    -75.7751    -76.3855   \n",
       "4        -75.4395    -75.3479    -75.1343    -75.8057    -76.5076   \n",
       "...           ...         ...         ...         ...         ...   \n",
       "10996    -75.3784    -75.1038    -75.7141    -76.3855    -78.3997   \n",
       "10997    -75.3479    -75.1953    -75.8362    -76.3550    -78.3386   \n",
       "10998    -75.3174    -75.1038    -75.7751    -76.3855    -78.3997   \n",
       "10999    -75.3174    -75.1648    -75.8362    -76.4160    -78.3386   \n",
       "11000    -75.3479    -75.0732    -75.7446    -76.4160    -78.3691   \n",
       "\n",
       "       Unnamed: 10  Unnamed: 11  Unnamed: 12  Unnamed: 13  \n",
       "0         250.0000     300.0000     350.0000     400.0000  \n",
       "1         -78.3386     -79.9561     -80.8716     -82.0312  \n",
       "2         -78.3691     -80.0171     -80.8105     -81.9702  \n",
       "3         -78.3081     -79.9255     -80.9021     -82.0618  \n",
       "4         -78.3691     -79.9561     -80.7800     -81.9702  \n",
       "...            ...          ...          ...          ...  \n",
       "10996     -79.9866     -80.7800     -82.0007     -82.4585  \n",
       "10997     -79.9866     -80.8105     -81.9702     -82.3975  \n",
       "10998     -80.0171     -80.7495     -81.9702     -82.4585  \n",
       "10999     -79.9255     -80.8411     -82.0007     -82.3669  \n",
       "11000     -79.9561     -80.6885     -81.9702     -82.3975  \n",
       "\n",
       "[11001 rows x 13 columns]"
      ]
     },
     "execution_count": 3,
     "metadata": {},
     "output_type": "execute_result"
    }
   ],
   "source": [
    "cell_list[0]"
   ]
  },
  {
   "cell_type": "code",
   "execution_count": 6,
   "metadata": {},
   "outputs": [],
   "source": [
    "num_neuron = len(cell_list)\n",
    "cell_id_list = []\n",
    "for i in range(num_neuron):\n",
    "    col_list = list(cell_list[i].columns)\n",
    "    cell_id = col_list[0]\n",
    "    cell_id_list.append(cell_id)"
   ]
  },
  {
   "cell_type": "code",
   "execution_count": 7,
   "metadata": {},
   "outputs": [
    {
     "data": {
      "text/plain": [
       "['20190219 Slice 1 Cell 0',\n",
       " '20180620 Slice 1 Cell 0',\n",
       " '20180620 Slice 1 Cell 1',\n",
       " '20180720 Slice 2_Cell 2']"
      ]
     },
     "execution_count": 7,
     "metadata": {},
     "output_type": "execute_result"
    }
   ],
   "source": [
    "cell_id_list"
   ]
  },
  {
   "cell_type": "code",
   "execution_count": 8,
   "metadata": {},
   "outputs": [],
   "source": [
    "sheet_time = data.iloc[1:,0]"
   ]
  },
  {
   "cell_type": "code",
   "execution_count": 9,
   "metadata": {},
   "outputs": [],
   "source": [
    "acc_fs = {}\n",
    "\n",
    "acc_fs['time'] = sheet_time\n",
    "\n",
    "\n"
   ]
  },
  {
   "cell_type": "code",
   "execution_count": 10,
   "metadata": {},
   "outputs": [],
   "source": [
    "acc_fs['data'] = cell_list"
   ]
  },
  {
   "cell_type": "code",
   "execution_count": 11,
   "metadata": {},
   "outputs": [],
   "source": [
    "acc_fs['cell_id'] =  cell_id_list"
   ]
  },
  {
   "cell_type": "code",
   "execution_count": 13,
   "metadata": {},
   "outputs": [
    {
     "data": {
      "text/plain": [
       "dict_keys(['time', 'data', 'cell_id'])"
      ]
     },
     "execution_count": 13,
     "metadata": {},
     "output_type": "execute_result"
    }
   ],
   "source": [
    "acc_fs.keys()"
   ]
  },
  {
   "cell_type": "code",
   "execution_count": 15,
   "metadata": {},
   "outputs": [
    {
     "data": {
      "text/plain": [
       "dict_keys(['ACC_FS', 'PPC_FS', 'ACC_RS', 'PPC_RS'])"
      ]
     },
     "execution_count": 15,
     "metadata": {},
     "output_type": "execute_result"
    }
   ],
   "source": [
    "raw_data.keys()"
   ]
  },
  {
   "cell_type": "code",
   "execution_count": 19,
   "metadata": {},
   "outputs": [
    {
     "data": {
      "text/plain": [
       "str"
      ]
     },
     "execution_count": 19,
     "metadata": {},
     "output_type": "execute_result"
    }
   ],
   "source": []
  },
  {
   "cell_type": "code",
   "execution_count": null,
   "metadata": {},
   "outputs": [],
   "source": []
  }
 ],
 "metadata": {
  "kernelspec": {
   "display_name": "firstEnv",
   "language": "python",
   "name": "firstenv"
  },
  "language_info": {
   "codemirror_mode": {
    "name": "ipython",
    "version": 3
   },
   "file_extension": ".py",
   "mimetype": "text/x-python",
   "name": "python",
   "nbconvert_exporter": "python",
   "pygments_lexer": "ipython3",
   "version": "3.9.12"
  },
  "orig_nbformat": 4
 },
 "nbformat": 4,
 "nbformat_minor": 2
}
