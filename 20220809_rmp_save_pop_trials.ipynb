{
 "cells": [
  {
   "cell_type": "code",
   "execution_count": 1,
   "metadata": {},
   "outputs": [
    {
     "name": "stdout",
     "output_type": "stream",
     "text": [
      "stimulus start: 0.1, stimulus end: 0.4\n",
      "simulating 426 neurons. Start: Tue Aug  9 17:23:16 2022\n",
      "sim end: Tue Aug  9 17:24:06 2022\n",
      "stimulus start: 0.1, stimulus end: 0.4\n",
      "simulating 426 neurons. Start: Tue Aug  9 17:24:06 2022\n",
      "sim end: Tue Aug  9 17:24:56 2022\n",
      "stimulus start: 0.1, stimulus end: 0.4\n",
      "simulating 426 neurons. Start: Tue Aug  9 17:24:56 2022\n"
     ]
    }
   ],
   "source": [
    "import wang_rmp\n",
    "\n",
    "import brian2 as b2\n",
    "from brian2 import NeuronGroup, Synapses, PoissonInput, PoissonGroup, network_operation\n",
    "from brian2.monitors import StateMonitor, SpikeMonitor, PopulationRateMonitor\n",
    "from random import sample\n",
    "import numpy.random as rnd\n",
    "from neurodynex3.tools import plot_tools\n",
    "import numpy as np\n",
    "import matplotlib.pyplot as plt\n",
    "from math import floor\n",
    "import time\n",
    "from datetime import datetime\n",
    "import pickle\n",
    "\n",
    "b2.defaultclock.dt = 0.10 * b2.ms\n",
    "\n",
    "\n",
    "\n",
    "def pop_rate_to_dict(results):\n",
    "\n",
    "    pop_rate_a = results[\"rate_monitor_A\"]\n",
    "    pop_rate_b = results[\"rate_monitor_B\"]\n",
    "    \n",
    "    # pop_rate_a is a \n",
    "\n",
    "    smooth_pop_rate_a = pop_rate_a.smooth_rate(window=\"flat\",width = 20.1*b2.ms )\n",
    "    smooth_pop_rate_b = pop_rate_b.smooth_rate(window=\"flat\",width = 20.1*b2.ms )\n",
    "\n",
    "    np_rate_a = np.array(smooth_pop_rate_a)\n",
    "    np_rate_b = np.array(smooth_pop_rate_b)\n",
    "\n",
    "\n",
    "\n",
    "    time = pop_rate_a.t/b2.ms\n",
    "    pop_rate_results = {}\n",
    "\n",
    "    pop_rate_results['time'] =  time\n",
    "    pop_rate_results['pop_rate_a'] =  np_rate_a\n",
    "    pop_rate_results['pop_rate_b'] =  np_rate_b\n",
    "    \n",
    "    return pop_rate_results\n",
    "\n",
    "\n",
    "\n",
    "stim_start = 100. * b2.ms\n",
    "stim_duration = 300 * b2.ms\n",
    "\n",
    "pop_rate_list = []\n",
    "\n",
    "for i in range(15):\n",
    "\n",
    "    print(\"stimulus start: {}, stimulus end: {}\".format(stim_start, stim_start+stim_duration))\n",
    "    results = wang_rmp.sim_decision_making_network(N_Excit=341, N_Inhib=85, weight_scaling_factor=6.0,\n",
    "                                            t_stimulus_start=stim_start, t_stimulus_duration=stim_duration,\n",
    "                                            coherence_level=+0.90, w_pos=2.0, mu0_mean_stimulus_Hz=500 * b2.Hz,\n",
    "                                            max_sim_time=800. * b2.ms)\n",
    "    \n",
    "    pop_dict = pop_rate_to_dict(results)\n",
    "    pop_rate_list.append(pop_dict)\n",
    "    \n",
    "    \n",
    "\n",
    "curDT = datetime.now()\n",
    "time = curDT.strftime(\"%m%d_%H_%M\")\n",
    "\n",
    "with open('pop_rate_' + time + '.pkl', 'wb') as f:\n",
    "    pickle.dump(pop_rate_list, f)"
   ]
  },
  {
   "cell_type": "code",
   "execution_count": null,
   "metadata": {},
   "outputs": [],
   "source": []
  }
 ],
 "metadata": {
  "kernelspec": {
   "display_name": "Python 3.10.4 ('bmnn')",
   "language": "python",
   "name": "python3"
  },
  "language_info": {
   "codemirror_mode": {
    "name": "ipython",
    "version": 3
   },
   "file_extension": ".py",
   "mimetype": "text/x-python",
   "name": "python",
   "nbconvert_exporter": "python",
   "pygments_lexer": "ipython3",
   "version": "3.10.4"
  },
  "orig_nbformat": 4,
  "vscode": {
   "interpreter": {
    "hash": "1b2949e6c5580fc9df5648611cf670f21304d55adc8d0a32adbc465980965ac6"
   }
  }
 },
 "nbformat": 4,
 "nbformat_minor": 2
}
