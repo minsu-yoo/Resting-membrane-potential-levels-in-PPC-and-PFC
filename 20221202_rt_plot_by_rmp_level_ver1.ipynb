{
 "cells": [
  {
   "cell_type": "code",
   "execution_count": 1,
   "id": "534576e2",
   "metadata": {},
   "outputs": [],
   "source": [
    "import wang\n",
    "\n",
    "import brian2 as b2\n",
    "from brian2 import NeuronGroup, Synapses, PoissonInput, PoissonGroup, network_operation\n",
    "from brian2.monitors import StateMonitor, SpikeMonitor, PopulationRateMonitor\n",
    "from random import sample\n",
    "import numpy.random as rnd\n",
    "from neurodynex3.tools import plot_tools\n",
    "import numpy as np\n",
    "import matplotlib.pyplot as plt\n",
    "from math import floor\n",
    "import time\n",
    "from datetime import datetime\n",
    "import pickle\n",
    "import numpy \n",
    "\n",
    "b2.defaultclock.dt = 0.10 * b2.ms"
   ]
  },
  {
   "cell_type": "code",
   "execution_count": 2,
   "id": "80766a64",
   "metadata": {},
   "outputs": [],
   "source": [
    "with open('rt_matrix_w_pos_8_by_8_10times_0923_constrast_90.pkl', 'rb') as f:\n",
    "    data = pickle.load(f)"
   ]
  },
  {
   "cell_type": "code",
   "execution_count": 7,
   "id": "bafeb43a",
   "metadata": {},
   "outputs": [],
   "source": [
    "data_keys = list(data.keys())\n",
    "\n"
   ]
  },
  {
   "cell_type": "code",
   "execution_count": 8,
   "id": "a5d2abbf",
   "metadata": {},
   "outputs": [],
   "source": [
    "w_pos_1p8_keys = data_keys[24:32]"
   ]
  },
  {
   "cell_type": "code",
   "execution_count": 9,
   "id": "6b4d363d",
   "metadata": {},
   "outputs": [],
   "source": [
    "def get_decision_time(pop_rate, threshold=25):\n",
    "        rate_A = pop_rate['pop_rate_a']\n",
    "        rate_B = pop_rate['pop_rate_b']\n",
    "        \n",
    "        above_thre_A = (pop_rate['pop_rate_a'] > threshold)\n",
    "        idx_over_threshold_A = numpy.where(above_thre_A==True)\n",
    "\n",
    "\n",
    "        above_thre_B = (pop_rate['pop_rate_b'] > threshold)\n",
    "        idx_over_threshold_B = numpy.where(above_thre_B==True)\n",
    "\n",
    "        # monitor each firing rate at every moment \n",
    "        decision_time_A = 0\n",
    "\n",
    "        decision_time_B = 0\n",
    "\n",
    "        for i in range(len(above_thre_A)):\n",
    "\n",
    "            # find the time when the divergen starts happening\n",
    "\n",
    "            above_thre_A = (rate_A > threshold)\n",
    "            idx_over_threshold_A = numpy.where(above_thre_A==True)\n",
    "\n",
    "\n",
    "            above_thre_B = (rate_B > threshold)\n",
    "            idx_over_threshold_B = numpy.where(above_thre_B==True)\n",
    "\n",
    "\n",
    "\n",
    "        if len(idx_over_threshold_A[0]) > 0:\n",
    "            decision_time_A = idx_over_threshold_A[0][0];\n",
    "            \n",
    "        else: \n",
    "            pass\n",
    "\n",
    "        if len(idx_over_threshold_B[0]) > 0:\n",
    "            decision_time_B = idx_over_threshold_B[0][0];\n",
    "\n",
    "        else: \n",
    "            pass\n",
    "        \n",
    "\n",
    "        #print(decision_time_A, decision_time_B)\n",
    "        return decision_time_A, decision_time_B\n",
    "\n"
   ]
  },
  {
   "cell_type": "code",
   "execution_count": 10,
   "id": "1c9f29ab",
   "metadata": {},
   "outputs": [],
   "source": [
    "def get_rt_boxplot(data):\n",
    "    \n",
    "    decision_times = []\n",
    "    rt = []\n",
    "\n",
    "    for i in range(len(data)):\n",
    "        \n",
    "        decision_time = get_decision_time(data[i])\n",
    "        \n",
    "        decision_times.append(decision_time)\n",
    "        rt.append(max(decision_time))\n",
    "        \n",
    "    if 0 in rt:\n",
    "        rt.remove(0)\n",
    "    else:\n",
    "        pass\n",
    "    \n",
    "    rt_in_realtime = numpy.array(rt) - 1000\n",
    "    rt_in_realtime = rt_in_realtime/10\n",
    "\n",
    "    plt.boxplot(rt_in_realtime)\n",
    "    plt.ylabel('reaction time (ms)')\n",
    "    plt.show()\n",
    "    \n",
    "    return rt_in_realtime\n",
    "    \n",
    "\n"
   ]
  },
  {
   "cell_type": "code",
   "execution_count": 11,
   "id": "8af092f8",
   "metadata": {},
   "outputs": [],
   "source": [
    "rt_for_boxplot_list = []\n",
    "\n"
   ]
  },
  {
   "cell_type": "code",
   "execution_count": null,
   "id": "ba4dbc03",
   "metadata": {},
   "outputs": [],
   "source": [
    "for i in range(8):\n",
    "    rt_for_boxplot_list.append(get_rt_boxplot(data[w_pos_1p8_keys[i]]))"
   ]
  },
  {
   "cell_type": "code",
   "execution_count": null,
   "id": "f397eb3d",
   "metadata": {},
   "outputs": [],
   "source": []
  }
 ],
 "metadata": {
  "kernelspec": {
   "display_name": "Python 3 (ipykernel)",
   "language": "python",
   "name": "python3"
  },
  "language_info": {
   "codemirror_mode": {
    "name": "ipython",
    "version": 3
   },
   "file_extension": ".py",
   "mimetype": "text/x-python",
   "name": "python",
   "nbconvert_exporter": "python",
   "pygments_lexer": "ipython3",
   "version": "3.10.6"
  }
 },
 "nbformat": 4,
 "nbformat_minor": 5
}
