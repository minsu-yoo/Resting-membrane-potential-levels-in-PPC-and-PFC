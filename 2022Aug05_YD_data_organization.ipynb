{
 "cells": [
  {
   "cell_type": "code",
   "execution_count": 1,
   "metadata": {},
   "outputs": [],
   "source": [
    "import pickle\n",
    "import pandas as pd\n",
    "import numpy as np\n",
    "\n",
    "with open('slice_data.pickle', 'rb') as handle:\n",
    "    raw_data = pickle.load(handle)\n"
   ]
  },
  {
   "cell_type": "code",
   "execution_count": 2,
   "metadata": {},
   "outputs": [
    {
     "data": {
      "text/plain": [
       "dict_keys(['ACC_FS', 'PPC_FS', 'ACC_RS', 'PPC_RS'])"
      ]
     },
     "execution_count": 2,
     "metadata": {},
     "output_type": "execute_result"
    }
   ],
   "source": [
    "raw_data.keys()"
   ]
  },
  {
   "cell_type": "code",
   "execution_count": null,
   "metadata": {},
   "outputs": [],
   "source": []
  },
  {
   "cell_type": "code",
   "execution_count": 5,
   "metadata": {},
   "outputs": [],
   "source": [
    "data = raw_data['ACC_FS']"
   ]
  },
  {
   "cell_type": "code",
   "execution_count": 6,
   "metadata": {},
   "outputs": [],
   "source": [
    "n_column = data.iloc[0,:].size"
   ]
  },
  {
   "cell_type": "code",
   "execution_count": 8,
   "metadata": {},
   "outputs": [
    {
     "data": {
      "text/plain": [
       "59"
      ]
     },
     "execution_count": 8,
     "metadata": {},
     "output_type": "execute_result"
    }
   ],
   "source": [
    "n_column"
   ]
  },
  {
   "cell_type": "code",
   "execution_count": 9,
   "metadata": {},
   "outputs": [],
   "source": [
    "starting_index = np.arange (1,n_column+1, 15)"
   ]
  },
  {
   "cell_type": "code",
   "execution_count": 10,
   "metadata": {},
   "outputs": [],
   "source": [
    "cell_list = []"
   ]
  },
  {
   "cell_type": "code",
   "execution_count": 11,
   "metadata": {},
   "outputs": [],
   "source": [
    "#separate the cells from one sheet\n",
    "\n",
    "for i in starting_index:\n",
    "    cell_data = data.iloc[:,i:i+13]\n",
    "    cell_list.append(cell_data)\n",
    "\n",
    "    "
   ]
  },
  {
   "cell_type": "code",
   "execution_count": 13,
   "metadata": {},
   "outputs": [
    {
     "data": {
      "text/plain": [
       "4"
      ]
     },
     "execution_count": 13,
     "metadata": {},
     "output_type": "execute_result"
    }
   ],
   "source": [
    "len(cell_list)"
   ]
  },
  {
   "cell_type": "code",
   "execution_count": 14,
   "metadata": {},
   "outputs": [],
   "source": [
    "clamp_levels = data.iloc[0,1:14]"
   ]
  },
  {
   "cell_type": "code",
   "execution_count": 34,
   "metadata": {},
   "outputs": [
    {
     "data": {
      "text/plain": [
       "20190219 Slice 1 Cell 0   -200.0\n",
       "Unnamed: 2                -150.0\n",
       "Unnamed: 3                -100.0\n",
       "Unnamed: 4                 -50.0\n",
       "Unnamed: 5                   0.0\n",
       "Unnamed: 6                  50.0\n",
       "Unnamed: 7                 100.0\n",
       "Unnamed: 8                 150.0\n",
       "Unnamed: 9                 200.0\n",
       "Unnamed: 10                250.0\n",
       "Unnamed: 11                300.0\n",
       "Unnamed: 12                350.0\n",
       "Unnamed: 13                400.0\n",
       "Name: 0, dtype: float64"
      ]
     },
     "execution_count": 34,
     "metadata": {},
     "output_type": "execute_result"
    }
   ],
   "source": [
    "clamp_levels"
   ]
  },
  {
   "cell_type": "code",
   "execution_count": 16,
   "metadata": {},
   "outputs": [],
   "source": [
    "clamp_levels_string = pd.Series(clamp_levels, dtype=\"string\")"
   ]
  },
  {
   "cell_type": "code",
   "execution_count": 17,
   "metadata": {},
   "outputs": [
    {
     "data": {
      "text/plain": [
       "20190219 Slice 1 Cell 0    -200.0\n",
       "Unnamed: 2                 -150.0\n",
       "Unnamed: 3                 -100.0\n",
       "Unnamed: 4                  -50.0\n",
       "Unnamed: 5                    0.0\n",
       "Unnamed: 6                   50.0\n",
       "Unnamed: 7                  100.0\n",
       "Unnamed: 8                  150.0\n",
       "Unnamed: 9                  200.0\n",
       "Unnamed: 10                 250.0\n",
       "Unnamed: 11                 300.0\n",
       "Unnamed: 12                 350.0\n",
       "Unnamed: 13                 400.0\n",
       "Name: 0, dtype: string"
      ]
     },
     "execution_count": 17,
     "metadata": {},
     "output_type": "execute_result"
    }
   ],
   "source": [
    "clamp_levels_string"
   ]
  },
  {
   "cell_type": "code",
   "execution_count": 22,
   "metadata": {},
   "outputs": [],
   "source": [
    "col_list = list(cell_list[0].columns)\n"
   ]
  },
  {
   "cell_type": "code",
   "execution_count": 23,
   "metadata": {},
   "outputs": [
    {
     "data": {
      "text/plain": [
       "['20190219 Slice 1 Cell 0',\n",
       " 'Unnamed: 2',\n",
       " 'Unnamed: 3',\n",
       " 'Unnamed: 4',\n",
       " 'Unnamed: 5',\n",
       " 'Unnamed: 6',\n",
       " 'Unnamed: 7',\n",
       " 'Unnamed: 8',\n",
       " 'Unnamed: 9',\n",
       " 'Unnamed: 10',\n",
       " 'Unnamed: 11',\n",
       " 'Unnamed: 12',\n",
       " 'Unnamed: 13']"
      ]
     },
     "execution_count": 23,
     "metadata": {},
     "output_type": "execute_result"
    }
   ],
   "source": [
    "col_list"
   ]
  },
  {
   "cell_type": "code",
   "execution_count": 24,
   "metadata": {},
   "outputs": [
    {
     "data": {
      "text/plain": [
       "'20190219 Slice 1 Cell 0'"
      ]
     },
     "execution_count": 24,
     "metadata": {},
     "output_type": "execute_result"
    }
   ],
   "source": [
    "col_list[0]"
   ]
  },
  {
   "cell_type": "code",
   "execution_count": 25,
   "metadata": {},
   "outputs": [
    {
     "data": {
      "text/plain": [
       "'20190219 Slice 1 Cell 0'"
      ]
     },
     "execution_count": 25,
     "metadata": {},
     "output_type": "execute_result"
    }
   ],
   "source": [
    "col_list[0]"
   ]
  },
  {
   "cell_type": "code",
   "execution_count": 26,
   "metadata": {},
   "outputs": [],
   "source": [
    "cell_id = col_list[0]"
   ]
  },
  {
   "cell_type": "code",
   "execution_count": 28,
   "metadata": {},
   "outputs": [
    {
     "data": {
      "text/plain": [
       "str"
      ]
     },
     "execution_count": 28,
     "metadata": {},
     "output_type": "execute_result"
    }
   ],
   "source": [
    "type(cell_id)"
   ]
  },
  {
   "cell_type": "code",
   "execution_count": 29,
   "metadata": {},
   "outputs": [
    {
     "data": {
      "text/plain": [
       "'20190219 Slice 1 Cell 0'"
      ]
     },
     "execution_count": 29,
     "metadata": {},
     "output_type": "execute_result"
    }
   ],
   "source": [
    "cell_id"
   ]
  },
  {
   "cell_type": "code",
   "execution_count": 32,
   "metadata": {},
   "outputs": [],
   "source": [
    "column_label_list = list(clamp_levels_string)"
   ]
  },
  {
   "cell_type": "code",
   "execution_count": 33,
   "metadata": {},
   "outputs": [
    {
     "ename": "AttributeError",
     "evalue": "'str' object has no attribute 'columns'",
     "output_type": "error",
     "traceback": [
      "\u001b[0;31m---------------------------------------------------------------------------\u001b[0m",
      "\u001b[0;31mAttributeError\u001b[0m                            Traceback (most recent call last)",
      "\u001b[1;32mUntitled-1.ipynb Cell 23\u001b[0m in \u001b[0;36m<cell line: 4>\u001b[0;34m()\u001b[0m\n\u001b[1;32m      <a href='vscode-notebook-cell:Untitled-1.ipynb?jupyter-notebook#ch0000021untitled?line=0'>1</a>\u001b[0m \u001b[39m# Make a column \u001b[39;00m\n\u001b[0;32m----> <a href='vscode-notebook-cell:Untitled-1.ipynb?jupyter-notebook#ch0000021untitled?line=3'>4</a>\u001b[0m col_list[\u001b[39m0\u001b[39;49m]\u001b[39m.\u001b[39;49mcolumns\n",
      "\u001b[0;31mAttributeError\u001b[0m: 'str' object has no attribute 'columns'"
     ]
    }
   ],
   "source": [
    "# Make a column \n",
    "\n",
    "\n",
    "col_list[0].columns\n"
   ]
  },
  {
   "cell_type": "code",
   "execution_count": 38,
   "metadata": {},
   "outputs": [],
   "source": [
    "cell_list[0].columns = column_label_list"
   ]
  },
  {
   "cell_type": "code",
   "execution_count": 37,
   "metadata": {},
   "outputs": [
    {
     "data": {
      "text/plain": [
       "['-200.0',\n",
       " '-150.0',\n",
       " '-100.0',\n",
       " '-50.0',\n",
       " '0.0',\n",
       " '50.0',\n",
       " '100.0',\n",
       " '150.0',\n",
       " '200.0',\n",
       " '250.0',\n",
       " '300.0',\n",
       " '350.0',\n",
       " '400.0']"
      ]
     },
     "execution_count": 37,
     "metadata": {},
     "output_type": "execute_result"
    }
   ],
   "source": [
    "column_label_list"
   ]
  },
  {
   "cell_type": "code",
   "execution_count": 39,
   "metadata": {},
   "outputs": [
    {
     "data": {
      "text/plain": [
       "Index(['-200.0', '-150.0', '-100.0', '-50.0', '0.0', '50.0', '100.0', '150.0',\n",
       "       '200.0', '250.0', '300.0', '350.0', '400.0'],\n",
       "      dtype='object')"
      ]
     },
     "execution_count": 39,
     "metadata": {},
     "output_type": "execute_result"
    }
   ],
   "source": [
    "cell_list[0].columns"
   ]
  },
  {
   "cell_type": "code",
   "execution_count": 40,
   "metadata": {},
   "outputs": [
    {
     "data": {
      "text/plain": [
       "Index(['20180620 Slice 1 Cell 0', 'Unnamed: 17', 'Unnamed: 18', 'Unnamed: 19',\n",
       "       'Unnamed: 20', 'Unnamed: 21', 'Unnamed: 22', 'Unnamed: 23',\n",
       "       'Unnamed: 24', 'Unnamed: 25', 'Unnamed: 26', 'Unnamed: 27',\n",
       "       'Unnamed: 28'],\n",
       "      dtype='object')"
      ]
     },
     "execution_count": 40,
     "metadata": {},
     "output_type": "execute_result"
    }
   ],
   "source": [
    "cell_list[1].columns"
   ]
  },
  {
   "cell_type": "code",
   "execution_count": 41,
   "metadata": {},
   "outputs": [
    {
     "data": {
      "text/html": [
       "<div>\n",
       "<style scoped>\n",
       "    .dataframe tbody tr th:only-of-type {\n",
       "        vertical-align: middle;\n",
       "    }\n",
       "\n",
       "    .dataframe tbody tr th {\n",
       "        vertical-align: top;\n",
       "    }\n",
       "\n",
       "    .dataframe thead th {\n",
       "        text-align: right;\n",
       "    }\n",
       "</style>\n",
       "<table border=\"1\" class=\"dataframe\">\n",
       "  <thead>\n",
       "    <tr style=\"text-align: right;\">\n",
       "      <th></th>\n",
       "      <th>-200.0</th>\n",
       "      <th>-150.0</th>\n",
       "      <th>-100.0</th>\n",
       "      <th>-50.0</th>\n",
       "      <th>0.0</th>\n",
       "      <th>50.0</th>\n",
       "      <th>100.0</th>\n",
       "      <th>150.0</th>\n",
       "      <th>200.0</th>\n",
       "      <th>250.0</th>\n",
       "      <th>300.0</th>\n",
       "      <th>350.0</th>\n",
       "      <th>400.0</th>\n",
       "    </tr>\n",
       "  </thead>\n",
       "  <tbody>\n",
       "    <tr>\n",
       "      <th>0</th>\n",
       "      <td>-200.0000</td>\n",
       "      <td>-150.0000</td>\n",
       "      <td>-100.0000</td>\n",
       "      <td>-50.0000</td>\n",
       "      <td>0.0000</td>\n",
       "      <td>50.0000</td>\n",
       "      <td>100.0000</td>\n",
       "      <td>150.0000</td>\n",
       "      <td>200.0000</td>\n",
       "      <td>250.0000</td>\n",
       "      <td>300.0000</td>\n",
       "      <td>350.0000</td>\n",
       "      <td>400.0000</td>\n",
       "    </tr>\n",
       "    <tr>\n",
       "      <th>1</th>\n",
       "      <td>-75.2563</td>\n",
       "      <td>-74.8901</td>\n",
       "      <td>-75.4089</td>\n",
       "      <td>-74.9817</td>\n",
       "      <td>-75.4395</td>\n",
       "      <td>-75.3174</td>\n",
       "      <td>-75.1953</td>\n",
       "      <td>-75.8057</td>\n",
       "      <td>-76.4465</td>\n",
       "      <td>-78.3386</td>\n",
       "      <td>-79.9561</td>\n",
       "      <td>-80.8716</td>\n",
       "      <td>-82.0312</td>\n",
       "    </tr>\n",
       "    <tr>\n",
       "      <th>2</th>\n",
       "      <td>-75.2869</td>\n",
       "      <td>-74.8291</td>\n",
       "      <td>-75.5310</td>\n",
       "      <td>-74.9512</td>\n",
       "      <td>-75.3784</td>\n",
       "      <td>-75.3784</td>\n",
       "      <td>-75.1038</td>\n",
       "      <td>-75.8362</td>\n",
       "      <td>-76.3855</td>\n",
       "      <td>-78.3691</td>\n",
       "      <td>-80.0171</td>\n",
       "      <td>-80.8105</td>\n",
       "      <td>-81.9702</td>\n",
       "    </tr>\n",
       "    <tr>\n",
       "      <th>3</th>\n",
       "      <td>-75.2869</td>\n",
       "      <td>-74.8596</td>\n",
       "      <td>-75.4395</td>\n",
       "      <td>-74.9512</td>\n",
       "      <td>-75.4395</td>\n",
       "      <td>-75.2869</td>\n",
       "      <td>-75.1953</td>\n",
       "      <td>-75.7751</td>\n",
       "      <td>-76.3855</td>\n",
       "      <td>-78.3081</td>\n",
       "      <td>-79.9255</td>\n",
       "      <td>-80.9021</td>\n",
       "      <td>-82.0618</td>\n",
       "    </tr>\n",
       "    <tr>\n",
       "      <th>4</th>\n",
       "      <td>-75.2563</td>\n",
       "      <td>-74.8291</td>\n",
       "      <td>-75.4700</td>\n",
       "      <td>-75.0122</td>\n",
       "      <td>-75.4395</td>\n",
       "      <td>-75.3479</td>\n",
       "      <td>-75.1343</td>\n",
       "      <td>-75.8057</td>\n",
       "      <td>-76.5076</td>\n",
       "      <td>-78.3691</td>\n",
       "      <td>-79.9561</td>\n",
       "      <td>-80.7800</td>\n",
       "      <td>-81.9702</td>\n",
       "    </tr>\n",
       "    <tr>\n",
       "      <th>...</th>\n",
       "      <td>...</td>\n",
       "      <td>...</td>\n",
       "      <td>...</td>\n",
       "      <td>...</td>\n",
       "      <td>...</td>\n",
       "      <td>...</td>\n",
       "      <td>...</td>\n",
       "      <td>...</td>\n",
       "      <td>...</td>\n",
       "      <td>...</td>\n",
       "      <td>...</td>\n",
       "      <td>...</td>\n",
       "      <td>...</td>\n",
       "    </tr>\n",
       "    <tr>\n",
       "      <th>10996</th>\n",
       "      <td>-74.8596</td>\n",
       "      <td>-75.4395</td>\n",
       "      <td>-74.9207</td>\n",
       "      <td>-75.3784</td>\n",
       "      <td>-75.3784</td>\n",
       "      <td>-75.1038</td>\n",
       "      <td>-75.7141</td>\n",
       "      <td>-76.3855</td>\n",
       "      <td>-78.3997</td>\n",
       "      <td>-79.9866</td>\n",
       "      <td>-80.7800</td>\n",
       "      <td>-82.0007</td>\n",
       "      <td>-82.4585</td>\n",
       "    </tr>\n",
       "    <tr>\n",
       "      <th>10997</th>\n",
       "      <td>-74.8596</td>\n",
       "      <td>-75.4395</td>\n",
       "      <td>-74.9512</td>\n",
       "      <td>-75.3479</td>\n",
       "      <td>-75.3479</td>\n",
       "      <td>-75.1953</td>\n",
       "      <td>-75.8362</td>\n",
       "      <td>-76.3550</td>\n",
       "      <td>-78.3386</td>\n",
       "      <td>-79.9866</td>\n",
       "      <td>-80.8105</td>\n",
       "      <td>-81.9702</td>\n",
       "      <td>-82.3975</td>\n",
       "    </tr>\n",
       "    <tr>\n",
       "      <th>10998</th>\n",
       "      <td>-74.8291</td>\n",
       "      <td>-75.4700</td>\n",
       "      <td>-74.8901</td>\n",
       "      <td>-75.3479</td>\n",
       "      <td>-75.3174</td>\n",
       "      <td>-75.1038</td>\n",
       "      <td>-75.7751</td>\n",
       "      <td>-76.3855</td>\n",
       "      <td>-78.3997</td>\n",
       "      <td>-80.0171</td>\n",
       "      <td>-80.7495</td>\n",
       "      <td>-81.9702</td>\n",
       "      <td>-82.4585</td>\n",
       "    </tr>\n",
       "    <tr>\n",
       "      <th>10999</th>\n",
       "      <td>-74.8596</td>\n",
       "      <td>-75.4089</td>\n",
       "      <td>-74.9512</td>\n",
       "      <td>-75.4089</td>\n",
       "      <td>-75.3174</td>\n",
       "      <td>-75.1648</td>\n",
       "      <td>-75.8362</td>\n",
       "      <td>-76.4160</td>\n",
       "      <td>-78.3386</td>\n",
       "      <td>-79.9255</td>\n",
       "      <td>-80.8411</td>\n",
       "      <td>-82.0007</td>\n",
       "      <td>-82.3669</td>\n",
       "    </tr>\n",
       "    <tr>\n",
       "      <th>11000</th>\n",
       "      <td>-74.9207</td>\n",
       "      <td>-75.5005</td>\n",
       "      <td>-74.9817</td>\n",
       "      <td>-75.3174</td>\n",
       "      <td>-75.3479</td>\n",
       "      <td>-75.0732</td>\n",
       "      <td>-75.7446</td>\n",
       "      <td>-76.4160</td>\n",
       "      <td>-78.3691</td>\n",
       "      <td>-79.9561</td>\n",
       "      <td>-80.6885</td>\n",
       "      <td>-81.9702</td>\n",
       "      <td>-82.3975</td>\n",
       "    </tr>\n",
       "  </tbody>\n",
       "</table>\n",
       "<p>11001 rows × 13 columns</p>\n",
       "</div>"
      ],
      "text/plain": [
       "         -200.0    -150.0    -100.0    -50.0      0.0     50.0     100.0  \\\n",
       "0     -200.0000 -150.0000 -100.0000 -50.0000   0.0000  50.0000  100.0000   \n",
       "1      -75.2563  -74.8901  -75.4089 -74.9817 -75.4395 -75.3174  -75.1953   \n",
       "2      -75.2869  -74.8291  -75.5310 -74.9512 -75.3784 -75.3784  -75.1038   \n",
       "3      -75.2869  -74.8596  -75.4395 -74.9512 -75.4395 -75.2869  -75.1953   \n",
       "4      -75.2563  -74.8291  -75.4700 -75.0122 -75.4395 -75.3479  -75.1343   \n",
       "...         ...       ...       ...      ...      ...      ...       ...   \n",
       "10996  -74.8596  -75.4395  -74.9207 -75.3784 -75.3784 -75.1038  -75.7141   \n",
       "10997  -74.8596  -75.4395  -74.9512 -75.3479 -75.3479 -75.1953  -75.8362   \n",
       "10998  -74.8291  -75.4700  -74.8901 -75.3479 -75.3174 -75.1038  -75.7751   \n",
       "10999  -74.8596  -75.4089  -74.9512 -75.4089 -75.3174 -75.1648  -75.8362   \n",
       "11000  -74.9207  -75.5005  -74.9817 -75.3174 -75.3479 -75.0732  -75.7446   \n",
       "\n",
       "          150.0     200.0     250.0     300.0     350.0     400.0  \n",
       "0      150.0000  200.0000  250.0000  300.0000  350.0000  400.0000  \n",
       "1      -75.8057  -76.4465  -78.3386  -79.9561  -80.8716  -82.0312  \n",
       "2      -75.8362  -76.3855  -78.3691  -80.0171  -80.8105  -81.9702  \n",
       "3      -75.7751  -76.3855  -78.3081  -79.9255  -80.9021  -82.0618  \n",
       "4      -75.8057  -76.5076  -78.3691  -79.9561  -80.7800  -81.9702  \n",
       "...         ...       ...       ...       ...       ...       ...  \n",
       "10996  -76.3855  -78.3997  -79.9866  -80.7800  -82.0007  -82.4585  \n",
       "10997  -76.3550  -78.3386  -79.9866  -80.8105  -81.9702  -82.3975  \n",
       "10998  -76.3855  -78.3997  -80.0171  -80.7495  -81.9702  -82.4585  \n",
       "10999  -76.4160  -78.3386  -79.9255  -80.8411  -82.0007  -82.3669  \n",
       "11000  -76.4160  -78.3691  -79.9561  -80.6885  -81.9702  -82.3975  \n",
       "\n",
       "[11001 rows x 13 columns]"
      ]
     },
     "execution_count": 41,
     "metadata": {},
     "output_type": "execute_result"
    }
   ],
   "source": [
    "cell_list[1]"
   ]
  },
  {
   "cell_type": "code",
   "execution_count": 42,
   "metadata": {},
   "outputs": [],
   "source": [
    "cell_id_list = []"
   ]
  },
  {
   "cell_type": "code",
   "execution_count": 43,
   "metadata": {},
   "outputs": [
    {
     "data": {
      "text/plain": [
       "'20190219 Slice 1 Cell 0'"
      ]
     },
     "execution_count": 43,
     "metadata": {},
     "output_type": "execute_result"
    }
   ],
   "source": [
    " "
   ]
  },
  {
   "cell_type": "code",
   "execution_count": 46,
   "metadata": {},
   "outputs": [],
   "source": [
    "num_neuron = len(cell_list)"
   ]
  },
  {
   "cell_type": "code",
   "execution_count": 47,
   "metadata": {},
   "outputs": [
    {
     "data": {
      "text/plain": [
       "4"
      ]
     },
     "execution_count": 47,
     "metadata": {},
     "output_type": "execute_result"
    }
   ],
   "source": [
    "num_neuron"
   ]
  },
  {
   "cell_type": "code",
   "execution_count": null,
   "metadata": {},
   "outputs": [],
   "source": [
    "\n",
    "for i in range(num_neuron):\n",
    "    col_list = list(cell_list[i].columns)\n",
    "    \n"
   ]
  }
 ],
 "metadata": {
  "kernelspec": {
   "display_name": "Python 3.9.12 ('base')",
   "language": "python",
   "name": "python3"
  },
  "language_info": {
   "codemirror_mode": {
    "name": "ipython",
    "version": 3
   },
   "file_extension": ".py",
   "mimetype": "text/x-python",
   "name": "python",
   "nbconvert_exporter": "python",
   "pygments_lexer": "ipython3",
   "version": "3.9.12"
  },
  "orig_nbformat": 4,
  "vscode": {
   "interpreter": {
    "hash": "552b8fc327dd5dc954d070861a2cf4b43e1efcb1a1acd6402a79629ae6eb6246"
   }
  }
 },
 "nbformat": 4,
 "nbformat_minor": 2
}
