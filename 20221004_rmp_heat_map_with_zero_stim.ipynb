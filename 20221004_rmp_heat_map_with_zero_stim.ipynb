{
 "cells": [
  {
   "cell_type": "code",
   "execution_count": 1,
   "metadata": {},
   "outputs": [],
   "source": [
    "import pickle\n",
    "import numpy\n",
    "import matplotlib.pylab as plt\n",
    "%config InlineBackend.figure_format = 'retina'\n",
    "plt.style.use(\"https://raw.githubusercontent.com/NeuromatchAcademy/course-content/master/nma.mplstyle\")\n",
    "from datetime import datetime"
   ]
  },
  {
   "cell_type": "code",
   "execution_count": 2,
   "metadata": {},
   "outputs": [],
   "source": [
    "with open('rt_matrix_contrast_0_mV_0930_00_01.pkl', 'rb') as f:\n",
    "    data = pickle.load(f)"
   ]
  },
  {
   "cell_type": "code",
   "execution_count": 3,
   "metadata": {},
   "outputs": [],
   "source": [
    "def get_decision_time(pop_rate, threshold=25):\n",
    "    rate_A = pop_rate['pop_rate_a']\n",
    "    rate_B = pop_rate['pop_rate_b']\n",
    "    \n",
    "    above_thre_A = (pop_rate['pop_rate_a'] > threshold)\n",
    "    idx_over_threshold_A = numpy.where(above_thre_A==True)\n",
    "\n",
    "\n",
    "    above_thre_B = (pop_rate['pop_rate_b'] > threshold)\n",
    "    idx_over_threshold_B = numpy.where(above_thre_B==True)\n",
    "\n",
    "    # monitor each firing rate at every moment \n",
    "    decision_time_A = 0\n",
    "\n",
    "    decision_time_B = 0\n",
    "\n",
    "    for i in range(len(above_thre_A)):\n",
    "\n",
    "        # find the time when the divergen starts happening\n",
    "\n",
    "        above_thre_A = (rate_A > threshold)\n",
    "        idx_over_threshold_A = numpy.where(above_thre_A==True)\n",
    "\n",
    "\n",
    "        above_thre_B = (rate_B > threshold)\n",
    "        idx_over_threshold_B = numpy.where(above_thre_B==True)\n",
    "\n",
    "\n",
    "\n",
    "    if len(idx_over_threshold_A[0]) > 0:\n",
    "        decision_time_A = idx_over_threshold_A[0][0];\n",
    "        \n",
    "    else: \n",
    "        pass\n",
    "\n",
    "    if len(idx_over_threshold_B[0]) > 0:\n",
    "        decision_time_B = idx_over_threshold_B[0][0];\n",
    "\n",
    "    else: \n",
    "        pass\n",
    "    \n",
    "\n",
    "    #print(decision_time_A, decision_time_B)\n",
    "    return decision_time_A, decision_time_B"
   ]
  },
  {
   "cell_type": "code",
   "execution_count": 4,
   "metadata": {},
   "outputs": [],
   "source": [
    "def plot_rate(pop_rate):\n",
    "    rate_a = pop_rate['pop_rate_a']\n",
    "    rate_b = pop_rate['pop_rate_b']\n",
    "    time = pop_rate['time']\n",
    "    plt.rcParams['font.size'] = 18\n",
    "    \n",
    "    \n",
    "    plt.plot(time, rate_a,  linewidth= 2.5)\n",
    "    plt.plot(time, rate_b, linewidth= 2.5)\n",
    "    plt.ylabel('Firing rate (Spikes/s)')\n",
    "    plt.xlabel('time (ms)')\n",
    "    plt.legend(['Population A', 'Population B'])\n",
    "    plt.show()"
   ]
  },
  {
   "cell_type": "code",
   "execution_count": 5,
   "metadata": {},
   "outputs": [],
   "source": [
    "def get_rt_session(data):\n",
    "\n",
    "    def get_decision_time(pop_rate, threshold=25):\n",
    "        rate_A = pop_rate['pop_rate_a']\n",
    "        rate_B = pop_rate['pop_rate_b']\n",
    "        \n",
    "        above_thre_A = (pop_rate['pop_rate_a'] > threshold)\n",
    "        idx_over_threshold_A = numpy.where(above_thre_A==True)\n",
    "\n",
    "\n",
    "        above_thre_B = (pop_rate['pop_rate_b'] > threshold)\n",
    "        idx_over_threshold_B = numpy.where(above_thre_B==True)\n",
    "\n",
    "        # monitor each firing rate at every moment \n",
    "        decision_time_A = 0\n",
    "\n",
    "        decision_time_B = 0\n",
    "\n",
    "        for i in range(len(above_thre_A)):\n",
    "\n",
    "            # find the time when the divergen starts happening\n",
    "\n",
    "            above_thre_A = (rate_A > threshold)\n",
    "            idx_over_threshold_A = numpy.where(above_thre_A==True)\n",
    "\n",
    "\n",
    "            above_thre_B = (rate_B > threshold)\n",
    "            idx_over_threshold_B = numpy.where(above_thre_B==True)\n",
    "\n",
    "\n",
    "\n",
    "        if len(idx_over_threshold_A[0]) > 0:\n",
    "            decision_time_A = idx_over_threshold_A[0][0];\n",
    "            \n",
    "        else: \n",
    "            pass\n",
    "\n",
    "        if len(idx_over_threshold_B[0]) > 0:\n",
    "            decision_time_B = idx_over_threshold_B[0][0];\n",
    "\n",
    "        else: \n",
    "            pass\n",
    "    \n",
    "\n",
    "        #print(decision_time_A, decision_time_B)\n",
    "        return decision_time_A, decision_time_B\n",
    "\n",
    "\n",
    "    decision_times = []\n",
    "    rt = []\n",
    "\n",
    "    for i in range(len(data)):\n",
    "        \n",
    "        decision_time = get_decision_time(data[i])\n",
    "        \n",
    "        decision_times.append(decision_time)\n",
    "        rt.append(max(decision_time))\n",
    "\n",
    "    rt = [x for x in rt if x != 0]\n",
    "\n",
    "    #rt.remove(0)\n",
    "    #print(rt)\n",
    "\n",
    "    if len(rt) == 0:\n",
    "        mean_rt_in_realtime = 0\n",
    "\n",
    "    else:\n",
    "\n",
    "        rt_in_realtime = numpy.array(rt) - 1000\n",
    "        rt_in_realtime = rt_in_realtime/10\n",
    "        mean_rt_in_realtime = rt_in_realtime.mean()\n",
    "\n",
    "\n",
    "\n",
    "    return mean_rt_in_realtime"
   ]
  },
  {
   "cell_type": "code",
   "execution_count": 6,
   "metadata": {},
   "outputs": [
    {
     "data": {
      "text/plain": [
       "64"
      ]
     },
     "execution_count": 6,
     "metadata": {},
     "output_type": "execute_result"
    }
   ],
   "source": [
    "len(data)"
   ]
  },
  {
   "cell_type": "code",
   "execution_count": 7,
   "metadata": {},
   "outputs": [],
   "source": [
    "keysList = list(data.keys())\n"
   ]
  },
  {
   "cell_type": "code",
   "execution_count": 9,
   "metadata": {},
   "outputs": [],
   "source": [
    "rt_times_8_by_8 = {}"
   ]
  },
  {
   "cell_type": "code",
   "execution_count": 10,
   "metadata": {},
   "outputs": [],
   "source": [
    "for i in range(len(keysList)):\n",
    "    \n",
    "    rt_times_8_by_8[keysList[i]] =  get_rt_session(data[keysList[i]])"
   ]
  },
  {
   "cell_type": "code",
   "execution_count": 11,
   "metadata": {},
   "outputs": [],
   "source": [
    "with open('20221004_rt_times_8_by_8_zero_stim.pickle', 'wb') as handle:\n",
    "    pickle.dump(rt_times_8_by_8, handle, protocol=pickle.HIGHEST_PROTOCOL)\n",
    "    \n",
    "    \n",
    "    "
   ]
  },
  {
   "cell_type": "code",
   "execution_count": 17,
   "metadata": {},
   "outputs": [],
   "source": [
    "import seaborn as sns\n",
    "import pandas as pd\n"
   ]
  },
  {
   "cell_type": "code",
   "execution_count": 18,
   "metadata": {},
   "outputs": [],
   "source": [
    "s = pd.Series(rt_times_8_by_8, index=pd.MultiIndex.from_tuples(rt_times_8_by_8))\n",
    "df = s.unstack()\n"
   ]
  },
  {
   "cell_type": "code",
   "execution_count": null,
   "metadata": {},
   "outputs": [],
   "source": []
  },
  {
   "cell_type": "code",
   "execution_count": 19,
   "metadata": {},
   "outputs": [
    {
     "data": {
      "image/png": "[encoded data removed]",
      "text/plain": [
       "<Figure size 576x432 with 2 Axes>"
      ]
     },
     "metadata": {
      "image/png": {
       "height": 413,
       "width": 532
      },
      "needs_background": "light"
     },
     "output_type": "display_data"
    }
   ],
   "source": [
    "ytick_values = numpy.arange(1.5,2.2, 0.1)\n",
    "ytick_2 = numpy.round(ytick_values,2)\n",
    " \n",
    " \n",
    "ax = sns.heatmap(df, annot=False,  yticklabels=ytick_2, fmt='.2f', center=0)\n",
    "ax.set(ylabel='w_pos', xlabel='resting Vm (mV)')\n",
    "\n",
    "\n",
    "plt.show()\n",
    "    "
   ]
  },
  {
   "cell_type": "code",
   "execution_count": null,
   "metadata": {},
   "outputs": [],
   "source": []
  },
  {
   "cell_type": "code",
   "execution_count": null,
   "metadata": {},
   "outputs": [],
   "source": []
  }
 ],
 "metadata": {
  "kernelspec": {
   "display_name": "Python 3.10.4 ('bmnn')",
   "language": "python",
   "name": "python3"
  },
  "language_info": {
   "codemirror_mode": {
    "name": "ipython",
    "version": 3
   },
   "file_extension": ".py",
   "mimetype": "text/x-python",
   "name": "python",
   "nbconvert_exporter": "python",
   "pygments_lexer": "ipython3",
   "version": "3.10.4"
  },
  "orig_nbformat": 4,
  "vscode": {
   "interpreter": {
    "hash": "1b2949e6c5580fc9df5648611cf670f21304d55adc8d0a32adbc465980965ac6"
   }
  }
 },
 "nbformat": 4,
 "nbformat_minor": 2
}
