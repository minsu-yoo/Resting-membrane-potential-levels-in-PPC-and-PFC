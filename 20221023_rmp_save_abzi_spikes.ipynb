{
 "cells": [
  {
   "cell_type": "code",
   "execution_count": 5,
   "metadata": {},
   "outputs": [],
   "source": [
    "import wang\n",
    "\n",
    "import brian2 as b2\n",
    "from brian2 import NeuronGroup, Synapses, PoissonInput, PoissonGroup, network_operation\n",
    "from brian2.monitors import StateMonitor, SpikeMonitor, PopulationRateMonitor\n",
    "from random import sample\n",
    "import numpy.random as rnd\n",
    "from neurodynex3.tools import plot_tools\n",
    "import numpy as np\n",
    "import matplotlib.pyplot as plt\n",
    "from math import floor\n",
    "import time\n",
    "from datetime import datetime\n",
    "import pickle\n",
    "import numpy \n",
    "import wang_record_spikes\n",
    "\n",
    "b2.defaultclock.dt = 0.10 * b2.ms"
   ]
  },
  {
   "cell_type": "code",
   "execution_count": 6,
   "metadata": {},
   "outputs": [],
   "source": [
    "def network_sim(w_pos_value, rmp):\n",
    "    \n",
    "    # s_duration is the during which \n",
    "    \n",
    "    stim_duration = 700* b2.ms\n",
    "    end_sim = 1200* b2.ms\n",
    "    stim_start = 100 * b2.ms\n",
    "    base_rmp = rmp * b2.mV\n",
    "\n",
    "\n",
    "    results = wang_record_spikes.record_spikes(N_Excit=341, N_Inhib=85, weight_scaling_factor=6.0,\n",
    "                                    t_stimulus_start=stim_start, t_stimulus_duration=stim_duration,\n",
    "                                    coherence_level=+1.00, w_pos=w_pos_value, mu0_mean_stimulus_Hz=500 * b2.Hz,\n",
    "                                    max_sim_time=end_sim, E_leak_excit = base_rmp)\n",
    "    \n",
    "    \n",
    "    '''\n",
    "\n",
    "    plot_tools.plot_network_activity(results[\"rate_monitor_A\"], results[\"spike_monitor_A\"],\n",
    "                                results[\"voltage_monitor_A\"], t_min=0. * b2.ms, avg_window_width=2. * b2.ms,\n",
    "                                sup_title=\"Left\")\n",
    "    plot_tools.plot_network_activity(results[\"rate_monitor_B\"], results[\"spike_monitor_B\"],\n",
    "                                results[\"voltage_monitor_B\"], t_min=0. * b2.ms, avg_window_width=2. * b2.ms,\n",
    "                                sup_title=\"Right\")\n",
    "    plt.show() \n",
    "    \n",
    "    '''\n",
    "    return results"
   ]
  },
  {
   "cell_type": "code",
   "execution_count": 7,
   "metadata": {},
   "outputs": [
    {
     "name": "stdout",
     "output_type": "stream",
     "text": [
      "simulating 426 neurons. Start: Sun Oct 23 21:22:12 2022\n",
      "sim end: Sun Oct 23 21:22:54 2022\n"
     ]
    }
   ],
   "source": [
    "results = network_sim(1.9, -75.0)"
   ]
  },
  {
   "cell_type": "code",
   "execution_count": 8,
   "metadata": {},
   "outputs": [],
   "source": [
    "spike_a = results[\"spike_monitor_A\"] \n",
    "spike_b = results[\"spike_monitor_B\"] \n",
    "spike_z = results[\"spike_monitor_Z\"] \n",
    "spike_inhib = results[\"spike_monitor_inhib\"] "
   ]
  },
  {
   "cell_type": "code",
   "execution_count": 9,
   "metadata": {},
   "outputs": [
    {
     "data": {
      "text/plain": [
       "2797"
      ]
     },
     "execution_count": 9,
     "metadata": {},
     "output_type": "execute_result"
    }
   ],
   "source": [
    "len(spike_a.t/b2.msecond)"
   ]
  },
  {
   "cell_type": "code",
   "execution_count": 9,
   "metadata": {},
   "outputs": [],
   "source": [
    "def spikes_to_array(b2_spikes):\n",
    "\n",
    "    spike_dict = {}\n",
    "\n",
    "    sp_time_array = b2_spikes.t/b2.msecond\n",
    "    sp_idx_array = b2_spikes.i[:]\n",
    "    spike_dict['sp_time'] = sp_time_array\n",
    "    spike_dict['sp_idx'] = sp_idx_array\n",
    "    return spike_dict\n",
    "\n",
    "\n"
   ]
  },
  {
   "cell_type": "code",
   "execution_count": 10,
   "metadata": {},
   "outputs": [],
   "source": [
    "a_spikes = spikes_to_array(spike_a)\n"
   ]
  },
  {
   "cell_type": "code",
   "execution_count": 12,
   "metadata": {},
   "outputs": [],
   "source": [
    "a_spikes = spikes_to_array(spike_a)\n",
    "b_spikes = spikes_to_array(spike_b)\n",
    "z_spikes = spikes_to_array(spike_z)\n",
    "inhib_spikes = spikes_to_array(spike_inhib)\n",
    "\n",
    "\n",
    "\n"
   ]
  },
  {
   "cell_type": "code",
   "execution_count": 13,
   "metadata": {},
   "outputs": [],
   "source": [
    "spike_data = {}\n",
    "spike_data['a'] = a_spikes\n",
    "spike_data['b'] = b_spikes\n",
    "spike_data['z'] = z_spikes\n",
    "spike_data['inhib'] = inhib_spikes\n",
    "\n"
   ]
  },
  {
   "cell_type": "code",
   "execution_count": 14,
   "metadata": {},
   "outputs": [],
   "source": [
    "with open('abzi_spikes_1023.pickle', 'wb') as handle:\n",
    "    pickle.dump(spike_data, handle, protocol=pickle.HIGHEST_PROTOCOL)"
   ]
  },
  {
   "cell_type": "code",
   "execution_count": 14,
   "metadata": {},
   "outputs": [
    {
     "ename": "AttributeError",
     "evalue": "'NoneType' object has no attribute 'keys'",
     "output_type": "error",
     "traceback": [
      "\u001b[0;31m---------------------------------------------------------------------------\u001b[0m",
      "\u001b[0;31mAttributeError\u001b[0m                            Traceback (most recent call last)",
      "\u001b[1;32mUntitled-1.ipynb Cell 9\u001b[0m in \u001b[0;36m<cell line: 1>\u001b[0;34m()\u001b[0m\n\u001b[0;32m----> <a href='vscode-notebook-cell:Untitled-1.ipynb?jupyter-notebook#X11sdW50aXRsZWQ%3D?line=0'>1</a>\u001b[0m a_spikes\u001b[39m.\u001b[39;49mkeys()\n",
      "\u001b[0;31mAttributeError\u001b[0m: 'NoneType' object has no attribute 'keys'"
     ]
    }
   ],
   "source": [
    "a_spikes.keys()"
   ]
  },
  {
   "cell_type": "code",
   "execution_count": null,
   "metadata": {},
   "outputs": [],
   "source": []
  }
 ],
 "metadata": {
  "kernelspec": {
   "display_name": "Python 3.10.6 ('bmnn')",
   "language": "python",
   "name": "python3"
  },
  "language_info": {
   "codemirror_mode": {
    "name": "ipython",
    "version": 3
   },
   "file_extension": ".py",
   "mimetype": "text/x-python",
   "name": "python",
   "nbconvert_exporter": "python",
   "pygments_lexer": "ipython3",
   "version": "3.10.6"
  },
  "orig_nbformat": 4,
  "vscode": {
   "interpreter": {
    "hash": "5eb0974e77c5d1dffbede7f24495ffa6132721472c12bfe3db015b86caa3d969"
   }
  }
 },
 "nbformat": 4,
 "nbformat_minor": 2
}
