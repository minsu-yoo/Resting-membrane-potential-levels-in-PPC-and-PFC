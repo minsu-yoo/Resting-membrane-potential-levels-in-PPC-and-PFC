{
 "cells": [
  {
   "cell_type": "code",
   "execution_count": 296,
   "id": "65dba47b",
   "metadata": {},
   "outputs": [],
   "source": [
    "import brian2 as b2\n",
    "from brian2 import NeuronGroup, Synapses, PoissonInput, PoissonGroup, network_operation\n",
    "from brian2.monitors import StateMonitor, SpikeMonitor, PopulationRateMonitor\n",
    "from random import sample\n",
    "import numpy.random as rnd\n",
    "from neurodynex3.tools import plot_tools\n",
    "import numpy\n",
    "import matplotlib.pyplot as plt\n",
    "from math import floor\n",
    "import time\n",
    "import pickle\n",
    "\n",
    "b2.defaultclock.dt = 0.10 * b2.ms\n",
    "\n",
    "from brian2 import *"
   ]
  },
  {
   "cell_type": "code",
   "execution_count": 297,
   "id": "6260ed51",
   "metadata": {},
   "outputs": [],
   "source": [
    "def nmda_by_x(x_rate, w_pos):\n",
    "    \n",
    "    start_scope()\n",
    "    #w_pos = 1.9\n",
    "    N_Excit=384\n",
    "    N_Inhib=96\n",
    "    weight_scaling_factor=5.33\n",
    "    t_stimulus_start=100 * b2.ms\n",
    "    t_stimulus_duration=9999 * b2.ms\n",
    "    coherence_level=0.\n",
    "    stimulus_update_interval=30 * b2.ms\n",
    "    mu0_mean_stimulus_Hz=250.\n",
    "    stimulus_std_Hz=20.\n",
    "    N_extern=1000\n",
    "    firing_rate_extern=9.8 * b2.Hz\n",
    "    f_Subpop_size=0.25  # .15 in publication [1]                     \n",
    "    max_sim_time=1000. * b2.ms \n",
    "    stop_condition_rate=None\n",
    "\n",
    "    monitored_subset_size=512, \n",
    "    E_leak_excit = -70.0 * b2.mV\n",
    "\n",
    "    print(\"simulating {} neurons. Start: {}\".format(N_Excit + N_Inhib, time.ctime()))\n",
    "    t_stimulus_end = t_stimulus_start + t_stimulus_duration\n",
    "\n",
    "    N_Group_A = int(N_Excit * f_Subpop_size)  # size of the excitatory subpopulation sensitive to stimulus A\n",
    "    N_Group_B = N_Group_A  # size of the excitatory subpopulation sensitive to stimulus B\n",
    "    N_Group_Z = N_Excit - N_Group_A - N_Group_B  # (1-2f)Ne excitatory neurons do not respond to either stimulus.\n",
    "\n",
    "    Cm_excit = 0.5 * b2.nF  # membrane capacitance of excitatory neurons\n",
    "    G_leak_excit = 25.0 * b2.nS  # leak conductance\n",
    "    E_leak_excit = -70.0 * b2.mV  # reversal potential   #######################################################\n",
    "    v_spike_thr_excit = -50.0 * b2.mV  # spike condition\n",
    "    v_reset_excit = -60.0 * b2.mV  # reset voltage after spike\n",
    "    t_abs_refract_excit = 2. * b2.ms  # absolute refractory period\n",
    "\n",
    "    # specify the inhibitory interneurons:\n",
    "    # N_Inhib = 200\n",
    "    Cm_inhib = 0.2 * b2.nF\n",
    "    G_leak_inhib = 20.0 * b2.nS\n",
    "    E_leak_inhib = -90.0 * b2.mV\n",
    "    v_spike_thr_inhib = -50.0 * b2.mV\n",
    "    v_reset_inhib = -60.0 * b2.mV\n",
    "    t_abs_refract_inhib = 1.0 * b2.ms\n",
    "\n",
    "    # specify the AMPA synapses\n",
    "    E_AMPA = 0.0 * b2.mV\n",
    "    tau_AMPA = 2.5 * b2.ms\n",
    "\n",
    "    # specify the GABA synapses\n",
    "    E_GABA = -70.0 * b2.mV\n",
    "    tau_GABA = 5.0 * b2.ms\n",
    "\n",
    "    # specify the NMDA synapses\n",
    "    E_NMDA = 0.0 * b2.mV\n",
    "    tau_NMDA_s = 2.0 * b2.ms\n",
    "    tau_NMDA_x = 2. * b2.ms\n",
    "    alpha_NMDA = 0.5 * b2.kHz\n",
    "\n",
    "    # projections from the external population\n",
    "    g_AMPA_extern2inhib = 1.62 * b2.nS\n",
    "    g_AMPA_extern2excit = 2.1 * b2.nS\n",
    "\n",
    "    # projectsions from the inhibitory populations\n",
    "    g_GABA_inhib2inhib = weight_scaling_factor * 1.25 * b2.nS\n",
    "    g_GABA_inhib2excit = weight_scaling_factor * 1.60 * b2.nS\n",
    "\n",
    "    # projections from the excitatory population\n",
    "    g_AMPA_excit2excit = weight_scaling_factor * 0.012 * b2.nS\n",
    "    g_AMPA_excit2inhib = weight_scaling_factor * 0.015 * b2.nS\n",
    "    g_NMDA_excit2excit = weight_scaling_factor * 0.040 * b2.nS\n",
    "    g_NMDA_excit2inhib = weight_scaling_factor * 0.045 * b2.nS  # stronger projection to inhib.\n",
    "\n",
    "    # weights and \"adjusted\" weights.\n",
    "    w_neg = 1. - f_Subpop_size * (w_pos - 1.) / (1. - f_Subpop_size)\n",
    "    # We use the same postsyn AMPA and NMDA conductances. Adjust the weights coming from different sources:\n",
    "    w_ext2inhib = g_AMPA_extern2inhib / g_AMPA_excit2inhib\n",
    "    w_ext2excit = g_AMPA_extern2excit / g_AMPA_excit2excit\n",
    "    # other weights are 1\n",
    "    # print(\"w_neg={}, w_ext2inhib={}, w_ext2excit={}\".format(w_neg, w_ext2inhib, w_ext2excit))A\n",
    "    # Define the inhibitory population\n",
    "\n",
    "\n",
    "\n",
    "    excit_lif_dynamics = \"\"\"\n",
    "            s_NMDA_total : 1  # the post synaptic sum of s. compare with s_NMDA_presyn\n",
    "            dv/dt = (\n",
    "            - G_leak_excit * (v-E_leak_excit)\n",
    "            - g_AMPA_excit2excit * s_AMPA * (v-E_AMPA)\n",
    "            - g_GABA_inhib2excit * s_GABA * (v-E_GABA)\n",
    "            - g_NMDA_excit2excit * s_NMDA_total * (v-E_NMDA)/(1.0+1.0*exp(-0.062*v/volt)/3.57)\n",
    "            )/Cm_excit : volt (unless refractory)\n",
    "            ds_AMPA/dt = -s_AMPA/tau_AMPA : 1\n",
    "            ds_GABA/dt = -s_GABA/tau_GABA : 1\n",
    "            ds_NMDA/dt = -s_NMDA/tau_NMDA_s + alpha_NMDA * x * (1-s_NMDA) : 1\n",
    "            dx/dt = -x/tau_NMDA_x : 1\n",
    "        \"\"\"\n",
    "    \n",
    "    excit_lif_dynamics_nmda = \"\"\"\n",
    "            s_NMDA_total : 1  # the post synaptic sum of s. compare with s_NMDA_presyn\n",
    "            dv/dt = (\n",
    "            - G_leak_excit * (v-E_leak_excit)\n",
    "            - g_AMPA_excit2excit * s_AMPA * (v-E_AMPA)\n",
    "            - g_GABA_inhib2excit * s_GABA * (v-E_GABA)\n",
    "            - g_NMDA_excit2excit * s_NMDA_total * (v-E_NMDA)/(1.0+1.0*exp(-0.062*v/volt)/3.57)\n",
    "            )/Cm_excit : volt (unless refractory)\n",
    "            ds_AMPA/dt = -s_AMPA/tau_AMPA : 1\n",
    "            ds_GABA/dt = -s_GABA/tau_GABA : 1\n",
    "            ds_NMDA/dt = -s_NMDA/tau_NMDA_s + alpha_NMDA * x * (1-s_NMDA) : 1\n",
    "            dx/dt = -x/tau_NMDA_x : 1\n",
    "        \"\"\"\n",
    "\n",
    "\n",
    "    one_neuron = NeuronGroup(1, model=excit_lif_dynamics_nmda,\n",
    "                            threshold=\"v>v_spike_thr_excit\", reset=\"v=v_reset_excit\",\n",
    "                            refractory=t_abs_refract_excit, method=\"rk2\")\n",
    "\n",
    "    one_neuron.v = rnd.uniform(E_leak_excit / b2.mV, high=E_leak_excit / b2.mV + 5., size=one_neuron.N) * b2.mV\n",
    "\n",
    "\n",
    "\n",
    "\n",
    "    # network parameters\n",
    "    N_E = 1000\n",
    "    gamma = 0.25\n",
    "    N_I = round(gamma * N_E)\n",
    "    N = N_E + N_I\n",
    "    epsilon = 0.1\n",
    "    C_E = epsilon * N_E\n",
    "    C_ext = C_E\n",
    "\n",
    "    # neuron parameters\n",
    "    tau = 10 * ms\n",
    "    theta = 1 * mV\n",
    "    V_r = 0 * mV\n",
    "    tau_rp = 2 * ms\n",
    "\n",
    "    # synapse parameters\n",
    "    J = 0.1 * mV\n",
    "    D = 1.5 * ms\n",
    "    nu_ext = 10 *Hz\n",
    "    # external stimulus\n",
    "    nu_thr = theta / (J * C_E * tau)\n",
    "\n",
    "    defaultclock.dt = 0.1 * ms\n",
    "\n",
    "    Poisson_NE = 1000\n",
    "    g = 1\n",
    "\n",
    "    #w_pos= 1.9\n",
    "\n",
    "\n",
    "\n",
    "    # with and without NMDA 와 비교하기 \n",
    "    exc_poisson_input = PoissonInput(\n",
    "            target=one_neuron, target_var=\"s_AMPA\", N=N_E, rate=1*nu_ext, weight= w_ext2excit)       \n",
    "\n",
    "    inh_poisson_input = PoissonInput(\n",
    "            target=one_neuron, target_var=\"s_GABA\", N=N_I, rate=1*nu_ext, weight= w_ext2inhib)\n",
    "\n",
    "    nmda_poisson_input = PoissonInput(\n",
    "            target=one_neuron, target_var=\"x\", N=1, rate= x_rate*Hz, weight= 1 )\n",
    "\n",
    "    #NDMA input \n",
    "    sNMDA_A_total = []\n",
    "\n",
    "    @network_operation()\n",
    "    def update_nmda_sum():\n",
    "            sum_sNMDA_A = 300*sum(one_neuron.s_NMDA)\n",
    "\n",
    "            #sum_sNMDA_A = 100\n",
    "\n",
    "            # note the _ at the end of s_NMDA_total_ disables unit checking\n",
    "            one_neuron.s_NMDA_total_ = (w_pos * sum_sNMDA_A)  ## 자기 자신의 nmda input 만을 받는다. \n",
    "            sNMDA_A_total.append(sum_sNMDA_A)\n",
    "\n",
    "\n",
    "    # set a self-recurrent synapse to introduce a delay when updating the intermediate\n",
    "    # gating variable x\n",
    "\n",
    "    syn_x_A2A = Synapses(one_neuron, one_neuron, on_pre=\"x += 1.\", delay=0.5 * b2.ms)\n",
    "    syn_x_A2A.connect(j=\"i\")\n",
    "\n",
    "    rmp_monitor = StateMonitor(one_neuron, 'v', record = 0)\n",
    "\n",
    "    x_monitor = StateMonitor(one_neuron, 'x', record = 0)\n",
    "    s_monitor = StateMonitor(one_neuron, 's_NMDA', record = 0)\n",
    "\n",
    "\n",
    "    rmp_in_mV = 1000*(rmp_monitor.v[0])\n",
    "\n",
    "    rmp_in_mV = 1000*(rmp_monitor.v[0])\n",
    "\n",
    "\n",
    "\n",
    "\n",
    "    run(1200*ms, report='text')\n",
    "\n",
    "    time_in_ms = (rmp_monitor.t/ms)/1000\n",
    "    rmp_in_mV = (rmp_monitor.v[0])/b2.mV\n",
    "    \n",
    "    \n",
    "    return time_in_ms, rmp_in_mV   # the unit is ms and mV "
   ]
  },
  {
   "cell_type": "code",
   "execution_count": 298,
   "id": "c7af457c",
   "metadata": {},
   "outputs": [
    {
     "name": "stdout",
     "output_type": "stream",
     "text": [
      "simulating 480 neurons. Start: Thu Dec 15 16:50:00 2022\n",
      "Starting simulation at t=0. s for a duration of 1.2 s\n",
      "1.2 s (100%) simulated in 2s\n"
     ]
    },
    {
     "data": {
      "text/plain": [
       "array([[0., 0., 0., ..., 0., 0., 0.],\n",
       "       [0., 0., 0., ..., 0., 0., 0.],\n",
       "       [0., 0., 0., ..., 0., 0., 0.],\n",
       "       ...,\n",
       "       [0., 0., 0., ..., 0., 0., 0.],\n",
       "       [0., 0., 0., ..., 0., 0., 0.],\n",
       "       [0., 0., 0., ..., 0., 0., 0.]])"
      ]
     },
     "execution_count": 298,
     "metadata": {},
     "output_type": "execute_result"
    }
   ],
   "source": [
    "a = nmda_by_x(100, 1.8)\n",
    "num_time = len(a[0])\n",
    "\n",
    "num_trial = 20\n",
    "\n",
    "\n",
    "\n",
    "rmp_mat = numpy.zeros([num_trial, num_time])\n",
    "rmp_mat[:10]\n",
    "\n"
   ]
  },
  {
   "cell_type": "code",
   "execution_count": 299,
   "id": "7cba42ae",
   "metadata": {},
   "outputs": [
    {
     "name": "stdout",
     "output_type": "stream",
     "text": [
      "simulating 480 neurons. Start: Thu Dec 15 16:50:02 2022\n",
      "Starting simulation at t=0. s for a duration of 1.2 s\n",
      "1.2 s (100%) simulated in 2s\n",
      "simulating 480 neurons. Start: Thu Dec 15 16:50:05 2022\n",
      "Starting simulation at t=0. s for a duration of 1.2 s\n",
      "1.2 s (100%) simulated in 2s\n",
      "simulating 480 neurons. Start: Thu Dec 15 16:50:07 2022\n",
      "Starting simulation at t=0. s for a duration of 1.2 s\n",
      "1.2 s (100%) simulated in 2s\n",
      "simulating 480 neurons. Start: Thu Dec 15 16:50:09 2022\n",
      "Starting simulation at t=0. s for a duration of 1.2 s\n",
      "1.2 s (100%) simulated in 2s\n",
      "simulating 480 neurons. Start: Thu Dec 15 16:50:11 2022\n",
      "Starting simulation at t=0. s for a duration of 1.2 s\n",
      "1.2 s (100%) simulated in 2s\n",
      "simulating 480 neurons. Start: Thu Dec 15 16:50:13 2022\n",
      "Starting simulation at t=0. s for a duration of 1.2 s\n",
      "1.2 s (100%) simulated in 2s\n",
      "simulating 480 neurons. Start: Thu Dec 15 16:50:16 2022\n",
      "Starting simulation at t=0. s for a duration of 1.2 s\n",
      "1.2 s (100%) simulated in 2s\n",
      "simulating 480 neurons. Start: Thu Dec 15 16:50:18 2022\n",
      "Starting simulation at t=0. s for a duration of 1.2 s\n",
      "1.2 s (100%) simulated in 2s\n",
      "simulating 480 neurons. Start: Thu Dec 15 16:50:20 2022\n",
      "Starting simulation at t=0. s for a duration of 1.2 s\n",
      "1.2 s (100%) simulated in 2s\n",
      "simulating 480 neurons. Start: Thu Dec 15 16:50:22 2022\n",
      "Starting simulation at t=0. s for a duration of 1.2 s\n",
      "1.2 s (100%) simulated in 2s\n",
      "simulating 480 neurons. Start: Thu Dec 15 16:50:24 2022\n",
      "Starting simulation at t=0. s for a duration of 1.2 s\n",
      "1.2 s (100%) simulated in 2s\n",
      "simulating 480 neurons. Start: Thu Dec 15 16:50:27 2022\n",
      "Starting simulation at t=0. s for a duration of 1.2 s\n",
      "1.2 s (100%) simulated in 2s\n",
      "simulating 480 neurons. Start: Thu Dec 15 16:50:29 2022\n",
      "Starting simulation at t=0. s for a duration of 1.2 s\n",
      "1.2 s (100%) simulated in 2s\n",
      "simulating 480 neurons. Start: Thu Dec 15 16:50:31 2022\n",
      "Starting simulation at t=0. s for a duration of 1.2 s\n",
      "1.2 s (100%) simulated in 2s\n",
      "simulating 480 neurons. Start: Thu Dec 15 16:50:33 2022\n",
      "Starting simulation at t=0. s for a duration of 1.2 s\n",
      "1.2 s (100%) simulated in 2s\n",
      "simulating 480 neurons. Start: Thu Dec 15 16:50:35 2022\n",
      "Starting simulation at t=0. s for a duration of 1.2 s\n",
      "1.2 s (100%) simulated in 2s\n",
      "simulating 480 neurons. Start: Thu Dec 15 16:50:37 2022\n",
      "Starting simulation at t=0. s for a duration of 1.2 s\n",
      "1.2 s (100%) simulated in 2s\n",
      "simulating 480 neurons. Start: Thu Dec 15 16:50:40 2022\n",
      "Starting simulation at t=0. s for a duration of 1.2 s\n",
      "1.2 s (100%) simulated in 2s\n",
      "simulating 480 neurons. Start: Thu Dec 15 16:50:42 2022\n",
      "Starting simulation at t=0. s for a duration of 1.2 s\n",
      "1.2 s (100%) simulated in 2s\n",
      "simulating 480 neurons. Start: Thu Dec 15 16:50:44 2022\n",
      "Starting simulation at t=0. s for a duration of 1.2 s\n",
      "1.2 s (100%) simulated in 2s\n"
     ]
    }
   ],
   "source": [
    "for trial_idx in range((num_trial)):\n",
    "    result = nmda_by_x(100, 1.5)\n",
    "    rmp = result[1]\n",
    "    rmp_mat[trial_idx,:] = rmp"
   ]
  },
  {
   "cell_type": "code",
   "execution_count": 300,
   "id": "6aae7615",
   "metadata": {},
   "outputs": [],
   "source": [
    "rmp_mat_1p5 = rmp_mat\n",
    "\n",
    "rmp_mean_1p5 = numpy.mean(rmp_mat, axis=0)\n",
    "rmp_sem_1p5 = numpy.std(rmp_mat, axis=0)/numpy.sqrt(num_trial)"
   ]
  },
  {
   "cell_type": "code",
   "execution_count": 301,
   "id": "28a99708",
   "metadata": {},
   "outputs": [],
   "source": [
    "rmp_mat_1p5 = rmp_mat\n",
    "\n",
    "rmp_mean_1p5 = numpy.mean(rmp_mat, axis=0)\n",
    "rmp_sem_1p5 = numpy.std(rmp_mat, axis=0)/numpy.sqrt(num_trial)"
   ]
  },
  {
   "cell_type": "code",
   "execution_count": 302,
   "id": "189482a3",
   "metadata": {},
   "outputs": [
    {
     "name": "stdout",
     "output_type": "stream",
     "text": [
      "simulating 480 neurons. Start: Thu Dec 15 16:50:46 2022\n",
      "Starting simulation at t=0. s for a duration of 1.2 s\n",
      "1.2 s (100%) simulated in 2s\n",
      "simulating 480 neurons. Start: Thu Dec 15 16:50:48 2022\n",
      "Starting simulation at t=0. s for a duration of 1.2 s\n",
      "1.2 s (100%) simulated in 2s\n",
      "simulating 480 neurons. Start: Thu Dec 15 16:50:51 2022\n",
      "Starting simulation at t=0. s for a duration of 1.2 s\n",
      "1.2 s (100%) simulated in 2s\n",
      "simulating 480 neurons. Start: Thu Dec 15 16:50:53 2022\n",
      "Starting simulation at t=0. s for a duration of 1.2 s\n",
      "1.2 s (100%) simulated in 2s\n",
      "simulating 480 neurons. Start: Thu Dec 15 16:50:55 2022\n",
      "Starting simulation at t=0. s for a duration of 1.2 s\n",
      "1.2 s (100%) simulated in 2s\n",
      "simulating 480 neurons. Start: Thu Dec 15 16:50:57 2022\n",
      "Starting simulation at t=0. s for a duration of 1.2 s\n",
      "1.2 s (100%) simulated in 2s\n",
      "simulating 480 neurons. Start: Thu Dec 15 16:50:59 2022\n",
      "Starting simulation at t=0. s for a duration of 1.2 s\n",
      "1.2 s (100%) simulated in 2s\n",
      "simulating 480 neurons. Start: Thu Dec 15 16:51:02 2022\n",
      "Starting simulation at t=0. s for a duration of 1.2 s\n",
      "1.2 s (100%) simulated in 2s\n",
      "simulating 480 neurons. Start: Thu Dec 15 16:51:04 2022\n",
      "Starting simulation at t=0. s for a duration of 1.2 s\n",
      "1.2 s (100%) simulated in 2s\n",
      "simulating 480 neurons. Start: Thu Dec 15 16:51:06 2022\n",
      "Starting simulation at t=0. s for a duration of 1.2 s\n",
      "1.2 s (100%) simulated in 2s\n",
      "simulating 480 neurons. Start: Thu Dec 15 16:51:08 2022\n",
      "Starting simulation at t=0. s for a duration of 1.2 s\n",
      "1.2 s (100%) simulated in 2s\n",
      "simulating 480 neurons. Start: Thu Dec 15 16:51:10 2022\n",
      "Starting simulation at t=0. s for a duration of 1.2 s\n",
      "1.2 s (100%) simulated in 2s\n",
      "simulating 480 neurons. Start: Thu Dec 15 16:51:13 2022\n",
      "Starting simulation at t=0. s for a duration of 1.2 s\n",
      "1.2 s (100%) simulated in 2s\n",
      "simulating 480 neurons. Start: Thu Dec 15 16:51:15 2022\n",
      "Starting simulation at t=0. s for a duration of 1.2 s\n",
      "1.2 s (100%) simulated in 2s\n",
      "simulating 480 neurons. Start: Thu Dec 15 16:51:17 2022\n",
      "Starting simulation at t=0. s for a duration of 1.2 s\n",
      "1.2 s (100%) simulated in 2s\n",
      "simulating 480 neurons. Start: Thu Dec 15 16:51:19 2022\n",
      "Starting simulation at t=0. s for a duration of 1.2 s\n",
      "1.2 s (100%) simulated in 2s\n",
      "simulating 480 neurons. Start: Thu Dec 15 16:51:21 2022\n",
      "Starting simulation at t=0. s for a duration of 1.2 s\n",
      "1.2 s (100%) simulated in 2s\n",
      "simulating 480 neurons. Start: Thu Dec 15 16:51:24 2022\n",
      "Starting simulation at t=0. s for a duration of 1.2 s\n",
      "1.2 s (100%) simulated in 2s\n",
      "simulating 480 neurons. Start: Thu Dec 15 16:51:26 2022\n",
      "Starting simulation at t=0. s for a duration of 1.2 s\n",
      "1.2 s (100%) simulated in 2s\n",
      "simulating 480 neurons. Start: Thu Dec 15 16:51:28 2022\n",
      "Starting simulation at t=0. s for a duration of 1.2 s\n",
      "1.2 s (100%) simulated in 2s\n"
     ]
    }
   ],
   "source": [
    "rmp_mat = numpy.zeros([num_trial, num_time])\n",
    "\n",
    "\n",
    "for trial_idx in range(num_trial):\n",
    "    result = nmda_by_x(100, 2.2)\n",
    "    rmp = result[1]\n",
    "    rmp_mat[trial_idx,:] = rmp\n",
    "    \n",
    "    \n",
    "    "
   ]
  },
  {
   "cell_type": "code",
   "execution_count": 303,
   "id": "87903eb9",
   "metadata": {},
   "outputs": [],
   "source": [
    "time = result[0]\n",
    "\n"
   ]
  },
  {
   "cell_type": "code",
   "execution_count": 304,
   "id": "066062c6",
   "metadata": {},
   "outputs": [],
   "source": [
    "rmp_mean = numpy.mean(rmp_mat, axis=0)\n",
    "rmp_sem = numpy.std(rmp_mat, axis=0)/numpy.sqrt(num_trial)"
   ]
  },
  {
   "cell_type": "code",
   "execution_count": 305,
   "id": "801c3316",
   "metadata": {},
   "outputs": [
    {
     "data": {
      "image/png": "[encoded data removed]",
      "text/plain": [
       "<Figure size 800x600 with 1 Axes>"
      ]
     },
     "metadata": {},
     "output_type": "display_data"
    }
   ],
   "source": [
    "fig, ax = plt.subplots(1,figsize=(8, 6))\n",
    "\n",
    "ax.plot(result[0], rmp_mean, 'm-', label='w_pos = 2.2', linewidth=0.8) \n",
    "ax.fill_between(time, rmp_mean - rmp_sem, rmp_mean + rmp_sem, color='m', alpha=0.2)\n",
    "\n",
    "ax.plot(result[0], rmp_mean_1p5, 'c-', label='w_pos = 1.5', linewidth=0.8) \n",
    "ax.fill_between(time, rmp_mean_1p5 - rmp_sem_1p5, rmp_mean_1p5 + rmp_sem_1p5, color='c', alpha=0.2)\n",
    "\n",
    "\n",
    "\n",
    "ax.set_ylim([-70, -60])\n",
    "\n",
    "ax.legend()\n",
    "\n",
    "\n",
    "ax.spines['top'].set_visible(False)\n",
    "ax.spines['right'].set_visible(False)\n",
    "\n",
    "\n",
    "\n",
    "ax.set_xlabel('time (s)')\n",
    "ax.set_ylabel('membrane potential (mV)')\n",
    "plt.rcParams.update({'font.size': 24})\n",
    "plt.savefig(\"figure6_one_cell_by_w_pos_nmda_input.svg\", transparent=True)    \n",
    "\n",
    "\n",
    "\n",
    "plt.show()"
   ]
  },
  {
   "cell_type": "code",
   "execution_count": 306,
   "id": "c9473b4b",
   "metadata": {},
   "outputs": [],
   "source": [
    "ave_points_2p2 = rmp_mat.mean(axis =1)"
   ]
  },
  {
   "cell_type": "code",
   "execution_count": 307,
   "id": "c96d4c32",
   "metadata": {},
   "outputs": [],
   "source": [
    "ave_points_1p5 = rmp_mat_1p5.mean(axis =1)"
   ]
  },
  {
   "cell_type": "code",
   "execution_count": 308,
   "id": "81466fa0",
   "metadata": {},
   "outputs": [
    {
     "data": {
      "text/plain": [
       "Ttest_indResult(statistic=-6.647890988942459, pvalue=2.50624789227439e-07)"
      ]
     },
     "execution_count": 308,
     "metadata": {},
     "output_type": "execute_result"
    }
   ],
   "source": [
    "import scipy.stats\n",
    "\n",
    "scipy.stats.ttest_ind(ave_points_1p5, ave_points_2p2, equal_var=False)"
   ]
  },
  {
   "cell_type": "code",
   "execution_count": 309,
   "id": "d57ca37f",
   "metadata": {},
   "outputs": [
    {
     "data": {
      "text/plain": [
       "array([-67.82470498, -67.92629054, -67.79503205, -67.76727546,\n",
       "       -67.83330131, -67.81436141, -67.74474911, -67.80184068,\n",
       "       -67.83377278, -67.7400585 , -67.84332375, -67.81005858,\n",
       "       -67.93819039, -67.8793517 , -67.87564996, -67.92813557,\n",
       "       -67.76190638, -67.81899593, -67.74930327, -67.98125145])"
      ]
     },
     "execution_count": 309,
     "metadata": {},
     "output_type": "execute_result"
    }
   ],
   "source": [
    "ave_points_2p2"
   ]
  },
  {
   "cell_type": "code",
   "execution_count": 310,
   "id": "e3200d0d",
   "metadata": {},
   "outputs": [
    {
     "data": {
      "text/plain": [
       "20"
      ]
     },
     "execution_count": 310,
     "metadata": {},
     "output_type": "execute_result"
    }
   ],
   "source": [
    "len(ave_points_1p5)"
   ]
  },
  {
   "cell_type": "code",
   "execution_count": 311,
   "id": "acbafdc4",
   "metadata": {},
   "outputs": [
    {
     "data": {
      "text/plain": [
       "-67.95092175267989"
      ]
     },
     "execution_count": 311,
     "metadata": {},
     "output_type": "execute_result"
    }
   ],
   "source": [
    "ave_points_1p5.mean()"
   ]
  },
  {
   "cell_type": "code",
   "execution_count": 312,
   "id": "dcf4b7fd",
   "metadata": {},
   "outputs": [
    {
     "data": {
      "text/plain": [
       "-67.83337768988288"
      ]
     },
     "execution_count": 312,
     "metadata": {},
     "output_type": "execute_result"
    }
   ],
   "source": [
    "ave_points_2p2.mean()"
   ]
  },
  {
   "cell_type": "code",
   "execution_count": 313,
   "id": "0fa0746d",
   "metadata": {},
   "outputs": [
    {
     "data": {
      "text/plain": [
       "array([-67.82470498, -67.92629054, -67.79503205, -67.76727546,\n",
       "       -67.83330131, -67.81436141, -67.74474911, -67.80184068,\n",
       "       -67.83377278, -67.7400585 , -67.84332375, -67.81005858,\n",
       "       -67.93819039, -67.8793517 , -67.87564996, -67.92813557,\n",
       "       -67.76190638, -67.81899593, -67.74930327, -67.98125145])"
      ]
     },
     "execution_count": 313,
     "metadata": {},
     "output_type": "execute_result"
    }
   ],
   "source": [
    "ave_points_2p2"
   ]
  },
  {
   "cell_type": "code",
   "execution_count": 314,
   "id": "130c3c39",
   "metadata": {},
   "outputs": [
    {
     "data": {
      "text/plain": [
       "array([-67.82470498, -67.92629054, -67.79503205, -67.76727546,\n",
       "       -67.83330131, -67.81436141, -67.74474911, -67.80184068,\n",
       "       -67.83377278, -67.7400585 , -67.84332375, -67.81005858,\n",
       "       -67.93819039, -67.8793517 , -67.87564996, -67.92813557,\n",
       "       -67.76190638, -67.81899593, -67.74930327, -67.98125145])"
      ]
     },
     "execution_count": 314,
     "metadata": {},
     "output_type": "execute_result"
    }
   ],
   "source": [
    "ave_points_2p2"
   ]
  },
  {
   "cell_type": "code",
   "execution_count": 315,
   "id": "b4c3d701",
   "metadata": {},
   "outputs": [],
   "source": [
    "mean_trace_2p2 = rmp_mat.mean(axis=0)"
   ]
  },
  {
   "cell_type": "code",
   "execution_count": 316,
   "id": "cb4c52b8",
   "metadata": {},
   "outputs": [],
   "source": [
    "mean_trace_1p5 = rmp_mat_1p5.mean(axis=0)"
   ]
  },
  {
   "cell_type": "code",
   "execution_count": 317,
   "id": "4f78bc26",
   "metadata": {},
   "outputs": [
    {
     "data": {
      "text/plain": [
       "array([-67.68018254, -67.69175263, -67.68915354, ..., -67.91857513,\n",
       "       -67.93226559, -67.94231581])"
      ]
     },
     "execution_count": 317,
     "metadata": {},
     "output_type": "execute_result"
    }
   ],
   "source": [
    "mean_trace_1p5"
   ]
  },
  {
   "cell_type": "code",
   "execution_count": 318,
   "id": "4008cadf",
   "metadata": {},
   "outputs": [
    {
     "data": {
      "text/plain": [
       "array([-68.07702221, -68.08661307, -68.07855626, ..., -67.81440298,\n",
       "       -67.80749636, -67.80461478])"
      ]
     },
     "execution_count": 318,
     "metadata": {},
     "output_type": "execute_result"
    }
   ],
   "source": [
    "mean_trace_2p2"
   ]
  },
  {
   "cell_type": "code",
   "execution_count": null,
   "id": "1ac6551b",
   "metadata": {},
   "outputs": [],
   "source": []
  },
  {
   "cell_type": "code",
   "execution_count": 319,
   "id": "3abeb1cb",
   "metadata": {},
   "outputs": [
    {
     "data": {
      "text/plain": [
       "Ttest_indResult(statistic=-58.99674148351849, pvalue=0.0)"
      ]
     },
     "execution_count": 319,
     "metadata": {},
     "output_type": "execute_result"
    }
   ],
   "source": [
    "import scipy.stats\n",
    "\n",
    "scipy.stats.ttest_ind(mean_trace_1p5, mean_trace_2p2, equal_var=False)"
   ]
  },
  {
   "cell_type": "code",
   "execution_count": 320,
   "id": "527f320e",
   "metadata": {},
   "outputs": [],
   "source": [
    "mean_1p5 = ave_points_1p5.mean()"
   ]
  },
  {
   "cell_type": "code",
   "execution_count": 321,
   "id": "df33e25f",
   "metadata": {},
   "outputs": [],
   "source": [
    "std_1p5 = ave_points_1p5.std()"
   ]
  },
  {
   "cell_type": "code",
   "execution_count": null,
   "id": "9dcfe989",
   "metadata": {},
   "outputs": [],
   "source": []
  },
  {
   "cell_type": "code",
   "execution_count": 322,
   "id": "dd4b27fc",
   "metadata": {},
   "outputs": [],
   "source": [
    "mean_2p2 = ave_points_2p2.mean()\n",
    "\n",
    "std_2p2 = ave_points_2p2.std()\n",
    "\n"
   ]
  },
  {
   "cell_type": "code",
   "execution_count": 323,
   "id": "16649b7b",
   "metadata": {},
   "outputs": [
    {
     "data": {
      "text/plain": [
       "0.0371310435497125"
      ]
     },
     "execution_count": 323,
     "metadata": {},
     "output_type": "execute_result"
    }
   ],
   "source": [
    "ave_points_1p5.std()"
   ]
  },
  {
   "cell_type": "code",
   "execution_count": 324,
   "id": "7a9ff93c",
   "metadata": {},
   "outputs": [],
   "source": [
    "error_bars = [std_1p5, std_2p2]"
   ]
  },
  {
   "cell_type": "code",
   "execution_count": null,
   "id": "e2c4dbbc",
   "metadata": {},
   "outputs": [],
   "source": []
  },
  {
   "cell_type": "code",
   "execution_count": 325,
   "id": "f3f46728",
   "metadata": {},
   "outputs": [
    {
     "data": {
      "text/plain": [
       "array([-67.82470498, -67.92629054, -67.79503205, -67.76727546,\n",
       "       -67.83330131, -67.81436141, -67.74474911, -67.80184068,\n",
       "       -67.83377278, -67.7400585 , -67.84332375, -67.81005858,\n",
       "       -67.93819039, -67.8793517 , -67.87564996, -67.92813557,\n",
       "       -67.76190638, -67.81899593, -67.74930327, -67.98125145])"
      ]
     },
     "execution_count": 325,
     "metadata": {},
     "output_type": "execute_result"
    }
   ],
   "source": [
    "ave_points_2p2"
   ]
  },
  {
   "cell_type": "code",
   "execution_count": null,
   "id": "6fad1305",
   "metadata": {},
   "outputs": [],
   "source": []
  },
  {
   "cell_type": "code",
   "execution_count": null,
   "id": "be7640f2",
   "metadata": {},
   "outputs": [],
   "source": []
  },
  {
   "cell_type": "code",
   "execution_count": 326,
   "id": "ca5a40ea",
   "metadata": {},
   "outputs": [
    {
     "data": {
      "image/png": "[encoded data removed]",
      "text/plain": [
       "<Figure size 800x600 with 1 Axes>"
      ]
     },
     "metadata": {},
     "output_type": "display_data"
    }
   ],
   "source": [
    "import matplotlib.pyplot as plt\n",
    "#np.random.seed(123)\n",
    "\n",
    "plt.style.use('https://raw.githubusercontent.com/NeuromatchAcademy/course-content/master/nma.mplstyle')\n",
    "\n",
    "\n",
    "w = 0.25    # bar width\n",
    "x = [0.2, 0.6] # x-coordinates of your bars\n",
    "colors = [(0, 0, 1, 1), (1, 0, 0, 1)]    # corresponding colors\n",
    "mean_bars = [mean_1p5,       # data series\n",
    "    mean_2p2]\n",
    "\n",
    "y = ([ave_points_1p5,       # data series\n",
    "    ave_points_2p2])\n",
    "\n",
    "\n",
    "\n",
    "\n",
    "fig, ax = plt.subplots()\n",
    "\n",
    "ax.bar(x,\n",
    "       height= mean_bars,\n",
    "       yerr=error_bars,    # error bars\n",
    "       capsize=12, # error bar cap width in points\n",
    "       width=w,    # bar width\n",
    "       tick_label=[\"PPC\", \"PFC\"],\n",
    "       color=(0,0,0,0),  # face color transparent\n",
    "       edgecolor=colors,\n",
    "       #ecolor=colors,    # error bar colors; setting this raises an error for whatever reason.\n",
    "       )\n",
    "ax.xaxis.tick_top()\n",
    "#axes.spines.top = True\n",
    "\n",
    "ax.spines.top.set_visible(True)\n",
    "ax.spines['bottom'].set_visible(False)\n",
    "\n",
    "SMALL_SIZE = 8\n",
    "MEDIUM_SIZE = 10\n",
    "BIGGER_SIZE = 12\n",
    "\n",
    "plt.rc('font', size=SMALL_SIZE)          # controls default text sizes\n",
    "plt.rc('axes', titlesize=SMALL_SIZE)     # fontsize of the axes title\n",
    "plt.rc('axes', labelsize=MEDIUM_SIZE)    # fontsize of the x and y labels\n",
    "plt.rc('xtick', labelsize=BIGGER_SIZE)    # fontsize of the tick labels\n",
    "plt.rc('ytick', labelsize=BIGGER_SIZE)    # fontsize of the tick labels\n",
    "plt.rc('legend', fontsize=BIGGER_SIZE)    # legend fontsize\n",
    "plt.rc('figure', titlesize=BIGGER_SIZE)  # fontsize of the figure title \n",
    "\n",
    "\n",
    "for i in range(len(x)):\n",
    "    # distribute scatter randomly across whole width of bar\n",
    "    ax.scatter(x[i] + np.random.random(y[i].size) * w - w / 2, y[i], color=colors[i])\n",
    "    \n",
    "plt.xlim([0, 0.8])\n",
    "plt.ylim([-69, -61])\n",
    "\n",
    "\n",
    "plt.show()"
   ]
  },
  {
   "cell_type": "code",
   "execution_count": 327,
   "id": "2d83965c",
   "metadata": {},
   "outputs": [
    {
     "data": {
      "text/plain": [
       "0.0371310435497125"
      ]
     },
     "execution_count": 327,
     "metadata": {},
     "output_type": "execute_result"
    }
   ],
   "source": [
    "std_1p5"
   ]
  },
  {
   "cell_type": "code",
   "execution_count": 328,
   "id": "d8f59b87",
   "metadata": {},
   "outputs": [
    {
     "data": {
      "text/plain": [
       "[0.2, 0.6]"
      ]
     },
     "execution_count": 328,
     "metadata": {},
     "output_type": "execute_result"
    }
   ],
   "source": [
    "x"
   ]
  },
  {
   "cell_type": "code",
   "execution_count": 329,
   "id": "f26e8912",
   "metadata": {},
   "outputs": [
    {
     "data": {
      "text/plain": [
       "Ttest_indResult(statistic=-6.647890988942459, pvalue=2.50624789227439e-07)"
      ]
     },
     "execution_count": 329,
     "metadata": {},
     "output_type": "execute_result"
    }
   ],
   "source": [
    "scipy.stats.ttest_ind(ave_points_1p5, ave_points_2p2, equal_var=False)"
   ]
  },
  {
   "cell_type": "code",
   "execution_count": null,
   "id": "5549e82e",
   "metadata": {},
   "outputs": [],
   "source": []
  },
  {
   "cell_type": "code",
   "execution_count": null,
   "id": "524940c6",
   "metadata": {},
   "outputs": [],
   "source": []
  },
  {
   "cell_type": "code",
   "execution_count": 331,
   "id": "9e682b1a",
   "metadata": {},
   "outputs": [
    {
     "data": {
      "text/plain": [
       "array([0.15108195, 0.06464025, 0.10755381, 0.14588016, 0.14590874,\n",
       "       0.12137242, 0.19113839, 0.19032228, 0.09256572, 0.25674468,\n",
       "       0.14814917, 0.17152546, 0.00872239, 0.12424605, 0.10436863,\n",
       "       0.02164696, 0.15174255, 0.06077489, 0.17077517, 0.07827844])"
      ]
     },
     "execution_count": 331,
     "metadata": {},
     "output_type": "execute_result"
    }
   ],
   "source": [
    "abs(ave_points_2p2 - ave_points_1p5)"
   ]
  },
  {
   "cell_type": "code",
   "execution_count": null,
   "id": "b3215f6f",
   "metadata": {},
   "outputs": [],
   "source": []
  }
 ],
 "metadata": {
  "kernelspec": {
   "display_name": "Python 3 (ipykernel)",
   "language": "python",
   "name": "python3"
  },
  "language_info": {
   "codemirror_mode": {
    "name": "ipython",
    "version": 3
   },
   "file_extension": ".py",
   "mimetype": "text/x-python",
   "name": "python",
   "nbconvert_exporter": "python",
   "pygments_lexer": "ipython3",
   "version": "3.10.6"
  }
 },
 "nbformat": 4,
 "nbformat_minor": 5
}
