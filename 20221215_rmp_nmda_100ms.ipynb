{
 "cells": [
  {
   "cell_type": "code",
   "execution_count": 106,
   "id": "b91cd531",
   "metadata": {},
   "outputs": [],
   "source": [
    "import brian2 as b2\n",
    "from brian2 import NeuronGroup, Synapses, PoissonInput, PoissonGroup, network_operation\n",
    "from brian2.monitors import StateMonitor, SpikeMonitor, PopulationRateMonitor\n",
    "from random import sample\n",
    "import numpy.random as rnd\n",
    "from neurodynex3.tools import plot_tools\n",
    "import numpy\n",
    "import matplotlib.pyplot as plt\n",
    "from math import floor\n",
    "import time\n",
    "import pickle\n",
    "\n",
    "b2.defaultclock.dt = 0.10 * b2.ms\n",
    "\n",
    "from brian2 import *"
   ]
  },
  {
   "cell_type": "code",
   "execution_count": 107,
   "id": "6af81407",
   "metadata": {},
   "outputs": [],
   "source": [
    "def nmda_by_x(x_rate, w_pos):\n",
    "    \n",
    "    start_scope()\n",
    "    #w_pos = 1.9\n",
    "    N_Excit=384\n",
    "    N_Inhib=96\n",
    "    weight_scaling_factor=5.33\n",
    "    t_stimulus_start=100 * b2.ms\n",
    "    t_stimulus_duration=9999 * b2.ms\n",
    "    coherence_level=0.\n",
    "    stimulus_update_interval=30 * b2.ms\n",
    "    mu0_mean_stimulus_Hz=250.\n",
    "    stimulus_std_Hz=20.\n",
    "    N_extern=1000\n",
    "    firing_rate_extern=9.8 * b2.Hz\n",
    "    f_Subpop_size=0.25  # .15 in publication [1]                     \n",
    "    max_sim_time=1000. * b2.ms \n",
    "    stop_condition_rate=None\n",
    "\n",
    "    monitored_subset_size=512, \n",
    "    E_leak_excit = -70.0 * b2.mV\n",
    "\n",
    "    print(\"simulating {} neurons. Start: {}\".format(N_Excit + N_Inhib, time.ctime()))\n",
    "    t_stimulus_end = t_stimulus_start + t_stimulus_duration\n",
    "\n",
    "    N_Group_A = int(N_Excit * f_Subpop_size)  # size of the excitatory subpopulation sensitive to stimulus A\n",
    "    N_Group_B = N_Group_A  # size of the excitatory subpopulation sensitive to stimulus B\n",
    "    N_Group_Z = N_Excit - N_Group_A - N_Group_B  # (1-2f)Ne excitatory neurons do not respond to either stimulus.\n",
    "\n",
    "    Cm_excit = 0.5 * b2.nF  # membrane capacitance of excitatory neurons\n",
    "    G_leak_excit = 25.0 * b2.nS  # leak conductance\n",
    "    E_leak_excit = -70.0 * b2.mV  # reversal potential   #######################################################\n",
    "    v_spike_thr_excit = -50.0 * b2.mV  # spike condition\n",
    "    v_reset_excit = -60.0 * b2.mV  # reset voltage after spike\n",
    "    t_abs_refract_excit = 2. * b2.ms  # absolute refractory period\n",
    "\n",
    "    # specify the inhibitory interneurons:\n",
    "    # N_Inhib = 200\n",
    "    Cm_inhib = 0.2 * b2.nF\n",
    "    G_leak_inhib = 20.0 * b2.nS\n",
    "    E_leak_inhib = -90.0 * b2.mV\n",
    "    v_spike_thr_inhib = -50.0 * b2.mV\n",
    "    v_reset_inhib = -60.0 * b2.mV\n",
    "    t_abs_refract_inhib = 1.0 * b2.ms\n",
    "\n",
    "    # specify the AMPA synapses\n",
    "    E_AMPA = 0.0 * b2.mV\n",
    "    tau_AMPA = 2.5 * b2.ms\n",
    "\n",
    "    # specify the GABA synapses\n",
    "    E_GABA = -70.0 * b2.mV\n",
    "    tau_GABA = 5.0 * b2.ms\n",
    "\n",
    "    # specify the NMDA synapses\n",
    "    E_NMDA = 0.0 * b2.mV\n",
    "    tau_NMDA_s = 100.0 * b2.ms\n",
    "    tau_NMDA_x = 2. * b2.ms\n",
    "    alpha_NMDA = 0.5 * b2.kHz\n",
    "\n",
    "    # projections from the external population\n",
    "    g_AMPA_extern2inhib = 1.62 * b2.nS\n",
    "    g_AMPA_extern2excit = 2.1 * b2.nS\n",
    "\n",
    "    # projectsions from the inhibitory populations\n",
    "    g_GABA_inhib2inhib = weight_scaling_factor * 1.25 * b2.nS\n",
    "    g_GABA_inhib2excit = weight_scaling_factor * 1.60 * b2.nS\n",
    "\n",
    "    # projections from the excitatory population\n",
    "    g_AMPA_excit2excit = weight_scaling_factor * 0.012 * b2.nS\n",
    "    g_AMPA_excit2inhib = weight_scaling_factor * 0.015 * b2.nS\n",
    "    g_NMDA_excit2excit = weight_scaling_factor * 0.040 * b2.nS\n",
    "    g_NMDA_excit2inhib = weight_scaling_factor * 0.045 * b2.nS  # stronger projection to inhib.\n",
    "\n",
    "    # weights and \"adjusted\" weights.\n",
    "    w_neg = 1. - f_Subpop_size * (w_pos - 1.) / (1. - f_Subpop_size)\n",
    "    # We use the same postsyn AMPA and NMDA conductances. Adjust the weights coming from different sources:\n",
    "    w_ext2inhib = g_AMPA_extern2inhib / g_AMPA_excit2inhib\n",
    "    w_ext2excit = g_AMPA_extern2excit / g_AMPA_excit2excit\n",
    "    # other weights are 1\n",
    "    # print(\"w_neg={}, w_ext2inhib={}, w_ext2excit={}\".format(w_neg, w_ext2inhib, w_ext2excit))A\n",
    "    # Define the inhibitory population\n",
    "\n",
    "\n",
    "\n",
    "    excit_lif_dynamics = \"\"\"\n",
    "            s_NMDA_total : 1  # the post synaptic sum of s. compare with s_NMDA_presyn\n",
    "            dv/dt = (\n",
    "            - G_leak_excit * (v-E_leak_excit)\n",
    "            - g_AMPA_excit2excit * s_AMPA * (v-E_AMPA)\n",
    "            - g_GABA_inhib2excit * s_GABA * (v-E_GABA)\n",
    "            - g_NMDA_excit2excit * s_NMDA_total * (v-E_NMDA)/(1.0+1.0*exp(-0.062*v/volt)/3.57)\n",
    "            )/Cm_excit : volt (unless refractory)\n",
    "            ds_AMPA/dt = -s_AMPA/tau_AMPA : 1\n",
    "            ds_GABA/dt = -s_GABA/tau_GABA : 1\n",
    "            ds_NMDA/dt = -s_NMDA/tau_NMDA_s + alpha_NMDA * x * (1-s_NMDA) : 1\n",
    "            dx/dt = -x/tau_NMDA_x : 1\n",
    "        \"\"\"\n",
    "    \n",
    "    excit_lif_dynamics_nmda = \"\"\"\n",
    "            s_NMDA_total : 1  # the post synaptic sum of s. compare with s_NMDA_presyn\n",
    "            dv/dt = (\n",
    "            - G_leak_excit * (v-E_leak_excit)\n",
    "            - g_AMPA_excit2excit * s_AMPA * (v-E_AMPA)\n",
    "            - g_GABA_inhib2excit * s_GABA * (v-E_GABA)\n",
    "            - g_NMDA_excit2excit * s_NMDA_total * (v-E_NMDA)/(1.0+1.0*exp(-0.062*v/volt)/3.57)\n",
    "            )/Cm_excit : volt (unless refractory)\n",
    "            ds_AMPA/dt = -s_AMPA/tau_AMPA : 1\n",
    "            ds_GABA/dt = -s_GABA/tau_GABA : 1\n",
    "            ds_NMDA/dt = -s_NMDA/tau_NMDA_s + alpha_NMDA * x * (1-s_NMDA) : 1\n",
    "            dx/dt = -x/tau_NMDA_x : 1\n",
    "        \"\"\"\n",
    "\n",
    "\n",
    "    one_neuron = NeuronGroup(1, model=excit_lif_dynamics_nmda,\n",
    "                            threshold=\"v>v_spike_thr_excit\", reset=\"v=v_reset_excit\",\n",
    "                            refractory=t_abs_refract_excit, method=\"rk2\")\n",
    "\n",
    "    one_neuron.v = rnd.uniform(E_leak_excit / b2.mV, high=E_leak_excit / b2.mV + 5., size=one_neuron.N) * b2.mV\n",
    "\n",
    "\n",
    "\n",
    "\n",
    "    # network parameters\n",
    "    N_E = 1000\n",
    "    gamma = 0.25\n",
    "    N_I = round(gamma * N_E)\n",
    "    N = N_E + N_I\n",
    "    epsilon = 0.1\n",
    "    C_E = epsilon * N_E\n",
    "    C_ext = C_E\n",
    "\n",
    "    # neuron parameters\n",
    "    tau = 10 * ms\n",
    "    theta = 1 * mV\n",
    "    V_r = 0 * mV\n",
    "    tau_rp = 2 * ms\n",
    "\n",
    "    # synapse parameters\n",
    "    J = 0.1 * mV\n",
    "    D = 1.5 * ms\n",
    "    nu_ext = 10 *Hz\n",
    "    # external stimulus\n",
    "    nu_thr = theta / (J * C_E * tau)\n",
    "\n",
    "    defaultclock.dt = 0.1 * ms\n",
    "\n",
    "    Poisson_NE = 1000\n",
    "    g = 1\n",
    "\n",
    "    #w_pos= 1.9\n",
    "\n",
    "\n",
    "\n",
    "    # with and without NMDA 와 비교하기 \n",
    "    exc_poisson_input = PoissonInput(\n",
    "            target=one_neuron, target_var=\"s_AMPA\", N=N_E, rate=1*nu_ext, weight= w_ext2excit)       \n",
    "\n",
    "    inh_poisson_input = PoissonInput(\n",
    "            target=one_neuron, target_var=\"s_GABA\", N=N_I, rate=1*nu_ext, weight= w_ext2inhib)\n",
    "\n",
    "    nmda_poisson_input = PoissonInput(\n",
    "            target=one_neuron, target_var=\"x\", N=1, rate= x_rate*Hz, weight= 1 )\n",
    "\n",
    "    #NDMA input \n",
    "    sNMDA_A_total = []\n",
    "\n",
    "    @network_operation()\n",
    "    def update_nmda_sum():\n",
    "            sum_sNMDA_A = 300*sum(one_neuron.s_NMDA)\n",
    "\n",
    "            #sum_sNMDA_A = 100\n",
    "\n",
    "            # note the _ at the end of s_NMDA_total_ disables unit checking\n",
    "            one_neuron.s_NMDA_total_ = (w_pos * sum_sNMDA_A)  ## 자기 자신의 nmda input 만을 받는다. \n",
    "            sNMDA_A_total.append(sum_sNMDA_A)\n",
    "\n",
    "\n",
    "    # set a self-recurrent synapse to introduce a delay when updating the intermediate\n",
    "    # gating variable x\n",
    "\n",
    "    syn_x_A2A = Synapses(one_neuron, one_neuron, on_pre=\"x += 1.\", delay=0.5 * b2.ms)\n",
    "    syn_x_A2A.connect(j=\"i\")\n",
    "\n",
    "    rmp_monitor = StateMonitor(one_neuron, 'v', record = 0)\n",
    "\n",
    "    x_monitor = StateMonitor(one_neuron, 'x', record = 0)\n",
    "    s_monitor = StateMonitor(one_neuron, 's_NMDA', record = 0)\n",
    "\n",
    "\n",
    "    rmp_in_mV = 1000*(rmp_monitor.v[0])\n",
    "\n",
    "    rmp_in_mV = 1000*(rmp_monitor.v[0])\n",
    "\n",
    "\n",
    "\n",
    "\n",
    "    run(1200*ms, report='text')\n",
    "\n",
    "    time_in_ms = (rmp_monitor.t/ms)/1000\n",
    "    rmp_in_mV = (rmp_monitor.v[0])/b2.mV\n",
    "    \n",
    "    \n",
    "    return time_in_ms, rmp_in_mV   # the unit is ms and mV "
   ]
  },
  {
   "cell_type": "code",
   "execution_count": 108,
   "id": "7d50b202",
   "metadata": {},
   "outputs": [
    {
     "name": "stderr",
     "output_type": "stream",
     "text": [
      "WARNING    \"i\" is an internal variable of group \"synapses\", but also exists in the run namespace with the value 1. The internal variable will be used. [brian2.groups.group.Group.resolve.resolution_conflict]\n"
     ]
    },
    {
     "name": "stdout",
     "output_type": "stream",
     "text": [
      "simulating 480 neurons. Start: Thu Dec 15 16:41:46 2022\n",
      "Starting simulation at t=0. s for a duration of 1.2 s\n",
      "1.2 s (100%) simulated in 2s\n"
     ]
    },
    {
     "data": {
      "text/plain": [
       "array([[0., 0., 0., ..., 0., 0., 0.],\n",
       "       [0., 0., 0., ..., 0., 0., 0.],\n",
       "       [0., 0., 0., ..., 0., 0., 0.],\n",
       "       ...,\n",
       "       [0., 0., 0., ..., 0., 0., 0.],\n",
       "       [0., 0., 0., ..., 0., 0., 0.],\n",
       "       [0., 0., 0., ..., 0., 0., 0.]])"
      ]
     },
     "execution_count": 108,
     "metadata": {},
     "output_type": "execute_result"
    }
   ],
   "source": [
    "a = nmda_by_x(100, 1.5)\n",
    "num_time = len(a[0])\n",
    "num_trial = 20\n",
    "rmp_mat = numpy.zeros([num_trial, num_time])\n",
    "rmp_mat[:10]\n"
   ]
  },
  {
   "cell_type": "code",
   "execution_count": 109,
   "id": "11923b93",
   "metadata": {},
   "outputs": [
    {
     "name": "stdout",
     "output_type": "stream",
     "text": [
      "simulating 480 neurons. Start: Thu Dec 15 16:41:48 2022\n",
      "Starting simulation at t=0. s for a duration of 1.2 s\n",
      "1.2 s (100%) simulated in 2s\n",
      "simulating 480 neurons. Start: Thu Dec 15 16:41:51 2022\n",
      "Starting simulation at t=0. s for a duration of 1.2 s\n",
      "1.2 s (100%) simulated in 2s\n",
      "simulating 480 neurons. Start: Thu Dec 15 16:41:53 2022\n",
      "Starting simulation at t=0. s for a duration of 1.2 s\n",
      "1.2 s (100%) simulated in 2s\n",
      "simulating 480 neurons. Start: Thu Dec 15 16:41:55 2022\n",
      "Starting simulation at t=0. s for a duration of 1.2 s\n",
      "1.2 s (100%) simulated in 2s\n",
      "simulating 480 neurons. Start: Thu Dec 15 16:41:57 2022\n",
      "Starting simulation at t=0. s for a duration of 1.2 s\n",
      "1.2 s (100%) simulated in 2s\n",
      "simulating 480 neurons. Start: Thu Dec 15 16:41:59 2022\n",
      "Starting simulation at t=0. s for a duration of 1.2 s\n",
      "1.2 s (100%) simulated in 2s\n",
      "simulating 480 neurons. Start: Thu Dec 15 16:42:01 2022\n",
      "Starting simulation at t=0. s for a duration of 1.2 s\n",
      "1.2 s (100%) simulated in 2s\n",
      "simulating 480 neurons. Start: Thu Dec 15 16:42:03 2022\n",
      "Starting simulation at t=0. s for a duration of 1.2 s\n",
      "1.2 s (100%) simulated in 2s\n",
      "simulating 480 neurons. Start: Thu Dec 15 16:42:06 2022\n",
      "Starting simulation at t=0. s for a duration of 1.2 s\n",
      "1.2 s (100%) simulated in 2s\n",
      "simulating 480 neurons. Start: Thu Dec 15 16:42:08 2022\n",
      "Starting simulation at t=0. s for a duration of 1.2 s\n",
      "1.2 s (100%) simulated in 2s\n",
      "simulating 480 neurons. Start: Thu Dec 15 16:42:10 2022\n",
      "Starting simulation at t=0. s for a duration of 1.2 s\n",
      "1.2 s (100%) simulated in 2s\n",
      "simulating 480 neurons. Start: Thu Dec 15 16:42:12 2022\n",
      "Starting simulation at t=0. s for a duration of 1.2 s\n",
      "1.2 s (100%) simulated in 2s\n",
      "simulating 480 neurons. Start: Thu Dec 15 16:42:14 2022\n",
      "Starting simulation at t=0. s for a duration of 1.2 s\n",
      "1.2 s (100%) simulated in 2s\n",
      "simulating 480 neurons. Start: Thu Dec 15 16:42:16 2022\n",
      "Starting simulation at t=0. s for a duration of 1.2 s\n",
      "1.2 s (100%) simulated in 2s\n",
      "simulating 480 neurons. Start: Thu Dec 15 16:42:18 2022\n",
      "Starting simulation at t=0. s for a duration of 1.2 s\n",
      "1.2 s (100%) simulated in 2s\n",
      "simulating 480 neurons. Start: Thu Dec 15 16:42:20 2022\n",
      "Starting simulation at t=0. s for a duration of 1.2 s\n",
      "1.2 s (100%) simulated in 2s\n",
      "simulating 480 neurons. Start: Thu Dec 15 16:42:23 2022\n",
      "Starting simulation at t=0. s for a duration of 1.2 s\n",
      "1.2 s (100%) simulated in 2s\n",
      "simulating 480 neurons. Start: Thu Dec 15 16:42:25 2022\n",
      "Starting simulation at t=0. s for a duration of 1.2 s\n",
      "1.2 s (100%) simulated in 2s\n",
      "simulating 480 neurons. Start: Thu Dec 15 16:42:27 2022\n",
      "Starting simulation at t=0. s for a duration of 1.2 s\n",
      "1.2 s (100%) simulated in 2s\n",
      "simulating 480 neurons. Start: Thu Dec 15 16:42:29 2022\n",
      "Starting simulation at t=0. s for a duration of 1.2 s\n",
      "1.2 s (100%) simulated in 2s\n"
     ]
    }
   ],
   "source": [
    "for trial_idx in range((num_trial)):\n",
    "    result = nmda_by_x(100, 1.5)\n",
    "    rmp = result[1]\n",
    "    rmp_mat[trial_idx,:] = rmp\n",
    "    \n",
    "    "
   ]
  },
  {
   "cell_type": "code",
   "execution_count": 110,
   "id": "0a5adddf",
   "metadata": {},
   "outputs": [],
   "source": [
    "rmp_mat_1p5 = rmp_mat\n",
    "\n",
    "rmp_mean_1p5 = numpy.mean(rmp_mat, axis=0)\n",
    "rmp_sem_1p5 = numpy.std(rmp_mat, axis=0)/numpy.sqrt(num_trial)"
   ]
  },
  {
   "cell_type": "code",
   "execution_count": 111,
   "id": "a9228354",
   "metadata": {},
   "outputs": [
    {
     "name": "stdout",
     "output_type": "stream",
     "text": [
      "simulating 480 neurons. Start: Thu Dec 15 16:42:32 2022\n",
      "Starting simulation at t=0. s for a duration of 1.2 s\n",
      "1.2 s (100%) simulated in 2s\n",
      "simulating 480 neurons. Start: Thu Dec 15 16:42:34 2022\n",
      "Starting simulation at t=0. s for a duration of 1.2 s\n",
      "1.2 s (100%) simulated in 2s\n",
      "simulating 480 neurons. Start: Thu Dec 15 16:42:36 2022\n",
      "Starting simulation at t=0. s for a duration of 1.2 s\n",
      "1.2 s (100%) simulated in 2s\n",
      "simulating 480 neurons. Start: Thu Dec 15 16:42:38 2022\n",
      "Starting simulation at t=0. s for a duration of 1.2 s\n",
      "1.2 s (100%) simulated in 2s\n",
      "simulating 480 neurons. Start: Thu Dec 15 16:42:40 2022\n",
      "Starting simulation at t=0. s for a duration of 1.2 s\n",
      "1.2 s (100%) simulated in 2s\n",
      "simulating 480 neurons. Start: Thu Dec 15 16:42:43 2022\n",
      "Starting simulation at t=0. s for a duration of 1.2 s\n",
      "1.2 s (100%) simulated in 2s\n",
      "simulating 480 neurons. Start: Thu Dec 15 16:42:45 2022\n",
      "Starting simulation at t=0. s for a duration of 1.2 s\n",
      "1.2 s (100%) simulated in 2s\n",
      "simulating 480 neurons. Start: Thu Dec 15 16:42:47 2022\n",
      "Starting simulation at t=0. s for a duration of 1.2 s\n",
      "1.2 s (100%) simulated in 2s\n",
      "simulating 480 neurons. Start: Thu Dec 15 16:42:50 2022\n",
      "Starting simulation at t=0. s for a duration of 1.2 s\n",
      "1.2 s (100%) simulated in 2s\n",
      "simulating 480 neurons. Start: Thu Dec 15 16:42:53 2022\n",
      "Starting simulation at t=0. s for a duration of 1.2 s\n",
      "1.2 s (100%) simulated in 2s\n",
      "simulating 480 neurons. Start: Thu Dec 15 16:42:55 2022\n",
      "Starting simulation at t=0. s for a duration of 1.2 s\n",
      "1.2 s (100%) simulated in 2s\n",
      "simulating 480 neurons. Start: Thu Dec 15 16:42:57 2022\n",
      "Starting simulation at t=0. s for a duration of 1.2 s\n",
      "1.2 s (100%) simulated in 2s\n",
      "simulating 480 neurons. Start: Thu Dec 15 16:42:59 2022\n",
      "Starting simulation at t=0. s for a duration of 1.2 s\n",
      "1.2 s (100%) simulated in 2s\n",
      "simulating 480 neurons. Start: Thu Dec 15 16:43:01 2022\n",
      "Starting simulation at t=0. s for a duration of 1.2 s\n",
      "1.2 s (100%) simulated in 2s\n",
      "simulating 480 neurons. Start: Thu Dec 15 16:43:04 2022\n",
      "Starting simulation at t=0. s for a duration of 1.2 s\n",
      "1.2 s (100%) simulated in 2s\n",
      "simulating 480 neurons. Start: Thu Dec 15 16:43:06 2022\n",
      "Starting simulation at t=0. s for a duration of 1.2 s\n",
      "1.2 s (100%) simulated in 2s\n",
      "simulating 480 neurons. Start: Thu Dec 15 16:43:08 2022\n",
      "Starting simulation at t=0. s for a duration of 1.2 s\n",
      "1.2 s (100%) simulated in 2s\n",
      "simulating 480 neurons. Start: Thu Dec 15 16:43:10 2022\n",
      "Starting simulation at t=0. s for a duration of 1.2 s\n",
      "1.2 s (100%) simulated in 2s\n",
      "simulating 480 neurons. Start: Thu Dec 15 16:43:12 2022\n",
      "Starting simulation at t=0. s for a duration of 1.2 s\n",
      "1.2 s (100%) simulated in 2s\n",
      "simulating 480 neurons. Start: Thu Dec 15 16:43:15 2022\n",
      "Starting simulation at t=0. s for a duration of 1.2 s\n",
      "1.2 s (100%) simulated in 2s\n"
     ]
    }
   ],
   "source": [
    "rmp_mat = numpy.zeros([num_trial, num_time])\n",
    "\n",
    "\n",
    "for trial_idx in range(num_trial):\n",
    "    result = nmda_by_x(100, 2.2)\n",
    "    rmp = result[1]\n",
    "    rmp_mat[trial_idx,:] = rmp\n",
    "    \n",
    "    \n",
    "    "
   ]
  },
  {
   "cell_type": "code",
   "execution_count": 112,
   "id": "af261924",
   "metadata": {},
   "outputs": [],
   "source": [
    "time = result[0]\n"
   ]
  },
  {
   "cell_type": "code",
   "execution_count": 113,
   "id": "634cbd39",
   "metadata": {},
   "outputs": [],
   "source": [
    "rmp_mean = numpy.mean(rmp_mat, axis=0)\n",
    "rmp_sem = numpy.std(rmp_mat, axis=0)/numpy.sqrt(num_trial)"
   ]
  },
  {
   "cell_type": "code",
   "execution_count": 114,
   "id": "136e7394",
   "metadata": {},
   "outputs": [
    {
     "data": {
      "image/png": "[encoded data removed]",
      "text/plain": [
       "<Figure size 800x600 with 1 Axes>"
      ]
     },
     "metadata": {},
     "output_type": "display_data"
    }
   ],
   "source": [
    "fig, ax = plt.subplots(1,figsize=(8, 6))\n",
    "\n",
    "ax.plot(result[0], rmp_mean, 'm-', label='w_pos = 2.2', linewidth=0.8) \n",
    "ax.fill_between(time, rmp_mean - rmp_sem, rmp_mean + rmp_sem, color='m', alpha=0.2)\n",
    "\n",
    "ax.plot(result[0], rmp_mean_1p5, 'c-', label='w_pos = 1.5', linewidth=0.8) \n",
    "ax.fill_between(time, rmp_mean_1p5 - rmp_sem_1p5, rmp_mean_1p5 + rmp_sem_1p5, color='c', alpha=0.2)\n",
    "\n",
    "\n",
    "\n",
    "ax.set_ylim([-70, -60])\n",
    "\n",
    "ax.legend()\n",
    "\n",
    "\n",
    "ax.spines['top'].set_visible(False)\n",
    "ax.spines['right'].set_visible(False)\n",
    "\n",
    "\n",
    "\n",
    "ax.set_xlabel('time (s)')\n",
    "ax.set_ylabel('membrane potential (mV)')\n",
    "plt.rcParams.update({'font.size': 24})\n",
    "plt.savefig(\"figure6_one_cell_by_w_pos_nmda_input.svg\", transparent=True)    \n",
    "\n",
    "\n",
    "\n",
    "plt.show()"
   ]
  },
  {
   "cell_type": "code",
   "execution_count": 115,
   "id": "05e6f1e3",
   "metadata": {
    "scrolled": true
   },
   "outputs": [
    {
     "data": {
      "text/plain": [
       "array([[-65.40340867, -65.42633417, -65.4222855 , ..., -65.42073141,\n",
       "        -65.415734  , -65.36603499],\n",
       "       [-69.8536808 , -69.85441056, -69.82646385, ..., -65.6084591 ,\n",
       "        -65.54670382, -65.43715514],\n",
       "       [-66.51487295, -66.53225502, -66.52223776, ..., -64.66655167,\n",
       "        -64.59144421, -64.48495383],\n",
       "       ...,\n",
       "       [-66.71286017, -66.72925478, -66.80111542, ..., -66.38819898,\n",
       "        -66.47490564, -66.45695631],\n",
       "       [-65.0539843 , -65.07865255, -65.07648029, ..., -64.10412089,\n",
       "        -64.13976325, -64.13350035],\n",
       "       [-65.77722055, -65.79828166, -65.93322117, ..., -65.36629855,\n",
       "        -65.29669203, -65.24425181]])"
      ]
     },
     "execution_count": 115,
     "metadata": {},
     "output_type": "execute_result"
    }
   ],
   "source": [
    "rmp_mat"
   ]
  },
  {
   "cell_type": "code",
   "execution_count": 116,
   "id": "aa7e0bde",
   "metadata": {},
   "outputs": [
    {
     "data": {
      "text/plain": [
       "array([0.29688657, 0.29540585, 0.29185094, ..., 0.19068979, 0.19401741,\n",
       "       0.19888545])"
      ]
     },
     "execution_count": 116,
     "metadata": {},
     "output_type": "execute_result"
    }
   ],
   "source": [
    "rmp_sem_1p5"
   ]
  },
  {
   "cell_type": "code",
   "execution_count": 117,
   "id": "e8a4b36c",
   "metadata": {},
   "outputs": [
    {
     "data": {
      "text/plain": [
       "array([[-67.9440371 , -67.95429122, -67.9087162 , ..., -67.46539544,\n",
       "        -67.46548127, -67.46081189],\n",
       "       [-69.63153262, -69.63337035, -69.60661658, ..., -64.96768553,\n",
       "        -64.88221102, -64.81324082],\n",
       "       [-69.06808347, -69.07273141, -69.07735616, ..., -66.17492084,\n",
       "        -66.1512404 , -66.30963003],\n",
       "       ...,\n",
       "       [-65.97737751, -65.99744034, -65.96322719, ..., -66.98983315,\n",
       "        -67.13150595, -67.15380741],\n",
       "       [-66.30674057, -66.32516071, -66.31626112, ..., -67.62746487,\n",
       "        -67.61678162, -67.60915547],\n",
       "       [-69.08835313, -69.09289997, -69.06906308, ..., -65.81797889,\n",
       "        -65.75958803, -65.69103724]])"
      ]
     },
     "execution_count": 117,
     "metadata": {},
     "output_type": "execute_result"
    }
   ],
   "source": [
    "rmp_mat_1p5"
   ]
  },
  {
   "cell_type": "code",
   "execution_count": 118,
   "id": "71615632",
   "metadata": {},
   "outputs": [],
   "source": [
    "ind_ave_2p2 = rmp_mat.mean(axis =1)"
   ]
  },
  {
   "cell_type": "code",
   "execution_count": 119,
   "id": "53ef0ed2",
   "metadata": {},
   "outputs": [],
   "source": [
    "ind_ave_1p5 = rmp_mat_1p5.mean(axis =1)"
   ]
  },
  {
   "cell_type": "code",
   "execution_count": 120,
   "id": "8d1ad2d9",
   "metadata": {},
   "outputs": [
    {
     "data": {
      "text/plain": [
       "Ttest_indResult(statistic=-36.412482130888336, pvalue=3.129568242957458e-29)"
      ]
     },
     "execution_count": 120,
     "metadata": {},
     "output_type": "execute_result"
    }
   ],
   "source": [
    "import scipy.stats\n",
    "\n",
    "scipy.stats.ttest_ind(ind_ave_1p5, ind_ave_2p2, equal_var=False)"
   ]
  },
  {
   "cell_type": "code",
   "execution_count": 121,
   "id": "7117a440",
   "metadata": {},
   "outputs": [
    {
     "data": {
      "text/plain": [
       "-65.41231310269544"
      ]
     },
     "execution_count": 121,
     "metadata": {},
     "output_type": "execute_result"
    }
   ],
   "source": [
    "ind_ave_2p2.mean()"
   ]
  },
  {
   "cell_type": "code",
   "execution_count": 122,
   "id": "8183bf24",
   "metadata": {},
   "outputs": [
    {
     "data": {
      "text/plain": [
       "-66.32377746410693"
      ]
     },
     "execution_count": 122,
     "metadata": {},
     "output_type": "execute_result"
    }
   ],
   "source": [
    "ind_ave_1p5.mean()"
   ]
  },
  {
   "cell_type": "code",
   "execution_count": 123,
   "id": "810dcdf4",
   "metadata": {},
   "outputs": [],
   "source": [
    "ave_points_2p2 = rmp_mat.mean(axis =1)"
   ]
  },
  {
   "cell_type": "code",
   "execution_count": 124,
   "id": "bfe43ada",
   "metadata": {},
   "outputs": [],
   "source": [
    "ave_points_1p5 = rmp_mat_1p5.mean(axis =1)"
   ]
  },
  {
   "cell_type": "code",
   "execution_count": null,
   "id": "3f1d4865",
   "metadata": {},
   "outputs": [],
   "source": []
  },
  {
   "cell_type": "code",
   "execution_count": 125,
   "id": "2c24efcb",
   "metadata": {
    "scrolled": true
   },
   "outputs": [],
   "source": [
    "mean_1p5 = ave_points_1p5.mean()"
   ]
  },
  {
   "cell_type": "code",
   "execution_count": 126,
   "id": "44324a2d",
   "metadata": {},
   "outputs": [],
   "source": [
    "std_1p5 = ave_points_1p5.std()"
   ]
  },
  {
   "cell_type": "code",
   "execution_count": 127,
   "id": "df91357b",
   "metadata": {},
   "outputs": [],
   "source": [
    "mean_2p2 = ave_points_2p2.mean()\n",
    "\n",
    "std_2p2 = ave_points_2p2.std()"
   ]
  },
  {
   "cell_type": "code",
   "execution_count": 128,
   "id": "1ad911a1",
   "metadata": {},
   "outputs": [],
   "source": [
    "error_bars = [std_1p5, std_2p2]"
   ]
  },
  {
   "cell_type": "code",
   "execution_count": 136,
   "id": "e8878800",
   "metadata": {},
   "outputs": [
    {
     "data": {
      "image/png": "[encoded data removed]",
      "text/plain": [
       "<Figure size 800x600 with 1 Axes>"
      ]
     },
     "metadata": {},
     "output_type": "display_data"
    }
   ],
   "source": [
    "import matplotlib.pyplot as plt\n",
    "#np.random.seed(123)\n",
    "\n",
    "plt.style.use('https://raw.githubusercontent.com/NeuromatchAcademy/course-content/master/nma.mplstyle')\n",
    "\n",
    "\n",
    "w = 0.25    # bar width\n",
    "x = [0.2, 0.6] # x-coordinates of your bars\n",
    "colors = [(0, 0, 1, 1), (1, 0, 0, 1)]    # corresponding colors\n",
    "mean_bars = [mean_1p5,       # data series\n",
    "    mean_2p2]\n",
    "\n",
    "y = ([ave_points_1p5,       # data series\n",
    "    ave_points_2p2])\n",
    "\n",
    "\n",
    "\n",
    "\n",
    "fig, ax = plt.subplots()\n",
    "\n",
    "ax.bar(x,\n",
    "       height= mean_bars,\n",
    "       yerr=error_bars,    # error bars\n",
    "       capsize=12, # error bar cap width in points\n",
    "       width=w,    # bar width\n",
    "       tick_label=[\"PPC\", \"PFC\"],\n",
    "       color=(0,0,0,0),  # face color transparent\n",
    "       edgecolor=colors,\n",
    "       #ecolor=colors,    # error bar colors; setting this raises an error for whatever reason.\n",
    "       )\n",
    "ax.xaxis.tick_top()\n",
    "#axes.spines.top = True\n",
    "\n",
    "ax.spines.top.set_visible(True)\n",
    "ax.spines['bottom'].set_visible(False)\n",
    "\n",
    "SMALL_SIZE = 8\n",
    "MEDIUM_SIZE = 10\n",
    "BIGGER_SIZE = 12\n",
    "\n",
    "plt.rc('font', size=SMALL_SIZE)          # controls default text sizes\n",
    "plt.rc('axes', titlesize=SMALL_SIZE)     # fontsize of the axes title\n",
    "plt.rc('axes', labelsize=MEDIUM_SIZE)    # fontsize of the x and y labels\n",
    "plt.rc('xtick', labelsize=BIGGER_SIZE)    # fontsize of the tick labels\n",
    "plt.rc('ytick', labelsize=BIGGER_SIZE)    # fontsize of the tick labels\n",
    "plt.rc('legend', fontsize=BIGGER_SIZE)    # legend fontsize\n",
    "plt.rc('figure', titlesize=BIGGER_SIZE)  # fontsize of the figure title \n",
    "\n",
    "\n",
    "for i in range(len(x)):\n",
    "    # distribute scatter randomly across whole width of bar\n",
    "    ax.scatter(x[i] + np.random.random(y[i].size) * w - w / 2, y[i], color=colors[i])\n",
    "    \n",
    "plt.xlim([0, 0.8])\n",
    "#plt.ylim([-68.5, -67.5])\n",
    "\n",
    "plt.ylim([-68, -60])\n",
    "\n",
    "\n",
    "\n",
    "plt.show()"
   ]
  },
  {
   "cell_type": "code",
   "execution_count": 130,
   "id": "5e6a9d37",
   "metadata": {},
   "outputs": [
    {
     "data": {
      "text/plain": [
       "Ttest_indResult(statistic=-36.412482130888336, pvalue=3.129568242957458e-29)"
      ]
     },
     "execution_count": 130,
     "metadata": {},
     "output_type": "execute_result"
    }
   ],
   "source": [
    "scipy.stats.ttest_ind(ave_points_1p5, ave_points_2p2, equal_var=False)"
   ]
  },
  {
   "cell_type": "code",
   "execution_count": 137,
   "id": "8a6ada68",
   "metadata": {},
   "outputs": [
    {
     "data": {
      "text/plain": [
       "array([-65.44951562, -65.3545058 , -65.29430983, -65.47869534,\n",
       "       -65.39936147, -65.45874845, -65.41805274, -65.39462   ,\n",
       "       -65.53579773, -65.46167082, -65.42881084, -65.36671053,\n",
       "       -65.50966203, -65.41448685, -65.35465916, -65.42756316,\n",
       "       -65.437742  , -65.27098756, -65.36157632, -65.4287858 ])"
      ]
     },
     "execution_count": 137,
     "metadata": {},
     "output_type": "execute_result"
    }
   ],
   "source": [
    "ave_points_2p2"
   ]
  },
  {
   "cell_type": "code",
   "execution_count": 138,
   "id": "428948e6",
   "metadata": {},
   "outputs": [
    {
     "data": {
      "text/plain": [
       "array([0.89505388, 1.1128617 , 1.00723285, 0.84852578, 0.99998377,\n",
       "       0.95883858, 0.90527559, 0.92500182, 0.65635886, 0.77095107,\n",
       "       0.84184184, 1.19027358, 0.84920637, 0.88999255, 0.86791348,\n",
       "       0.82821998, 0.91577684, 0.95164172, 1.00560347, 0.80873348])"
      ]
     },
     "execution_count": 138,
     "metadata": {},
     "output_type": "execute_result"
    }
   ],
   "source": [
    "ave_points_2p2 - ave_points_1p5"
   ]
  },
  {
   "cell_type": "code",
   "execution_count": 139,
   "id": "ec404dff",
   "metadata": {},
   "outputs": [],
   "source": [
    "a = [0.15108195, 0.06464025, 0.10755381, 0.14588016, 0.14590874,\n",
    "       0.12137242, 0.19113839, 0.19032228, 0.09256572, 0.25674468,\n",
    "       0.14814917, 0.17152546, 0.00872239, 0.12424605, 0.10436863,\n",
    "       0.02164696, 0.15174255, 0.06077489, 0.17077517, 0.07827844]"
   ]
  },
  {
   "cell_type": "code",
   "execution_count": 140,
   "id": "37f44454",
   "metadata": {},
   "outputs": [],
   "source": [
    "b= ave_points_2p2 - ave_points_1p5"
   ]
  },
  {
   "cell_type": "code",
   "execution_count": 145,
   "id": "69e8a49c",
   "metadata": {},
   "outputs": [],
   "source": [
    "a = numpy.array(a)"
   ]
  },
  {
   "cell_type": "code",
   "execution_count": 148,
   "id": "9e287374",
   "metadata": {},
   "outputs": [],
   "source": [
    "b_mean = b.mean()"
   ]
  },
  {
   "cell_type": "code",
   "execution_count": 149,
   "id": "5914e85f",
   "metadata": {},
   "outputs": [],
   "source": [
    "a_mean = a.mean()"
   ]
  },
  {
   "cell_type": "code",
   "execution_count": 150,
   "id": "e82be69b",
   "metadata": {},
   "outputs": [],
   "source": [
    "a_std = a.std()"
   ]
  },
  {
   "cell_type": "code",
   "execution_count": 151,
   "id": "357b60cd",
   "metadata": {},
   "outputs": [],
   "source": [
    "b_std = b.std()"
   ]
  },
  {
   "cell_type": "code",
   "execution_count": null,
   "id": "8951cbcc",
   "metadata": {},
   "outputs": [],
   "source": []
  },
  {
   "cell_type": "code",
   "execution_count": 154,
   "id": "4fce9576",
   "metadata": {},
   "outputs": [
    {
     "data": {
      "image/png": "[encoded data removed]",
      "text/plain": [
       "<Figure size 800x600 with 1 Axes>"
      ]
     },
     "metadata": {},
     "output_type": "display_data"
    }
   ],
   "source": [
    "import matplotlib.pyplot as plt\n",
    "#np.random.seed(123)\n",
    "\n",
    "plt.style.use('https://raw.githubusercontent.com/NeuromatchAcademy/course-content/master/nma.mplstyle')\n",
    "\n",
    "\n",
    "w = 0.25    # bar width\n",
    "x = [0.2, 0.6] # x-coordinates of your bars\n",
    "colors = [(0, 0, 1, 1), (1, 0, 0, 1)]    # corresponding colors\n",
    "mean_bars = [a_mean,       # data series\n",
    "    b_mean]\n",
    "\n",
    "y = ([a,       # data series\n",
    "    b])\n",
    "\n",
    "error = [a_std, b_std]\n",
    "\n",
    "\n",
    "\n",
    "fig, ax = plt.subplots()\n",
    "\n",
    "ax.bar(x,\n",
    "       height= mean_bars,\n",
    "       yerr=error_bars,    # error bars\n",
    "       capsize=12, # error bar cap width in points\n",
    "       width=w,    # bar width\n",
    "       tick_label=[\"PPC\", \"PFC\"],\n",
    "       color=(0,0,0,0),  # face color transparent\n",
    "       edgecolor=colors,\n",
    "       #ecolor=colors,    # error bar colors; setting this raises an error for whatever reason.\n",
    "       )\n",
    "ax.xaxis.tick_top()\n",
    "#axes.spines.top = True\n",
    "\n",
    "ax.spines.top.set_visible(False)\n",
    "ax.spines['bottom'].set_visible(True)\n",
    "\n",
    "SMALL_SIZE = 8\n",
    "MEDIUM_SIZE = 10\n",
    "BIGGER_SIZE = 12\n",
    "\n",
    "plt.rc('font', size=SMALL_SIZE)          # controls default text sizes\n",
    "plt.rc('axes', titlesize=SMALL_SIZE)     # fontsize of the axes title\n",
    "plt.rc('axes', labelsize=MEDIUM_SIZE)    # fontsize of the x and y labels\n",
    "plt.rc('xtick', labelsize=BIGGER_SIZE)    # fontsize of the tick labels\n",
    "plt.rc('ytick', labelsize=BIGGER_SIZE)    # fontsize of the tick labels\n",
    "plt.rc('legend', fontsize=BIGGER_SIZE)    # legend fontsize\n",
    "plt.rc('figure', titlesize=BIGGER_SIZE)  # fontsize of the figure title \n",
    "\n",
    "\n",
    "for i in range(len(x)):\n",
    "    # distribute scatter randomly across whole width of bar\n",
    "    ax.scatter(x[i] + np.random.random(y[i].size) * w - w / 2, y[i], color=colors[i])\n",
    "    \n",
    "plt.xlim([0, 0.8])\n",
    "#plt.ylim([-68.5, -67.5])\n",
    "\n",
    "#lt.ylim([-68, -60])\n",
    "\n",
    "\n",
    "\n",
    "plt.show()"
   ]
  },
  {
   "cell_type": "code",
   "execution_count": null,
   "id": "ecbfbdc8",
   "metadata": {},
   "outputs": [],
   "source": []
  }
 ],
 "metadata": {
  "kernelspec": {
   "display_name": "Python 3 (ipykernel)",
   "language": "python",
   "name": "python3"
  },
  "language_info": {
   "codemirror_mode": {
    "name": "ipython",
    "version": 3
   },
   "file_extension": ".py",
   "mimetype": "text/x-python",
   "name": "python",
   "nbconvert_exporter": "python",
   "pygments_lexer": "ipython3",
   "version": "3.10.6"
  }
 },
 "nbformat": 4,
 "nbformat_minor": 5
}
