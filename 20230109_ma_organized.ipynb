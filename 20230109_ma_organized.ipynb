{
 "cells": [
  {
   "cell_type": "code",
   "execution_count": 3,
   "id": "b3c4a5d4",
   "metadata": {},
   "outputs": [],
   "source": [
    "import pandas as pd\n",
    "import mplfinance as mpf\n",
    "from Investar import Analyzer\n",
    "\n",
    "import warnings"
   ]
  },
  {
   "cell_type": "code",
   "execution_count": 4,
   "id": "32ab6677",
   "metadata": {},
   "outputs": [],
   "source": [
    "def read_krx_code():\n",
    "    \n",
    "   \n",
    "    warnings.filterwarnings(\"ignore\")\n",
    "    \"\"\"KRX로부터 상장기업 목록 파일을 읽어와서 데이터프레임으로 반환\"\"\"\n",
    "    url = 'http://kind.krx.co.kr/corpgeneral/corpList.do?method='\\\n",
    "        'download&searchType=13'\n",
    "    krx = pd.read_html(url, header=0)[0]\n",
    "    krx = krx[['종목코드', '회사명']]\n",
    "    krx = krx.rename(columns={'종목코드': 'code', '회사명': 'company'})\n",
    "    krx.code = krx.code.map('{:06.0f}'.format)\n",
    "    kosdaq = pd.read_excel('stock_list.xlsx')\n",
    "    kosdaq = kosdaq[['종목코드', '회사명']]\n",
    "    kosdaq = kosdaq.rename(columns={'종목코드': 'code', '회사명': 'company'})\n",
    "    kosdaq.code = kosdaq.code.map('{:06.0f}'.format)\n",
    "    #frames = [krx,kosdaq]\n",
    "    #k_stock = pd.concat(frames)\n",
    "\n",
    "    k_stock = krx.append(kosdaq, ignore_index=True)\n",
    "    k_stock_2 = k_stock.drop_duplicates()\n",
    "    k_stock_2.duplicated()\n",
    "\n",
    "    return k_stock_2"
   ]
  },
  {
   "cell_type": "code",
   "execution_count": 5,
   "id": "33d49f47",
   "metadata": {},
   "outputs": [],
   "source": [
    "stock_code_names = read_krx_code()"
   ]
  },
  {
   "cell_type": "code",
   "execution_count": null,
   "id": "2a1168e9",
   "metadata": {},
   "outputs": [],
   "source": []
  },
  {
   "cell_type": "code",
   "execution_count": 19,
   "id": "8be0c7d0",
   "metadata": {},
   "outputs": [
    {
     "data": {
      "text/plain": [
       "2551"
      ]
     },
     "execution_count": 19,
     "metadata": {},
     "output_type": "execute_result"
    }
   ],
   "source": [
    "len(stock_code_names)"
   ]
  },
  {
   "cell_type": "code",
   "execution_count": 7,
   "id": "cc3609f3",
   "metadata": {
    "scrolled": false
   },
   "outputs": [
    {
     "data": {
      "text/plain": [
       "0           DRB동일\n",
       "1             DSR\n",
       "2              GS\n",
       "3       HDC현대산업개발\n",
       "4           KG케미칼\n",
       "          ...    \n",
       "3243         유한양행\n",
       "3244       CJ대한통운\n",
       "3246           경방\n",
       "3247        유수홀딩스\n",
       "3248     한진중공업홀딩스\n",
       "Name: company, Length: 2551, dtype: object"
      ]
     },
     "execution_count": 7,
     "metadata": {},
     "output_type": "execute_result"
    }
   ],
   "source": [
    "stock_code_names.company\n"
   ]
  },
  {
   "cell_type": "code",
   "execution_count": 34,
   "id": "3bb7d70b",
   "metadata": {},
   "outputs": [],
   "source": [
    "def moving_average(num):\n",
    "    mk = Analyzer.MarketDB()\n",
    "    df = mk.get_daily_price(stock_code_names.code.values[num], '2022-06-01', '2023-1-6')\n",
    "    df.index = pd.to_datetime(df.date)\n",
    "    df = df[['open', 'high', 'low', 'close', 'volume']] \n",
    "\n",
    "    df['sma5'] = df.close.rolling(5).mean()   # ① 5 일 이동평균\n",
    "    df['sma10'] = df.close.rolling(10).mean() # ② 10 일 이동평균\n",
    "    df['sma20'] = df.close.rolling(20).mean() # ② 20 일 이동평균\n",
    "    df['sma60'] = df.close.rolling(60).mean()   # 60 일 이동평균\n",
    "    df['sma120'] = df.close.rolling(120).mean() # 120 일 이동평균 \n",
    "    \n",
    "    return df\n",
    "    "
   ]
  },
  {
   "cell_type": "code",
   "execution_count": 35,
   "id": "fd88479f",
   "metadata": {},
   "outputs": [],
   "source": [
    "test = moving_average(1)"
   ]
  },
  {
   "cell_type": "code",
   "execution_count": 36,
   "id": "91f6fa67",
   "metadata": {},
   "outputs": [
    {
     "data": {
      "text/plain": [
       "False"
      ]
     },
     "execution_count": 36,
     "metadata": {},
     "output_type": "execute_result"
    }
   ],
   "source": [
    "# the compnay that is in good order \n",
    "# in_order_company = []\n",
    "\n",
    "\n",
    "test['sma5'][-1] > test['sma10'][-1]"
   ]
  },
  {
   "cell_type": "code",
   "execution_count": 45,
   "id": "f789f081",
   "metadata": {},
   "outputs": [
    {
     "ename": "NameError",
     "evalue": "name 'isempy' is not defined",
     "output_type": "error",
     "traceback": [
      "\u001b[0;31m---------------------------------------------------------------------------\u001b[0m",
      "\u001b[0;31mNameError\u001b[0m                                 Traceback (most recent call last)",
      "Cell \u001b[0;32mIn [45], line 1\u001b[0m\n\u001b[0;32m----> 1\u001b[0m \u001b[43misempy\u001b[49m(test[\u001b[38;5;124m'\u001b[39m\u001b[38;5;124msma10\u001b[39m\u001b[38;5;124m'\u001b[39m][\u001b[38;5;241m-\u001b[39m\u001b[38;5;241m1\u001b[39m])\n",
      "\u001b[0;31mNameError\u001b[0m: name 'isempy' is not defined"
     ]
    }
   ],
   "source": [
    "isempy(test['sma10'][-1])"
   ]
  },
  {
   "cell_type": "code",
   "execution_count": null,
   "id": "766dd327",
   "metadata": {},
   "outputs": [],
   "source": [
    "jongmok = []"
   ]
  },
  {
   "cell_type": "code",
   "execution_count": 61,
   "id": "e962cc58",
   "metadata": {
    "scrolled": false
   },
   "outputs": [
    {
     "name": "stdout",
     "output_type": "stream",
     "text": [
      "it's good\n",
      "89\n",
      "it's good\n",
      "122\n",
      "it's good\n",
      "128\n",
      "it's good\n",
      "235\n",
      "it's good\n",
      "374\n",
      "it's good\n",
      "422\n",
      "it's good\n",
      "468\n",
      "it's good\n",
      "505\n",
      "it's good\n",
      "570\n",
      "it's good\n",
      "591\n",
      "it's good\n",
      "806\n",
      "it's good\n",
      "829\n",
      "ValueError: Code(000nan) doesn't exist.\n",
      "it's good\n",
      "871\n",
      "it's good\n",
      "935\n",
      "it's good\n",
      "945\n",
      "it's good\n",
      "970\n",
      "it's good\n",
      "979\n",
      "it's good\n",
      "1062\n",
      "it's good\n",
      "1098\n",
      "it's good\n",
      "1158\n",
      "it's good\n",
      "1205\n",
      "it's good\n",
      "1225\n",
      "it's good\n",
      "1242\n",
      "it's good\n",
      "1247\n",
      "it's good\n",
      "1258\n",
      "it's good\n",
      "1348\n",
      "it's good\n",
      "1382\n",
      "it's good\n",
      "1405\n",
      "it's good\n",
      "1414\n",
      "it's good\n",
      "1470\n",
      "it's good\n",
      "1542\n",
      "it's good\n",
      "1585\n",
      "it's good\n",
      "1628\n",
      "it's good\n",
      "1635\n",
      "it's good\n",
      "1682\n",
      "it's good\n",
      "1763\n",
      "it's good\n",
      "1781\n",
      "it's good\n",
      "1834\n",
      "it's good\n",
      "1853\n",
      "it's good\n",
      "1877\n",
      "it's good\n",
      "1903\n",
      "it's good\n",
      "1917\n",
      "it's good\n",
      "1929\n",
      "it's good\n",
      "2006\n",
      "it's good\n",
      "2071\n",
      "it's good\n",
      "2126\n",
      "it's good\n",
      "2140\n",
      "it's good\n",
      "2172\n",
      "it's good\n",
      "2178\n",
      "it's good\n",
      "2234\n",
      "it's good\n",
      "2266\n",
      "it's good\n",
      "2381\n",
      "it's good\n",
      "2427\n",
      "it's good\n",
      "2434\n",
      "it's good\n",
      "2452\n",
      "it's good\n",
      "2494\n",
      "it's good\n",
      "2528\n"
     ]
    }
   ],
   "source": [
    "\n",
    "\n",
    "for i in range(len(stock_code_names)):\n",
    "    \n",
    "    test = moving_average(i)\n",
    "    \n",
    "    if(test['sma5'].empty or test['sma10'].empty\n",
    "      or test['sma20'].empty or test['sma60'].empty\n",
    "      or test['sma120'].empty):\n",
    "        pass\n",
    "    \n",
    "    else:\n",
    "        \n",
    "    \n",
    "        if (test['sma5'][-1] > test['sma10'][-1]\n",
    "           and test['sma10'][-1] > test['sma20'][-1]\n",
    "           and test['sma20'][-1] > test['sma60'][-1]\n",
    "           and test['sma60'][-1] > test['sma120'][-1]):\n",
    "            print (\"it's good\")\n",
    "            print(i)\n",
    "            #jongmok.append[o]\n",
    "            \n",
    "            #jongmok.append(stock_code_names.code[i])\n",
    "        else:\n",
    "            #print('no good')\n",
    "            #print(i)\n",
    "            pass\n"
   ]
  },
  {
   "cell_type": "code",
   "execution_count": 38,
   "id": "1ee3f150",
   "metadata": {},
   "outputs": [
    {
     "data": {
      "text/plain": [
       "'KPX케미칼'"
      ]
     },
     "execution_count": 38,
     "metadata": {},
     "output_type": "execute_result"
    }
   ],
   "source": [
    "stock_code_names.company.values[5]"
   ]
  },
  {
   "cell_type": "code",
   "execution_count": 39,
   "id": "ec7cc447",
   "metadata": {},
   "outputs": [
    {
     "ename": "SyntaxError",
     "evalue": "invalid syntax (2971204366.py, line 4)",
     "output_type": "error",
     "traceback": [
      "\u001b[0;36m  Cell \u001b[0;32mIn [39], line 4\u001b[0;36m\u001b[0m\n\u001b[0;31m    if\u001b[0m\n\u001b[0m       ^\u001b[0m\n\u001b[0;31mSyntaxError\u001b[0m\u001b[0;31m:\u001b[0m invalid syntax\n"
     ]
    }
   ],
   "source": [
    "for i in range(len(stock_code_names)):\n",
    "    \n",
    "    test = moving_average(i)\n",
    "    \n",
    "    \n",
    "    \n",
    "\n",
    "\n",
    "test['sma5'][-1]"
   ]
  },
  {
   "cell_type": "code",
   "execution_count": 16,
   "id": "b08aeea9",
   "metadata": {},
   "outputs": [
    {
     "data": {
      "text/plain": [
       "6142.0"
      ]
     },
     "execution_count": 16,
     "metadata": {},
     "output_type": "execute_result"
    }
   ],
   "source": [
    "test['sma10'][-1]"
   ]
  },
  {
   "cell_type": "code",
   "execution_count": 18,
   "id": "c604bfdf",
   "metadata": {},
   "outputs": [
    {
     "data": {
      "text/plain": [
       "2551"
      ]
     },
     "execution_count": 18,
     "metadata": {},
     "output_type": "execute_result"
    }
   ],
   "source": [
    "len(stock_code_names.code)"
   ]
  },
  {
   "cell_type": "code",
   "execution_count": 75,
   "id": "a2af07d9",
   "metadata": {},
   "outputs": [],
   "source": [
    "# 회사 코드가 맞지 않는 것 같다. "
   ]
  },
  {
   "cell_type": "code",
   "execution_count": 74,
   "id": "21cfa7d4",
   "metadata": {
    "scrolled": true
   },
   "outputs": [
    {
     "data": {
      "text/plain": [
       "'042520'"
      ]
     },
     "execution_count": 74,
     "metadata": {},
     "output_type": "execute_result"
    }
   ],
   "source": [
    "(stock_code_names.code[1917])"
   ]
  },
  {
   "cell_type": "code",
   "execution_count": null,
   "id": "69cf46a8",
   "metadata": {},
   "outputs": [],
   "source": []
  }
 ],
 "metadata": {
  "kernelspec": {
   "display_name": "Python 3 (ipykernel)",
   "language": "python",
   "name": "python3"
  },
  "language_info": {
   "codemirror_mode": {
    "name": "ipython",
    "version": 3
   },
   "file_extension": ".py",
   "mimetype": "text/x-python",
   "name": "python",
   "nbconvert_exporter": "python",
   "pygments_lexer": "ipython3",
   "version": "3.10.6"
  }
 },
 "nbformat": 4,
 "nbformat_minor": 5
}
