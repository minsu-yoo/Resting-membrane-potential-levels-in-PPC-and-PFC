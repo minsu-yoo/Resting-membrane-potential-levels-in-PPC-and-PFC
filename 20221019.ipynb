{
 "cells": [
  {
   "cell_type": "code",
   "execution_count": 3,
   "metadata": {},
   "outputs": [],
   "source": [
    "import pickle\n",
    "\n",
    "with open('spike_recorded_test2.pickle', 'rb') as handle:\n",
    "    data = pickle.load(handle)"
   ]
  },
  {
   "cell_type": "code",
   "execution_count": 4,
   "metadata": {},
   "outputs": [
    {
     "data": {
      "text/plain": [
       "{'index': array([71, 49, 27, 61, 34, 72,  4, 17, 73, 60, 80, 14, 48,  4,  2, 62, 38,\n",
       "        26, 30, 14, 72, 26, 12, 79, 55, 73, 83, 37, 76, 24,  3,  4, 33, 57,\n",
       "        80,  7,  6, 73, 14, 72, 36, 26,  2, 11, 59, 82, 16, 44, 64, 28, 55,\n",
       "        77, 53, 30, 26, 51, 69, 83, 40, 37, 57, 11, 73, 74, 84, 61, 78, 64,\n",
       "        66, 24, 45, 14, 37, 68, 15, 64, 10, 36, 21, 22, 53, 44,  0, 41, 22,\n",
       "        41, 63, 21,  5, 66, 71, 82, 82, 81, 13, 22,  8, 30, 50, 60, 41, 63,\n",
       "        61, 60,  7,  6, 38, 78, 67, 66, 57, 83, 56, 48, 19, 29, 40, 26, 49,\n",
       "         0, 48, 46, 33, 32, 27, 15, 26, 20, 13, 37, 43, 18, 53, 83, 46, 29,\n",
       "        29, 12, 83, 50, 26, 46,  5, 72, 71, 48, 75, 25, 61, 68, 73, 67, 60,\n",
       "         5, 17, 22, 66, 62, 73, 27, 33, 51, 83, 16, 55,  7,  6,  2,  5,  0,\n",
       "        26, 43, 24,  4, 56, 28, 76,  5, 49, 19, 39,  8, 76, 82,  4, 29, 66,\n",
       "        53,  7, 16, 79, 14, 12, 80, 46, 74, 12, 70, 17, 20, 36, 19, 84, 37,\n",
       "        35, 47, 18,  7, 26, 63, 70, 53,  7, 27, 52,  7, 15, 35, 48, 24, 44,\n",
       "        18,  5, 76,  7, 30, 37, 53,  8, 31, 53, 25, 62, 84, 47, 21, 46,  8,\n",
       "         7, 65, 66,  4, 29, 53, 57,  2, 30, 25, 11, 16, 22,  8, 84, 57, 17,\n",
       "        46, 14, 65, 68, 23,  6, 64, 79, 49,  5, 25, 31, 64, 83, 71, 70, 42,\n",
       "        18, 57, 47, 78, 14, 42, 33, 34, 43, 82, 58, 21, 47, 77, 39, 82, 10,\n",
       "        25, 24, 74, 30, 20, 15, 67, 73, 76, 28, 15, 13, 27, 25, 77,  3, 29,\n",
       "         4, 77, 57, 54, 24,  2, 31, 39, 31, 83, 58, 10, 49, 43, 80, 65, 42,\n",
       "        59, 23, 17, 42, 38, 72, 29, 32, 14,  2, 38, 46, 38,  1, 62, 68, 65,\n",
       "        79, 55, 70, 10, 21, 69, 35, 10, 83, 30, 26, 41, 47, 37],\n",
       "       dtype=int32),\n",
       " 'sp_time': array([0.0106, 0.0174, 0.0204, 0.0271, 0.037 , 0.0382, 0.0396, 0.0431,\n",
       "        0.044 , 0.045 , 0.0454, 0.0476, 0.0476, 0.0513, 0.0543, 0.0574,\n",
       "        0.0576, 0.0624, 0.0629, 0.0631, 0.0632, 0.0698, 0.0732, 0.0736,\n",
       "        0.0738, 0.0824, 0.0858, 0.0859, 0.0885, 0.0887, 0.0889, 0.0896,\n",
       "        0.1072, 0.1327, 0.1328, 0.1353, 0.1382, 0.1383, 0.1384, 0.1401,\n",
       "        0.1434, 0.1436, 0.1512, 0.1574, 0.1578, 0.1579, 0.1599, 0.1616,\n",
       "        0.1623, 0.166 , 0.1664, 0.1674, 0.1744, 0.1767, 0.1774, 0.1778,\n",
       "        0.1778, 0.1844, 0.1873, 0.1906, 0.1909, 0.1937, 0.1938, 0.2023,\n",
       "        0.2029, 0.2054, 0.2066, 0.2219, 0.2222, 0.2441, 0.2508, 0.2509,\n",
       "        0.2523, 0.2588, 0.2616, 0.2619, 0.2759, 0.2759, 0.2761, 0.2763,\n",
       "        0.2837, 0.2868, 0.29  , 0.2998, 0.3031, 0.3056, 0.3104, 0.313 ,\n",
       "        0.3139, 0.3139, 0.3164, 0.3166, 0.3353, 0.337 , 0.3371, 0.3412,\n",
       "        0.3466, 0.3491, 0.3492, 0.3493, 0.3558, 0.3567, 0.3612, 0.3615,\n",
       "        0.3618, 0.3732, 0.3767, 0.3773, 0.3838, 0.3873, 0.3922, 0.3925,\n",
       "        0.3929, 0.3956, 0.3971, 0.3986, 0.4006, 0.401 , 0.4013, 0.4043,\n",
       "        0.4043, 0.4107, 0.4115, 0.4145, 0.4191, 0.4237, 0.4239, 0.4311,\n",
       "        0.4312, 0.433 , 0.433 , 0.4331, 0.4334, 0.4368, 0.4389, 0.4485,\n",
       "        0.4571, 0.4598, 0.4601, 0.4641, 0.4718, 0.4767, 0.4785, 0.4792,\n",
       "        0.4911, 0.4917, 0.4969, 0.4972, 0.4973, 0.4974, 0.4974, 0.5009,\n",
       "        0.5062, 0.5068, 0.5068, 0.5105, 0.5106, 0.5133, 0.5138, 0.514 ,\n",
       "        0.5168, 0.5171, 0.5255, 0.5262, 0.5262, 0.5263, 0.5279, 0.5321,\n",
       "        0.5321, 0.5343, 0.5345, 0.5454, 0.5458, 0.5485, 0.5541, 0.555 ,\n",
       "        0.5577, 0.558 , 0.5606, 0.5649, 0.5651, 0.573 , 0.5732, 0.5733,\n",
       "        0.58  , 0.5806, 0.5806, 0.5841, 0.5886, 0.5925, 0.5964, 0.6029,\n",
       "        0.6047, 0.6047, 0.6074, 0.6077, 0.6116, 0.6116, 0.6117, 0.6185,\n",
       "        0.6214, 0.6243, 0.6247, 0.6252, 0.6287, 0.6322, 0.6345, 0.6404,\n",
       "        0.6405, 0.6408, 0.6414, 0.6443, 0.6484, 0.6564, 0.6574, 0.6578,\n",
       "        0.6617, 0.6631, 0.6631, 0.6662, 0.6671, 0.6746, 0.683 , 0.6831,\n",
       "        0.6886, 0.6889, 0.6889, 0.689 , 0.6995, 0.6997, 0.6997, 0.7081,\n",
       "        0.7085, 0.7088, 0.709 , 0.7124, 0.7172, 0.7234, 0.724 , 0.732 ,\n",
       "        0.7326, 0.7332, 0.7335, 0.7385, 0.7391, 0.7425, 0.7425, 0.7428,\n",
       "        0.7485, 0.7499, 0.75  , 0.7534, 0.7582, 0.7589, 0.759 , 0.7594,\n",
       "        0.7616, 0.7644, 0.7647, 0.7649, 0.768 , 0.774 , 0.7744, 0.7787,\n",
       "        0.7801, 0.7941, 0.7985, 0.7995, 0.7996, 0.8059, 0.8061, 0.8104,\n",
       "        0.8165, 0.8166, 0.8168, 0.8213, 0.8215, 0.8217, 0.8269, 0.8312,\n",
       "        0.8349, 0.8409, 0.857 , 0.8643, 0.8644, 0.8647, 0.8648, 0.8676,\n",
       "        0.8798, 0.8839, 0.8856, 0.8858, 0.8859, 0.886 , 0.8861, 0.8932,\n",
       "        0.8933, 0.8933, 0.9014, 0.91  , 0.9102, 0.9104, 0.9341, 0.9362,\n",
       "        0.9395, 0.9397, 0.9398, 0.9477, 0.9563, 0.9635, 0.9647, 0.965 ,\n",
       "        0.965 , 0.968 , 0.9711, 0.9776, 0.9784, 0.9817, 0.9873, 1.0013,\n",
       "        1.0047, 1.0052, 1.0085, 1.009 , 1.0223, 1.0327, 1.0378, 1.0435,\n",
       "        1.053 , 1.0588, 1.0621, 1.0622, 1.0656, 1.0692, 1.0761, 1.0762,\n",
       "        1.0769, 1.0777, 1.0791, 1.0867, 1.0931, 1.0992, 1.1048, 1.1063,\n",
       "        1.1129, 1.113 , 1.1155, 1.1251, 1.1284, 1.1325, 1.1448, 1.1612,\n",
       "        1.1617, 1.1926])}"
      ]
     },
     "execution_count": 4,
     "metadata": {},
     "output_type": "execute_result"
    }
   ],
   "source": [
    "data"
   ]
  },
  {
   "cell_type": "code",
   "execution_count": 5,
   "metadata": {},
   "outputs": [],
   "source": [
    "import brian2 as b2"
   ]
  },
  {
   "cell_type": "code",
   "execution_count": 6,
   "metadata": {},
   "outputs": [],
   "source": [
    "spikes_t = data['sp_time']*b2.second"
   ]
  },
  {
   "cell_type": "code",
   "execution_count": null,
   "metadata": {},
   "outputs": [],
   "source": [
    "b2.SpikeGeneratorGroup(num_inputs, spikes_i, spikes_t)"
   ]
  },
  {
   "cell_type": "code",
   "execution_count": 8,
   "metadata": {},
   "outputs": [],
   "source": [
    "spikes_i = data['index']"
   ]
  },
  {
   "cell_type": "code",
   "execution_count": 11,
   "metadata": {},
   "outputs": [],
   "source": [
    "num_neuron = len(set(spikes_i))"
   ]
  },
  {
   "cell_type": "code",
   "execution_count": 13,
   "metadata": {},
   "outputs": [
    {
     "data": {
      "text/plain": [
       "array([71, 49, 27, 61, 34, 72,  4, 17, 73, 60, 80, 14, 48,  4,  2, 62, 38,\n",
       "       26, 30, 14, 72, 26, 12, 79, 55, 73, 83, 37, 76, 24,  3,  4, 33, 57,\n",
       "       80,  7,  6, 73, 14, 72, 36, 26,  2, 11, 59, 82, 16, 44, 64, 28, 55,\n",
       "       77, 53, 30, 26, 51, 69, 83, 40, 37, 57, 11, 73, 74, 84, 61, 78, 64,\n",
       "       66, 24, 45, 14, 37, 68, 15, 64, 10, 36, 21, 22, 53, 44,  0, 41, 22,\n",
       "       41, 63, 21,  5, 66, 71, 82, 82, 81, 13, 22,  8, 30, 50, 60, 41, 63,\n",
       "       61, 60,  7,  6, 38, 78, 67, 66, 57, 83, 56, 48, 19, 29, 40, 26, 49,\n",
       "        0, 48, 46, 33, 32, 27, 15, 26, 20, 13, 37, 43, 18, 53, 83, 46, 29,\n",
       "       29, 12, 83, 50, 26, 46,  5, 72, 71, 48, 75, 25, 61, 68, 73, 67, 60,\n",
       "        5, 17, 22, 66, 62, 73, 27, 33, 51, 83, 16, 55,  7,  6,  2,  5,  0,\n",
       "       26, 43, 24,  4, 56, 28, 76,  5, 49, 19, 39,  8, 76, 82,  4, 29, 66,\n",
       "       53,  7, 16, 79, 14, 12, 80, 46, 74, 12, 70, 17, 20, 36, 19, 84, 37,\n",
       "       35, 47, 18,  7, 26, 63, 70, 53,  7, 27, 52,  7, 15, 35, 48, 24, 44,\n",
       "       18,  5, 76,  7, 30, 37, 53,  8, 31, 53, 25, 62, 84, 47, 21, 46,  8,\n",
       "        7, 65, 66,  4, 29, 53, 57,  2, 30, 25, 11, 16, 22,  8, 84, 57, 17,\n",
       "       46, 14, 65, 68, 23,  6, 64, 79, 49,  5, 25, 31, 64, 83, 71, 70, 42,\n",
       "       18, 57, 47, 78, 14, 42, 33, 34, 43, 82, 58, 21, 47, 77, 39, 82, 10,\n",
       "       25, 24, 74, 30, 20, 15, 67, 73, 76, 28, 15, 13, 27, 25, 77,  3, 29,\n",
       "        4, 77, 57, 54, 24,  2, 31, 39, 31, 83, 58, 10, 49, 43, 80, 65, 42,\n",
       "       59, 23, 17, 42, 38, 72, 29, 32, 14,  2, 38, 46, 38,  1, 62, 68, 65,\n",
       "       79, 55, 70, 10, 21, 69, 35, 10, 83, 30, 26, 41, 47, 37],\n",
       "      dtype=int32)"
      ]
     },
     "execution_count": 13,
     "metadata": {},
     "output_type": "execute_result"
    }
   ],
   "source": [
    "spikes_i"
   ]
  },
  {
   "cell_type": "code",
   "execution_count": 16,
   "metadata": {},
   "outputs": [],
   "source": [
    "SGG = b2.SpikeGeneratorGroup(num_neuron+1, spikes_i, spikes_t)"
   ]
  },
  {
   "cell_type": "code",
   "execution_count": 17,
   "metadata": {},
   "outputs": [],
   "source": [
    "eqs = '''\n",
    "dv/dt = -v/tau : 1\n",
    "'''\n",
    "G = b2.NeuronGroup(1, eqs, threshold='v>1', reset='v=0', method='exact')"
   ]
  },
  {
   "cell_type": "code",
   "execution_count": 18,
   "metadata": {},
   "outputs": [],
   "source": [
    "S = b2.Synapses(SGG, G, on_pre='v += weight')\n",
    "S.connect()"
   ]
  },
  {
   "cell_type": "code",
   "execution_count": 19,
   "metadata": {},
   "outputs": [],
   "source": [
    "M = b2.SpikeMonitor(G)\n"
   ]
  },
  {
   "cell_type": "code",
   "execution_count": 20,
   "metadata": {},
   "outputs": [],
   "source": [
    "net = b2.Network(SGG, G, S, M)\n"
   ]
  },
  {
   "cell_type": "code",
   "execution_count": 21,
   "metadata": {},
   "outputs": [],
   "source": [
    "net.store()\n"
   ]
  },
  {
   "cell_type": "code",
   "execution_count": 25,
   "metadata": {},
   "outputs": [
    {
     "ename": "BrianObjectException",
     "evalue": "Original error and traceback:\nTraceback (most recent call last):\n  File \"/Users/minsu/opt/anaconda3/envs/bmnn/lib/python3.10/site-packages/brian2/core/network.py\", line 901, in before_run\n    obj.before_run(run_namespace)\n  File \"/Users/minsu/opt/anaconda3/envs/bmnn/lib/python3.10/site-packages/brian2/groups/neurongroup.py\", line 888, in before_run\n    self.equations.check_units(self, run_namespace=run_namespace)\n  File \"/Users/minsu/opt/anaconda3/envs/bmnn/lib/python3.10/site-packages/brian2/equations/equations.py\", line 949, in check_units\n    resolved_namespace = group.resolve_all(external, run_namespace,\n  File \"/Users/minsu/opt/anaconda3/envs/bmnn/lib/python3.10/site-packages/brian2/groups/group.py\", line 741, in resolve_all\n    resolved[identifier] = self._resolve(identifier,\n  File \"/Users/minsu/opt/anaconda3/envs/bmnn/lib/python3.10/site-packages/brian2/groups/group.py\", line 701, in _resolve\n    return self._resolve_external(identifier, run_namespace=run_namespace)\n  File \"/Users/minsu/opt/anaconda3/envs/bmnn/lib/python3.10/site-packages/brian2/groups/group.py\", line 825, in _resolve_external\n    raise KeyError(error_msg)\nKeyError: 'The identifier \"tau\" could not be resolved.'\n\nError encountered with object named \"neurongroup\".\nObject was created here (most recent call only, full details in debug log):\n  File \"/var/folders/m3/n1grw1z148sb_3wvhh_2rncr0000gn/T/ipykernel_15537/3529983226.py\", line 4, in <cell line: 4>\n    G = b2.NeuronGroup(1, eqs, threshold='v>1', reset='v=0', method='exact')\n\nAn error occurred when preparing an object. KeyError: 'The identifier \"tau\" could not be resolved.'\n(See above for original error message and traceback.)",
     "output_type": "error",
     "traceback": [
      "\u001b[0;31m---------------------------------------------------------------------------\u001b[0m",
      "\u001b[0;31mKeyError\u001b[0m                                  Traceback (most recent call last)",
      "File \u001b[0;32m~/opt/anaconda3/envs/bmnn/lib/python3.10/site-packages/brian2/core/network.py:901\u001b[0m, in \u001b[0;36mNetwork.before_run\u001b[0;34m(self, run_namespace)\u001b[0m\n\u001b[1;32m    900\u001b[0m \u001b[39mtry\u001b[39;00m:\n\u001b[0;32m--> 901\u001b[0m     obj\u001b[39m.\u001b[39;49mbefore_run(run_namespace)\n\u001b[1;32m    902\u001b[0m \u001b[39mexcept\u001b[39;00m \u001b[39mException\u001b[39;00m \u001b[39mas\u001b[39;00m ex:\n",
      "File \u001b[0;32m~/opt/anaconda3/envs/bmnn/lib/python3.10/site-packages/brian2/groups/neurongroup.py:888\u001b[0m, in \u001b[0;36mNeuronGroup.before_run\u001b[0;34m(self, run_namespace)\u001b[0m\n\u001b[1;32m    886\u001b[0m \u001b[39mdef\u001b[39;00m \u001b[39mbefore_run\u001b[39m(\u001b[39mself\u001b[39m, run_namespace\u001b[39m=\u001b[39m\u001b[39mNone\u001b[39;00m):\n\u001b[1;32m    887\u001b[0m     \u001b[39m# Check units\u001b[39;00m\n\u001b[0;32m--> 888\u001b[0m     \u001b[39mself\u001b[39;49m\u001b[39m.\u001b[39;49mequations\u001b[39m.\u001b[39;49mcheck_units(\u001b[39mself\u001b[39;49m, run_namespace\u001b[39m=\u001b[39;49mrun_namespace)\n\u001b[1;32m    889\u001b[0m     \u001b[39m# Check that subexpressions that refer to stateful functions are labeled\u001b[39;00m\n\u001b[1;32m    890\u001b[0m     \u001b[39m# as \"constant over dt\"\u001b[39;00m\n",
      "File \u001b[0;32m~/opt/anaconda3/envs/bmnn/lib/python3.10/site-packages/brian2/equations/equations.py:949\u001b[0m, in \u001b[0;36mEquations.check_units\u001b[0;34m(self, group, run_namespace)\u001b[0m\n\u001b[1;32m    947\u001b[0m external \u001b[39m-\u001b[39m\u001b[39m=\u001b[39m \u001b[39mset\u001b[39m(all_variables\u001b[39m.\u001b[39mkeys())\n\u001b[0;32m--> 949\u001b[0m resolved_namespace \u001b[39m=\u001b[39m group\u001b[39m.\u001b[39;49mresolve_all(external, run_namespace,\n\u001b[1;32m    950\u001b[0m                                        user_identifiers\u001b[39m=\u001b[39;49mexternal)  \u001b[39m# all variables are user defined\u001b[39;00m\n\u001b[1;32m    952\u001b[0m all_variables\u001b[39m.\u001b[39mupdate(resolved_namespace)\n",
      "File \u001b[0;32m~/opt/anaconda3/envs/bmnn/lib/python3.10/site-packages/brian2/groups/group.py:741\u001b[0m, in \u001b[0;36mGroup.resolve_all\u001b[0;34m(self, identifiers, run_namespace, user_identifiers, additional_variables)\u001b[0m\n\u001b[1;32m    740\u001b[0m \u001b[39mfor\u001b[39;00m identifier \u001b[39min\u001b[39;00m identifiers:\n\u001b[0;32m--> 741\u001b[0m     resolved[identifier] \u001b[39m=\u001b[39m \u001b[39mself\u001b[39;49m\u001b[39m.\u001b[39;49m_resolve(identifier,\n\u001b[1;32m    742\u001b[0m                                          user_identifier\u001b[39m=\u001b[39;49midentifier \u001b[39min\u001b[39;49;00m user_identifiers,\n\u001b[1;32m    743\u001b[0m                                          additional_variables\u001b[39m=\u001b[39;49madditional_variables,\n\u001b[1;32m    744\u001b[0m                                          run_namespace\u001b[39m=\u001b[39;49mrun_namespace)\n\u001b[1;32m    745\u001b[0m \u001b[39mreturn\u001b[39;00m resolved\n",
      "File \u001b[0;32m~/opt/anaconda3/envs/bmnn/lib/python3.10/site-packages/brian2/groups/group.py:701\u001b[0m, in \u001b[0;36mGroup._resolve\u001b[0;34m(self, identifier, run_namespace, user_identifier, additional_variables)\u001b[0m\n\u001b[1;32m    699\u001b[0m \u001b[39m# We did not find the name internally, try to resolve it in the external\u001b[39;00m\n\u001b[1;32m    700\u001b[0m \u001b[39m# namespace\u001b[39;00m\n\u001b[0;32m--> 701\u001b[0m \u001b[39mreturn\u001b[39;00m \u001b[39mself\u001b[39;49m\u001b[39m.\u001b[39;49m_resolve_external(identifier, run_namespace\u001b[39m=\u001b[39;49mrun_namespace)\n",
      "File \u001b[0;32m~/opt/anaconda3/envs/bmnn/lib/python3.10/site-packages/brian2/groups/group.py:825\u001b[0m, in \u001b[0;36mGroup._resolve_external\u001b[0;34m(self, identifier, run_namespace, user_identifier, internal_variable)\u001b[0m\n\u001b[1;32m    823\u001b[0m             error_msg \u001b[39m=\u001b[39m (\u001b[39m'\u001b[39m\u001b[39mThe identifier \u001b[39m\u001b[39m\"\u001b[39m\u001b[39m%s\u001b[39;00m\u001b[39m\"\u001b[39m\u001b[39m could not be resolved.\u001b[39m\u001b[39m'\u001b[39m \u001b[39m%\u001b[39m\n\u001b[1;32m    824\u001b[0m                          identifier)\n\u001b[0;32m--> 825\u001b[0m         \u001b[39mraise\u001b[39;00m \u001b[39mKeyError\u001b[39;00m(error_msg)\n\u001b[1;32m    827\u001b[0m \u001b[39melif\u001b[39;00m \u001b[39mlen\u001b[39m(matches) \u001b[39m>\u001b[39m \u001b[39m1\u001b[39m:\n\u001b[1;32m    828\u001b[0m     \u001b[39m# Possibly, all matches refer to the same object\u001b[39;00m\n",
      "\u001b[0;31mKeyError\u001b[0m: 'The identifier \"tau\" could not be resolved.'",
      "\nDuring handling of the above exception, another exception occurred:\n",
      "\u001b[0;31mBrianObjectException\u001b[0m                      Traceback (most recent call last)",
      "\u001b[1;32mUntitled-1.ipynb Cell 15\u001b[0m in \u001b[0;36m<cell line: 1>\u001b[0;34m()\u001b[0m\n\u001b[0;32m----> <a href='vscode-notebook-cell:Untitled-1.ipynb?jupyter-notebook#X21sdW50aXRsZWQ%3D?line=0'>1</a>\u001b[0m net\u001b[39m.\u001b[39;49mrun(\u001b[39m1\u001b[39;49m\u001b[39m*\u001b[39;49mb2\u001b[39m.\u001b[39;49msecond)\n",
      "File \u001b[0;32m~/opt/anaconda3/envs/bmnn/lib/python3.10/site-packages/brian2/core/base.py:280\u001b[0m, in \u001b[0;36mdevice_override.<locals>.device_override_decorator.<locals>.device_override_decorated_function\u001b[0;34m(*args, **kwds)\u001b[0m\n\u001b[1;32m    278\u001b[0m     \u001b[39mreturn\u001b[39;00m \u001b[39mgetattr\u001b[39m(curdev, name)(\u001b[39m*\u001b[39margs, \u001b[39m*\u001b[39m\u001b[39m*\u001b[39mkwds)\n\u001b[1;32m    279\u001b[0m \u001b[39melse\u001b[39;00m:\n\u001b[0;32m--> 280\u001b[0m     \u001b[39mreturn\u001b[39;00m func(\u001b[39m*\u001b[39;49margs, \u001b[39m*\u001b[39;49m\u001b[39m*\u001b[39;49mkwds)\n",
      "File \u001b[0;32m~/opt/anaconda3/envs/bmnn/lib/python3.10/site-packages/brian2/units/fundamentalunits.py:2392\u001b[0m, in \u001b[0;36mcheck_units.<locals>.do_check_units.<locals>.new_f\u001b[0;34m(*args, **kwds)\u001b[0m\n\u001b[1;32m   2383\u001b[0m             error_message \u001b[39m=\u001b[39m (\u001b[39m'\u001b[39m\u001b[39mFunction \u001b[39m\u001b[39m\"\u001b[39m\u001b[39m{f.__name__}\u001b[39;00m\u001b[39m\"\u001b[39m\u001b[39m \u001b[39m\u001b[39m'\u001b[39m\n\u001b[1;32m   2384\u001b[0m                              \u001b[39m'\u001b[39m\u001b[39mexpected a quantitity with unit \u001b[39m\u001b[39m'\u001b[39m\n\u001b[1;32m   2385\u001b[0m                              \u001b[39m'\u001b[39m\u001b[39m{unit}\u001b[39;00m\u001b[39m for argument \u001b[39m\u001b[39m\"\u001b[39m\u001b[39m{k}\u001b[39;00m\u001b[39m\"\u001b[39m\u001b[39m but got \u001b[39m\u001b[39m'\u001b[39m\n\u001b[1;32m   2386\u001b[0m                              \u001b[39m'\u001b[39m\u001b[39m{value}\u001b[39;00m\u001b[39m'\u001b[39m)\u001b[39m.\u001b[39mformat(f\u001b[39m=\u001b[39mf, k\u001b[39m=\u001b[39mk,\n\u001b[1;32m   2387\u001b[0m                                                unit\u001b[39m=\u001b[39m\u001b[39mrepr\u001b[39m(au[k]),\n\u001b[1;32m   2388\u001b[0m                                                value\u001b[39m=\u001b[39mnewkeyset[k])\n\u001b[1;32m   2389\u001b[0m             \u001b[39mraise\u001b[39;00m DimensionMismatchError(error_message,\n\u001b[1;32m   2390\u001b[0m                                          get_dimensions(newkeyset[k]))\n\u001b[0;32m-> 2392\u001b[0m result \u001b[39m=\u001b[39m f(\u001b[39m*\u001b[39;49margs, \u001b[39m*\u001b[39;49m\u001b[39m*\u001b[39;49mkwds)\n\u001b[1;32m   2393\u001b[0m \u001b[39mif\u001b[39;00m \u001b[39m'\u001b[39m\u001b[39mresult\u001b[39m\u001b[39m'\u001b[39m \u001b[39min\u001b[39;00m au:\n\u001b[1;32m   2394\u001b[0m     \u001b[39mif\u001b[39;00m au[\u001b[39m'\u001b[39m\u001b[39mresult\u001b[39m\u001b[39m'\u001b[39m] \u001b[39m==\u001b[39m \u001b[39mbool\u001b[39m:\n",
      "File \u001b[0;32m~/opt/anaconda3/envs/bmnn/lib/python3.10/site-packages/brian2/core/network.py:1012\u001b[0m, in \u001b[0;36mNetwork.run\u001b[0;34m(self, duration, report, report_period, namespace, profile, level)\u001b[0m\n\u001b[1;32m   1009\u001b[0m \u001b[39mif\u001b[39;00m namespace \u001b[39mis\u001b[39;00m \u001b[39mNone\u001b[39;00m:\n\u001b[1;32m   1010\u001b[0m     namespace \u001b[39m=\u001b[39m get_local_namespace(level\u001b[39m=\u001b[39mlevel\u001b[39m+\u001b[39m\u001b[39m3\u001b[39m)\n\u001b[0;32m-> 1012\u001b[0m \u001b[39mself\u001b[39;49m\u001b[39m.\u001b[39;49mbefore_run(namespace)\n\u001b[1;32m   1014\u001b[0m \u001b[39mif\u001b[39;00m \u001b[39mlen\u001b[39m(all_objects) \u001b[39m==\u001b[39m \u001b[39m0\u001b[39m:\n\u001b[1;32m   1015\u001b[0m     \u001b[39mreturn\u001b[39;00m  \u001b[39m# TODO: raise an error? warning?\u001b[39;00m\n",
      "File \u001b[0;32m~/opt/anaconda3/envs/bmnn/lib/python3.10/site-packages/brian2/core/base.py:280\u001b[0m, in \u001b[0;36mdevice_override.<locals>.device_override_decorator.<locals>.device_override_decorated_function\u001b[0;34m(*args, **kwds)\u001b[0m\n\u001b[1;32m    278\u001b[0m     \u001b[39mreturn\u001b[39;00m \u001b[39mgetattr\u001b[39m(curdev, name)(\u001b[39m*\u001b[39margs, \u001b[39m*\u001b[39m\u001b[39m*\u001b[39mkwds)\n\u001b[1;32m    279\u001b[0m \u001b[39melse\u001b[39;00m:\n\u001b[0;32m--> 280\u001b[0m     \u001b[39mreturn\u001b[39;00m func(\u001b[39m*\u001b[39;49margs, \u001b[39m*\u001b[39;49m\u001b[39m*\u001b[39;49mkwds)\n",
      "File \u001b[0;32m~/opt/anaconda3/envs/bmnn/lib/python3.10/site-packages/brian2/core/network.py:903\u001b[0m, in \u001b[0;36mNetwork.before_run\u001b[0;34m(self, run_namespace)\u001b[0m\n\u001b[1;32m    901\u001b[0m             obj\u001b[39m.\u001b[39mbefore_run(run_namespace)\n\u001b[1;32m    902\u001b[0m         \u001b[39mexcept\u001b[39;00m \u001b[39mException\u001b[39;00m \u001b[39mas\u001b[39;00m ex:\n\u001b[0;32m--> 903\u001b[0m             \u001b[39mraise\u001b[39;00m brian_object_exception(\u001b[39m\"\u001b[39m\u001b[39mAn error occurred when preparing an object.\u001b[39m\u001b[39m\"\u001b[39m, obj, ex)\n\u001b[1;32m    905\u001b[0m \u001b[39m# Check that no object has been run as part of another network before\u001b[39;00m\n\u001b[1;32m    906\u001b[0m \u001b[39mfor\u001b[39;00m obj \u001b[39min\u001b[39;00m all_objects:\n",
      "\u001b[0;31mBrianObjectException\u001b[0m: Original error and traceback:\nTraceback (most recent call last):\n  File \"/Users/minsu/opt/anaconda3/envs/bmnn/lib/python3.10/site-packages/brian2/core/network.py\", line 901, in before_run\n    obj.before_run(run_namespace)\n  File \"/Users/minsu/opt/anaconda3/envs/bmnn/lib/python3.10/site-packages/brian2/groups/neurongroup.py\", line 888, in before_run\n    self.equations.check_units(self, run_namespace=run_namespace)\n  File \"/Users/minsu/opt/anaconda3/envs/bmnn/lib/python3.10/site-packages/brian2/equations/equations.py\", line 949, in check_units\n    resolved_namespace = group.resolve_all(external, run_namespace,\n  File \"/Users/minsu/opt/anaconda3/envs/bmnn/lib/python3.10/site-packages/brian2/groups/group.py\", line 741, in resolve_all\n    resolved[identifier] = self._resolve(identifier,\n  File \"/Users/minsu/opt/anaconda3/envs/bmnn/lib/python3.10/site-packages/brian2/groups/group.py\", line 701, in _resolve\n    return self._resolve_external(identifier, run_namespace=run_namespace)\n  File \"/Users/minsu/opt/anaconda3/envs/bmnn/lib/python3.10/site-packages/brian2/groups/group.py\", line 825, in _resolve_external\n    raise KeyError(error_msg)\nKeyError: 'The identifier \"tau\" could not be resolved.'\n\nError encountered with object named \"neurongroup\".\nObject was created here (most recent call only, full details in debug log):\n  File \"/var/folders/m3/n1grw1z148sb_3wvhh_2rncr0000gn/T/ipykernel_15537/3529983226.py\", line 4, in <cell line: 4>\n    G = b2.NeuronGroup(1, eqs, threshold='v>1', reset='v=0', method='exact')\n\nAn error occurred when preparing an object. KeyError: 'The identifier \"tau\" could not be resolved.'\n(See above for original error message and traceback.)"
     ]
    }
   ],
   "source": [
    "net.run(1*b2.second)"
   ]
  },
  {
   "cell_type": "code",
   "execution_count": null,
   "metadata": {},
   "outputs": [],
   "source": []
  }
 ],
 "metadata": {
  "kernelspec": {
   "display_name": "Python 3.10.6 ('bmnn')",
   "language": "python",
   "name": "python3"
  },
  "language_info": {
   "codemirror_mode": {
    "name": "ipython",
    "version": 3
   },
   "file_extension": ".py",
   "mimetype": "text/x-python",
   "name": "python",
   "nbconvert_exporter": "python",
   "pygments_lexer": "ipython3",
   "version": "3.10.6"
  },
  "orig_nbformat": 4,
  "vscode": {
   "interpreter": {
    "hash": "5eb0974e77c5d1dffbede7f24495ffa6132721472c12bfe3db015b86caa3d969"
   }
  }
 },
 "nbformat": 4,
 "nbformat_minor": 2
}
