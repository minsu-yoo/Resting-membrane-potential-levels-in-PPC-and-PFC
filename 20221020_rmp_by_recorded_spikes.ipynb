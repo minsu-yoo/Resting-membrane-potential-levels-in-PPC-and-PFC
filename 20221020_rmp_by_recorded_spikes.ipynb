{
 "cells": [
  {
   "cell_type": "code",
   "execution_count": 96,
   "id": "4db95aea",
   "metadata": {},
   "outputs": [],
   "source": [
    "import brian2 as b2\n",
    "from brian2 import NeuronGroup, Synapses, PoissonInput, PoissonGroup, network_operation\n",
    "from brian2.monitors import StateMonitor, SpikeMonitor, PopulationRateMonitor\n",
    "from random import sample\n",
    "import numpy.random as rnd\n",
    "from neurodynex3.tools import plot_tools\n",
    "import numpy\n",
    "import matplotlib.pyplot as plt\n",
    "from math import floor\n",
    "import time\n",
    "\n",
    "b2.defaultclock.dt = 0.10 * b2.ms"
   ]
  },
  {
   "cell_type": "code",
   "execution_count": 97,
   "id": "d13b1558",
   "metadata": {},
   "outputs": [],
   "source": [
    "import pickle\n",
    "\n",
    "with open('spike_recorded_test2.pickle', 'rb') as handle:\n",
    "    data = pickle.load(handle)"
   ]
  },
  {
   "cell_type": "code",
   "execution_count": 98,
   "id": "ea69747b",
   "metadata": {},
   "outputs": [
    {
     "data": {
      "text/plain": [
       "dict_keys(['index', 'sp_time'])"
      ]
     },
     "execution_count": 98,
     "metadata": {},
     "output_type": "execute_result"
    }
   ],
   "source": [
    "data.keys()"
   ]
  },
  {
   "cell_type": "code",
   "execution_count": 99,
   "id": "734ff10e",
   "metadata": {},
   "outputs": [],
   "source": [
    "spikes_t = data['sp_time']*b2.second"
   ]
  },
  {
   "cell_type": "code",
   "execution_count": 100,
   "id": "357718e5",
   "metadata": {},
   "outputs": [],
   "source": [
    "spikes_i = data['index']\n"
   ]
  },
  {
   "cell_type": "code",
   "execution_count": 101,
   "id": "d2a88a77",
   "metadata": {},
   "outputs": [],
   "source": [
    "num_neuron = len(set(spikes_i))"
   ]
  },
  {
   "cell_type": "code",
   "execution_count": 102,
   "id": "089b07c5",
   "metadata": {},
   "outputs": [],
   "source": [
    "b2.start_scope()"
   ]
  },
  {
   "cell_type": "code",
   "execution_count": 103,
   "id": "ab1c825d",
   "metadata": {},
   "outputs": [],
   "source": [
    "#neuron 의 갯수를 설정하는것에 대해서 좀 더 일괄적인 접근이 필요하다. \n",
    "\n",
    "SGG = b2.SpikeGeneratorGroup(num_neuron+1, spikes_i, spikes_t)"
   ]
  },
  {
   "cell_type": "code",
   "execution_count": 104,
   "id": "6303f3d8",
   "metadata": {},
   "outputs": [],
   "source": [
    "#이렇게 run 을 해서 spike 들 생성해주어야 한다. \n",
    "\n",
    "M = b2.SpikeMonitor(SGG)\n",
    "\n",
    "\n",
    "#b2.run(1*b2.second)"
   ]
  },
  {
   "cell_type": "code",
   "execution_count": 105,
   "id": "b549bfb3",
   "metadata": {},
   "outputs": [],
   "source": [
    "time_stamp = M.t/b2.second"
   ]
  },
  {
   "cell_type": "code",
   "execution_count": 106,
   "id": "298acb0b",
   "metadata": {},
   "outputs": [
    {
     "data": {
      "text/plain": [
       "array([], dtype=float64)"
      ]
     },
     "execution_count": 106,
     "metadata": {},
     "output_type": "execute_result"
    }
   ],
   "source": [
    "time_stamp[:10]"
   ]
  },
  {
   "cell_type": "code",
   "execution_count": 107,
   "id": "ad3421ee",
   "metadata": {},
   "outputs": [
    {
     "data": {
      "text/plain": [
       "array([], dtype=int32)"
      ]
     },
     "execution_count": 107,
     "metadata": {},
     "output_type": "execute_result"
    }
   ],
   "source": [
    "M.i[:]"
   ]
  },
  {
   "cell_type": "code",
   "execution_count": 108,
   "id": "9a36039d",
   "metadata": {},
   "outputs": [
    {
     "data": {
      "text/plain": [
       "list[<spikemonitor_1.i: array([], dtype=int32)>]"
      ]
     },
     "execution_count": 108,
     "metadata": {},
     "output_type": "execute_result"
    }
   ],
   "source": [
    "list[M.i]"
   ]
  },
  {
   "cell_type": "code",
   "execution_count": 109,
   "id": "85cc2ac6",
   "metadata": {},
   "outputs": [
    {
     "data": {
      "text/plain": [
       "[<matplotlib.lines.Line2D at 0x7f92a8b4f340>]"
      ]
     },
     "execution_count": 109,
     "metadata": {},
     "output_type": "execute_result"
    },
    {
     "data": {
      "image/png": "[encoded data removed]",
      "text/plain": [
       "<Figure size 640x480 with 1 Axes>"
      ]
     },
     "metadata": {},
     "output_type": "display_data"
    }
   ],
   "source": [
    "plt.plot(M.t/b2.second, M.i[:], '.k')\n",
    "\n"
   ]
  },
  {
   "cell_type": "code",
   "execution_count": 110,
   "id": "7a7aaf89",
   "metadata": {},
   "outputs": [],
   "source": [
    "# b2.start_scope()"
   ]
  },
  {
   "cell_type": "code",
   "execution_count": 111,
   "id": "cc10cffd",
   "metadata": {
    "scrolled": false
   },
   "outputs": [
    {
     "data": {
      "text/plain": [
       "[<matplotlib.lines.Line2D at 0x7f92a8bc5480>]"
      ]
     },
     "execution_count": 111,
     "metadata": {},
     "output_type": "execute_result"
    },
    {
     "data": {
      "image/png": "[encoded data removed]",
      "text/plain": [
       "<Figure size 640x480 with 1 Axes>"
      ]
     },
     "metadata": {},
     "output_type": "display_data"
    }
   ],
   "source": [
    "plt.plot(M.t/b2.second, '.k')\n"
   ]
  },
  {
   "cell_type": "code",
   "execution_count": 112,
   "id": "befc13c3",
   "metadata": {},
   "outputs": [],
   "source": [
    "N_Excit=384\n",
    "N_Inhib=96\n",
    "weight_scaling_factor=5.33\n",
    "t_stimulus_start=100 * b2.ms \n",
    "t_stimulus_duration=9999 * b2.ms\n",
    "coherence_level=0.\n",
    "stimulus_update_interval=30 * b2.ms\n",
    "mu0_mean_stimulus_Hz=250.\n",
    "stimulus_std_Hz=20.\n",
    "N_extern=1000\n",
    "firing_rate_extern=9.8 * b2.Hz\n",
    "w_pos=10000.90\n",
    "f_Subpop_size=0.25  # .15 in publication [1]\n",
    "max_sim_time=1000. * b2.ms \n",
    "stop_condition_rate=None\n",
    "monitored_subset_size=512 \n",
    "E_leak_excit = -70.0 * b2.mV\n"
   ]
  },
  {
   "cell_type": "code",
   "execution_count": 113,
   "id": "a464d563",
   "metadata": {},
   "outputs": [],
   "source": [
    "N_Excit=341 \n",
    "N_Inhib=85"
   ]
  },
  {
   "cell_type": "code",
   "execution_count": 114,
   "id": "5d85d4bd",
   "metadata": {},
   "outputs": [
    {
     "name": "stdout",
     "output_type": "stream",
     "text": [
      "simulating 426 neurons. Start: Thu Oct 20 15:01:52 2022\n",
      "w_neg=-3332.2999999999997, w_ext2inhib=20.262664165103192, w_ext2excit=32.833020637898684\n"
     ]
    }
   ],
   "source": [
    "print(\"simulating {} neurons. Start: {}\".format(N_Excit + N_Inhib, time.ctime()))\n",
    "t_stimulus_end = t_stimulus_start + t_stimulus_duration\n",
    "\n",
    "N_Group_A = int(N_Excit * f_Subpop_size)  # size of the excitatory subpopulation sensitive to stimulus A\n",
    "N_Group_B = N_Group_A  # size of the excitatory subpopulation sensitive to stimulus B\n",
    "N_Group_Z = N_Excit - N_Group_A - N_Group_B  # (1-2f)Ne excitatory neurons do not respond to either stimulus.\n",
    "\n",
    "Cm_excit = 0.5 * b2.nF  # membrane capacitance of excitatory neurons\n",
    "G_leak_excit = 25.0 * b2.nS  # leak conductance\n",
    "E_leak_excit = -70.0 * b2.mV  # reversal potential\n",
    "v_spike_thr_excit = -10.0 * b2.mV  # spike condition\n",
    "v_reset_excit = -60.0 * b2.mV  # reset voltage after spike\n",
    "t_abs_refract_excit = 2. * b2.ms  # absolute refractory period\n",
    "\n",
    "# specify the inhibitory interneuron11s:\n",
    "# N_Inhib = 200\n",
    "Cm_inhib = 0.2 * b2.nF\n",
    "G_leak_inhib = 20.0 * b2.nS\n",
    "E_leak_inhib = -70.0 * b2.mV\n",
    "v_spike_thr_inhib = -50.0 * b2.mV\n",
    "v_reset_inhib = -60.0 * b2.mV\n",
    "t_abs_refract_inhib = 1.0 * b2.ms\n",
    "\n",
    "# specify the AMPA synapses\n",
    "E_AMPA = 0.0 * b2.mV\n",
    "tau_AMPA = 2.5 * b2.ms\n",
    "\n",
    "# specify the GABA synapses\n",
    "E_GABA = -70.0 * b2.mV\n",
    "tau_GABA = 5.0 * b2.ms\n",
    "\n",
    "# specify the NMDA synapses\n",
    "E_NMDA = 0.0 * b2.mV\n",
    "tau_NMDA_s = 100.0 * b2.ms\n",
    "tau_NMDA_x = 2. * b2.ms\n",
    "alpha_NMDA = 0.5 * b2.kHz\n",
    "\n",
    "# projections from the external population\n",
    "g_AMPA_extern2inhib = 1.62 * b2.nS\n",
    "g_AMPA_extern2excit = 2.1 * b2.nS\n",
    "\n",
    "# projectsions from the inhibitory populations\n",
    "g_GABA_inhib2inhib = weight_scaling_factor * 1.25 * b2.nS\n",
    "g_GABA_inhib2excit = weight_scaling_factor * 1.60 * b2.nS\n",
    "\n",
    "# projections from the excitatory population\n",
    "g_AMPA_excit2excit = weight_scaling_factor * 0.012 * b2.nS\n",
    "g_AMPA_excit2inhib = weight_scaling_factor * 0.015 * b2.nS\n",
    "g_NMDA_excit2excit = weight_scaling_factor * 0.040 * b2.nS\n",
    "g_NMDA_excit2inhib = weight_scaling_factor * 0.045 * b2.nS  # stronger projection to inhib.\n",
    "\n",
    "# weights and \"adjusted\" weights.\n",
    "w_neg = 1. - f_Subpop_size * (w_pos - 1.) / (1. - f_Subpop_size)\n",
    "# We use the same postsyn AMPA and NMDA conductances. Adjust the weights coming from different sources:\n",
    "w_ext2inhib = g_AMPA_extern2inhib / g_AMPA_excit2inhib\n",
    "w_ext2excit = g_AMPA_extern2excit / g_AMPA_excit2excit\n",
    "# other weights are 1\n",
    "print(\"w_neg={}, w_ext2inhib={}, w_ext2excit={}\".format(w_neg, w_ext2inhib, w_ext2excit))\n",
    "\n",
    "# Define the inhibitory popㅁulation\n",
    "# dynamics:"
   ]
  },
  {
   "cell_type": "code",
   "execution_count": 115,
   "id": "d6c3f38d",
   "metadata": {},
   "outputs": [],
   "source": [
    "excit_lif_dynamics = \"\"\"\n",
    "        s_NMDA_total : 1  # the post synaptic sum of s. compare with s_NMDA_presyn\n",
    "        dv/dt = (\n",
    "        - G_leak_excit * (v-E_leak_excit)\n",
    "        - g_AMPA_excit2excit * s_AMPA * (v-E_AMPA)\n",
    "        - g_GABA_inhib2excit * s_GABA * (v-E_GABA)\n",
    "        - g_NMDA_excit2excit * s_NMDA_total * (v-E_NMDA)/(1.0+1.0*exp(-0.062*v/volt)/3.57)\n",
    "        )/Cm_excit : volt (unless refractory)\n",
    "        ds_AMPA/dt = -s_AMPA/tau_AMPA : 1\n",
    "        ds_GABA/dt = -s_GABA/tau_GABA : 1\n",
    "        ds_NMDA/dt = -s_NMDA/tau_NMDA_s + alpha_NMDA * x * (1-s_NMDA) : 1\n",
    "        dx/dt = -x/tau_NMDA_x : 1\n",
    "    \"\"\""
   ]
  },
  {
   "cell_type": "code",
   "execution_count": null,
   "id": "da1fbea6",
   "metadata": {},
   "outputs": [],
   "source": []
  },
  {
   "cell_type": "code",
   "execution_count": 116,
   "id": "0fe28aeb",
   "metadata": {},
   "outputs": [],
   "source": [
    "excit_pop_A = NeuronGroup(1, model=excit_lif_dynamics,\n",
    "                              threshold=\"v>v_spike_thr_excit\", reset=\"v=v_reset_excit\",\n",
    "                              refractory=t_abs_refract_excit, method=\"rk2\")"
   ]
  },
  {
   "cell_type": "code",
   "execution_count": 117,
   "id": "d15435f0",
   "metadata": {},
   "outputs": [],
   "source": [
    "excit_pop_A.v = rnd.uniform(E_leak_excit / b2.mV, high=E_leak_excit / b2.mV + 5., size=excit_pop_A.N) * b2.mV\n"
   ]
  },
  {
   "cell_type": "code",
   "execution_count": 118,
   "id": "650125e8",
   "metadata": {},
   "outputs": [
    {
     "data": {
      "text/plain": [
       "<neurongroup_3.v: array([-68.95960848]) * mvolt>"
      ]
     },
     "execution_count": 118,
     "metadata": {},
     "output_type": "execute_result"
    }
   ],
   "source": [
    "excit_pop_A.v"
   ]
  },
  {
   "cell_type": "code",
   "execution_count": null,
   "id": "aaaf2ebf",
   "metadata": {},
   "outputs": [],
   "source": []
  },
  {
   "cell_type": "code",
   "execution_count": 119,
   "id": "7155babf",
   "metadata": {},
   "outputs": [],
   "source": [
    "syn_AMPA_A2A = Synapses(SGG, target=excit_pop_A, on_pre=\"s_AMPA += w_pos\", delay=0.5 * b2.ms)\n",
    "syn_AMPA_A2A.connect(p=1.)"
   ]
  },
  {
   "cell_type": "code",
   "execution_count": 120,
   "id": "c7e74a9e",
   "metadata": {},
   "outputs": [],
   "source": [
    "state_M = StateMonitor(excit_pop_A, 'v', record=True)\n"
   ]
  },
  {
   "cell_type": "code",
   "execution_count": null,
   "id": "60173507",
   "metadata": {},
   "outputs": [],
   "source": []
  },
  {
   "cell_type": "code",
   "execution_count": 121,
   "id": "c005f3ae",
   "metadata": {},
   "outputs": [],
   "source": [
    "#b2.start_scope()"
   ]
  },
  {
   "cell_type": "code",
   "execution_count": 122,
   "id": "d929b19f",
   "metadata": {
    "scrolled": true
   },
   "outputs": [],
   "source": [
    "b2.run(2*b2.second)\n"
   ]
  },
  {
   "cell_type": "code",
   "execution_count": 123,
   "id": "8f9580ab",
   "metadata": {},
   "outputs": [
    {
     "data": {
      "text/plain": [
       "[<matplotlib.lines.Line2D at 0x7f92b8882ec0>]"
      ]
     },
     "execution_count": 123,
     "metadata": {},
     "output_type": "execute_result"
    },
    {
     "data": {
      "image/png": "[encoded data removed]",
      "text/plain": [
       "<Figure size 640x480 with 1 Axes>"
      ]
     },
     "metadata": {},
     "output_type": "display_data"
    }
   ],
   "source": [
    "plt.plot(state_M.t/b2.ms, state_M.v[0], label='Neuron 0')\n"
   ]
  },
  {
   "cell_type": "code",
   "execution_count": null,
   "id": "de993cb6",
   "metadata": {},
   "outputs": [],
   "source": []
  },
  {
   "cell_type": "code",
   "execution_count": null,
   "id": "66aa4e30",
   "metadata": {},
   "outputs": [],
   "source": []
  }
 ],
 "metadata": {
  "kernelspec": {
   "display_name": "Python 3 (ipykernel)",
   "language": "python",
   "name": "python3"
  },
  "language_info": {
   "codemirror_mode": {
    "name": "ipython",
    "version": 3
   },
   "file_extension": ".py",
   "mimetype": "text/x-python",
   "name": "python",
   "nbconvert_exporter": "python",
   "pygments_lexer": "ipython3",
   "version": "3.10.6"
  }
 },
 "nbformat": 4,
 "nbformat_minor": 5
}
