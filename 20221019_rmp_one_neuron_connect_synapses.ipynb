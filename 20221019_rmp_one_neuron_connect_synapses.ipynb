{
 "cells": [
  {
   "cell_type": "code",
   "execution_count": 1,
   "id": "5adb7711",
   "metadata": {},
   "outputs": [],
   "source": [
    "import pickle\n",
    "\n",
    "with open('spike_recorded_test2.pickle', 'rb') as handle:\n",
    "    data = pickle.load(handle)"
   ]
  },
  {
   "cell_type": "code",
   "execution_count": 2,
   "id": "fc0592f3",
   "metadata": {},
   "outputs": [
    {
     "data": {
      "text/plain": [
       "{'index': array([71, 49, 27, 61, 34, 72,  4, 17, 73, 60, 80, 14, 48,  4,  2, 62, 38,\n",
       "        26, 30, 14, 72, 26, 12, 79, 55, 73, 83, 37, 76, 24,  3,  4, 33, 57,\n",
       "        80,  7,  6, 73, 14, 72, 36, 26,  2, 11, 59, 82, 16, 44, 64, 28, 55,\n",
       "        77, 53, 30, 26, 51, 69, 83, 40, 37, 57, 11, 73, 74, 84, 61, 78, 64,\n",
       "        66, 24, 45, 14, 37, 68, 15, 64, 10, 36, 21, 22, 53, 44,  0, 41, 22,\n",
       "        41, 63, 21,  5, 66, 71, 82, 82, 81, 13, 22,  8, 30, 50, 60, 41, 63,\n",
       "        61, 60,  7,  6, 38, 78, 67, 66, 57, 83, 56, 48, 19, 29, 40, 26, 49,\n",
       "         0, 48, 46, 33, 32, 27, 15, 26, 20, 13, 37, 43, 18, 53, 83, 46, 29,\n",
       "        29, 12, 83, 50, 26, 46,  5, 72, 71, 48, 75, 25, 61, 68, 73, 67, 60,\n",
       "         5, 17, 22, 66, 62, 73, 27, 33, 51, 83, 16, 55,  7,  6,  2,  5,  0,\n",
       "        26, 43, 24,  4, 56, 28, 76,  5, 49, 19, 39,  8, 76, 82,  4, 29, 66,\n",
       "        53,  7, 16, 79, 14, 12, 80, 46, 74, 12, 70, 17, 20, 36, 19, 84, 37,\n",
       "        35, 47, 18,  7, 26, 63, 70, 53,  7, 27, 52,  7, 15, 35, 48, 24, 44,\n",
       "        18,  5, 76,  7, 30, 37, 53,  8, 31, 53, 25, 62, 84, 47, 21, 46,  8,\n",
       "         7, 65, 66,  4, 29, 53, 57,  2, 30, 25, 11, 16, 22,  8, 84, 57, 17,\n",
       "        46, 14, 65, 68, 23,  6, 64, 79, 49,  5, 25, 31, 64, 83, 71, 70, 42,\n",
       "        18, 57, 47, 78, 14, 42, 33, 34, 43, 82, 58, 21, 47, 77, 39, 82, 10,\n",
       "        25, 24, 74, 30, 20, 15, 67, 73, 76, 28, 15, 13, 27, 25, 77,  3, 29,\n",
       "         4, 77, 57, 54, 24,  2, 31, 39, 31, 83, 58, 10, 49, 43, 80, 65, 42,\n",
       "        59, 23, 17, 42, 38, 72, 29, 32, 14,  2, 38, 46, 38,  1, 62, 68, 65,\n",
       "        79, 55, 70, 10, 21, 69, 35, 10, 83, 30, 26, 41, 47, 37],\n",
       "       dtype=int32),\n",
       " 'sp_time': array([0.0106, 0.0174, 0.0204, 0.0271, 0.037 , 0.0382, 0.0396, 0.0431,\n",
       "        0.044 , 0.045 , 0.0454, 0.0476, 0.0476, 0.0513, 0.0543, 0.0574,\n",
       "        0.0576, 0.0624, 0.0629, 0.0631, 0.0632, 0.0698, 0.0732, 0.0736,\n",
       "        0.0738, 0.0824, 0.0858, 0.0859, 0.0885, 0.0887, 0.0889, 0.0896,\n",
       "        0.1072, 0.1327, 0.1328, 0.1353, 0.1382, 0.1383, 0.1384, 0.1401,\n",
       "        0.1434, 0.1436, 0.1512, 0.1574, 0.1578, 0.1579, 0.1599, 0.1616,\n",
       "        0.1623, 0.166 , 0.1664, 0.1674, 0.1744, 0.1767, 0.1774, 0.1778,\n",
       "        0.1778, 0.1844, 0.1873, 0.1906, 0.1909, 0.1937, 0.1938, 0.2023,\n",
       "        0.2029, 0.2054, 0.2066, 0.2219, 0.2222, 0.2441, 0.2508, 0.2509,\n",
       "        0.2523, 0.2588, 0.2616, 0.2619, 0.2759, 0.2759, 0.2761, 0.2763,\n",
       "        0.2837, 0.2868, 0.29  , 0.2998, 0.3031, 0.3056, 0.3104, 0.313 ,\n",
       "        0.3139, 0.3139, 0.3164, 0.3166, 0.3353, 0.337 , 0.3371, 0.3412,\n",
       "        0.3466, 0.3491, 0.3492, 0.3493, 0.3558, 0.3567, 0.3612, 0.3615,\n",
       "        0.3618, 0.3732, 0.3767, 0.3773, 0.3838, 0.3873, 0.3922, 0.3925,\n",
       "        0.3929, 0.3956, 0.3971, 0.3986, 0.4006, 0.401 , 0.4013, 0.4043,\n",
       "        0.4043, 0.4107, 0.4115, 0.4145, 0.4191, 0.4237, 0.4239, 0.4311,\n",
       "        0.4312, 0.433 , 0.433 , 0.4331, 0.4334, 0.4368, 0.4389, 0.4485,\n",
       "        0.4571, 0.4598, 0.4601, 0.4641, 0.4718, 0.4767, 0.4785, 0.4792,\n",
       "        0.4911, 0.4917, 0.4969, 0.4972, 0.4973, 0.4974, 0.4974, 0.5009,\n",
       "        0.5062, 0.5068, 0.5068, 0.5105, 0.5106, 0.5133, 0.5138, 0.514 ,\n",
       "        0.5168, 0.5171, 0.5255, 0.5262, 0.5262, 0.5263, 0.5279, 0.5321,\n",
       "        0.5321, 0.5343, 0.5345, 0.5454, 0.5458, 0.5485, 0.5541, 0.555 ,\n",
       "        0.5577, 0.558 , 0.5606, 0.5649, 0.5651, 0.573 , 0.5732, 0.5733,\n",
       "        0.58  , 0.5806, 0.5806, 0.5841, 0.5886, 0.5925, 0.5964, 0.6029,\n",
       "        0.6047, 0.6047, 0.6074, 0.6077, 0.6116, 0.6116, 0.6117, 0.6185,\n",
       "        0.6214, 0.6243, 0.6247, 0.6252, 0.6287, 0.6322, 0.6345, 0.6404,\n",
       "        0.6405, 0.6408, 0.6414, 0.6443, 0.6484, 0.6564, 0.6574, 0.6578,\n",
       "        0.6617, 0.6631, 0.6631, 0.6662, 0.6671, 0.6746, 0.683 , 0.6831,\n",
       "        0.6886, 0.6889, 0.6889, 0.689 , 0.6995, 0.6997, 0.6997, 0.7081,\n",
       "        0.7085, 0.7088, 0.709 , 0.7124, 0.7172, 0.7234, 0.724 , 0.732 ,\n",
       "        0.7326, 0.7332, 0.7335, 0.7385, 0.7391, 0.7425, 0.7425, 0.7428,\n",
       "        0.7485, 0.7499, 0.75  , 0.7534, 0.7582, 0.7589, 0.759 , 0.7594,\n",
       "        0.7616, 0.7644, 0.7647, 0.7649, 0.768 , 0.774 , 0.7744, 0.7787,\n",
       "        0.7801, 0.7941, 0.7985, 0.7995, 0.7996, 0.8059, 0.8061, 0.8104,\n",
       "        0.8165, 0.8166, 0.8168, 0.8213, 0.8215, 0.8217, 0.8269, 0.8312,\n",
       "        0.8349, 0.8409, 0.857 , 0.8643, 0.8644, 0.8647, 0.8648, 0.8676,\n",
       "        0.8798, 0.8839, 0.8856, 0.8858, 0.8859, 0.886 , 0.8861, 0.8932,\n",
       "        0.8933, 0.8933, 0.9014, 0.91  , 0.9102, 0.9104, 0.9341, 0.9362,\n",
       "        0.9395, 0.9397, 0.9398, 0.9477, 0.9563, 0.9635, 0.9647, 0.965 ,\n",
       "        0.965 , 0.968 , 0.9711, 0.9776, 0.9784, 0.9817, 0.9873, 1.0013,\n",
       "        1.0047, 1.0052, 1.0085, 1.009 , 1.0223, 1.0327, 1.0378, 1.0435,\n",
       "        1.053 , 1.0588, 1.0621, 1.0622, 1.0656, 1.0692, 1.0761, 1.0762,\n",
       "        1.0769, 1.0777, 1.0791, 1.0867, 1.0931, 1.0992, 1.1048, 1.1063,\n",
       "        1.1129, 1.113 , 1.1155, 1.1251, 1.1284, 1.1325, 1.1448, 1.1612,\n",
       "        1.1617, 1.1926])}"
      ]
     },
     "execution_count": 2,
     "metadata": {},
     "output_type": "execute_result"
    }
   ],
   "source": [
    "data"
   ]
  },
  {
   "cell_type": "code",
   "execution_count": 3,
   "id": "96caacbc",
   "metadata": {},
   "outputs": [],
   "source": [
    "import brian2 as b2"
   ]
  },
  {
   "cell_type": "code",
   "execution_count": 4,
   "id": "3a99df5f",
   "metadata": {
    "scrolled": true
   },
   "outputs": [],
   "source": [
    "spikes_t = data['sp_time']*b2.second"
   ]
  },
  {
   "cell_type": "code",
   "execution_count": 5,
   "id": "27c31ed5",
   "metadata": {},
   "outputs": [],
   "source": [
    "spikes_i = data['index']"
   ]
  },
  {
   "cell_type": "code",
   "execution_count": 6,
   "id": "22131c0f",
   "metadata": {},
   "outputs": [],
   "source": [
    "num_neuron = len(set(spikes_i))"
   ]
  },
  {
   "cell_type": "code",
   "execution_count": 7,
   "id": "77dd7853",
   "metadata": {},
   "outputs": [
    {
     "data": {
      "text/plain": [
       "84"
      ]
     },
     "execution_count": 7,
     "metadata": {},
     "output_type": "execute_result"
    }
   ],
   "source": [
    "num_neuron"
   ]
  },
  {
   "cell_type": "code",
   "execution_count": 8,
   "id": "e77abde8",
   "metadata": {},
   "outputs": [],
   "source": [
    "SGG = b2.SpikeGeneratorGroup(num_neuron+1, spikes_i, spikes_t)"
   ]
  },
  {
   "cell_type": "markdown",
   "id": "f45cba48",
   "metadata": {},
   "source": [
    "Basic setup 을 취한다. "
   ]
  },
  {
   "cell_type": "code",
   "execution_count": null,
   "id": "839eade0",
   "metadata": {},
   "outputs": [],
   "source": []
  },
  {
   "cell_type": "code",
   "execution_count": 9,
   "id": "00c11070",
   "metadata": {},
   "outputs": [],
   "source": [
    "import brian2 as b2\n",
    "from brian2 import NeuronGroup, Synapses, PoissonInput, PoissonGroup, network_operation\n",
    "from brian2.monitors import StateMonitor, SpikeMonitor, PopulationRateMonitor\n",
    "from random import sample\n",
    "import numpy.random as rnd\n",
    "from neurodynex3.tools import plot_tools\n",
    "import numpy\n",
    "import matplotlib.pyplot as plt\n",
    "from math import floor\n",
    "import time\n",
    "\n",
    "b2.defaultclock.dt = 0.10 * b2.ms"
   ]
  },
  {
   "cell_type": "code",
   "execution_count": 10,
   "id": "3627e590",
   "metadata": {},
   "outputs": [],
   "source": [
    "b2.start_scope()\n",
    "\n"
   ]
  },
  {
   "cell_type": "code",
   "execution_count": 11,
   "id": "8f474fbe",
   "metadata": {},
   "outputs": [],
   "source": [
    "N_Excit=384\n",
    "N_Inhib=96\n",
    "weight_scaling_factor=5.33\n",
    "t_stimulus_start=100 * b2.ms \n",
    "t_stimulus_duration=9999 * b2.ms\n",
    "coherence_level=0.\n",
    "stimulus_update_interval=30 * b2.ms\n",
    "mu0_mean_stimulus_Hz=250.\n",
    "stimulus_std_Hz=20.\n",
    "N_extern=1000\n",
    "firing_rate_extern=9.8 * b2.Hz\n",
    "w_pos=100.90\n",
    "f_Subpop_size=0.25  # .15 in publication [1]\n",
    "max_sim_time=1000. * b2.ms \n",
    "stop_condition_rate=None\n",
    "monitored_subset_size=512 \n",
    "E_leak_excit = -70.0 * b2.mV\n"
   ]
  },
  {
   "cell_type": "code",
   "execution_count": 12,
   "id": "733ad2bc",
   "metadata": {},
   "outputs": [],
   "source": [
    "N_Excit=341 \n",
    "N_Inhib=85"
   ]
  },
  {
   "cell_type": "code",
   "execution_count": 13,
   "id": "3b449c7c",
   "metadata": {},
   "outputs": [
    {
     "name": "stdout",
     "output_type": "stream",
     "text": [
      "simulating 426 neurons. Start: Wed Oct 19 16:06:10 2022\n"
     ]
    }
   ],
   "source": [
    "print(\"simulating {} neurons. Start: {}\".format(N_Excit + N_Inhib, time.ctime()))\n",
    "t_stimulus_end = t_stimulus_start + t_stimulus_duration\n",
    "\n",
    "N_Group_A = int(N_Excit * f_Subpop_size)  # size of the excitatory subpopulation sensitive to stimulus A\n",
    "N_Group_B = N_Group_A  # size of the excitatory subpopulation sensitive to stimulus B\n",
    "N_Group_Z = N_Excit - N_Group_A - N_Group_B  # (1-2f)Ne excitatory neurons do not respond to either stimulus.\n",
    "\n",
    "Cm_excit = 0.5 * b2.nF  # membrane capacitance of excitatory neurons\n",
    "G_leak_excit = 25.0 * b2.nS  # leak conductance\n",
    "E_leak_excit = -70.0 * b2.mV  # reversal potential\n",
    "v_spike_thr_excit = -50.0 * b2.mV  # spike condition\n",
    "v_reset_excit = -60.0 * b2.mV  # reset voltage after spike\n",
    "t_abs_refract_excit = 2. * b2.ms  # absolute refractory period\n",
    "\n",
    "# specify the inhibitory interneurons:\n",
    "# N_Inhib = 200\n",
    "Cm_inhib = 0.2 * b2.nF\n",
    "G_leak_inhib = 20.0 * b2.nS\n",
    "E_leak_inhib = -70.0 * b2.mV\n",
    "v_spike_thr_inhib = -50.0 * b2.mV\n",
    "v_reset_inhib = -60.0 * b2.mV\n",
    "t_abs_refract_inhib = 1.0 * b2.ms\n",
    "\n",
    "# specify the AMPA synapses\n",
    "E_AMPA = 0.0 * b2.mV\n",
    "tau_AMPA = 2.5 * b2.ms\n",
    "\n",
    "# specify the GABA synapses\n",
    "E_GABA = -70.0 * b2.mV\n",
    "tau_GABA = 5.0 * b2.ms\n",
    "\n",
    "# specify the NMDA synapses\n",
    "E_NMDA = 0.0 * b2.mV\n",
    "tau_NMDA_s = 100.0 * b2.ms\n",
    "tau_NMDA_x = 2. * b2.ms\n",
    "alpha_NMDA = 0.5 * b2.kHz\n",
    "\n",
    "# projections from the external population\n",
    "g_AMPA_extern2inhib = 1.62 * b2.nS\n",
    "g_AMPA_extern2excit = 2.1 * b2.nS\n",
    "\n",
    "# projectsions from the inhibitory populations\n",
    "g_GABA_inhib2inhib = weight_scaling_factor * 1.25 * b2.nS\n",
    "g_GABA_inhib2excit = weight_scaling_factor * 1.60 * b2.nS\n",
    "\n",
    "# projections from the excitatory population\n",
    "g_AMPA_excit2excit = weight_scaling_factor * 0.012 * b2.nS\n",
    "g_AMPA_excit2inhib = weight_scaling_factor * 0.015 * b2.nS\n",
    "g_NMDA_excit2excit = weight_scaling_factor * 0.040 * b2.nS\n",
    "g_NMDA_excit2inhib = weight_scaling_factor * 0.045 * b2.nS  # stronger projection to inhib.\n",
    "\n",
    "# weights and \"adjusted\" weights.\n",
    "w_neg = 1. - f_Subpop_size * (w_pos - 1.) / (1. - f_Subpop_size)\n",
    "# We use the same postsyn AMPA and NMDA conductances. Adjust the weights coming from different sources:\n",
    "w_ext2inhib = g_AMPA_extern2inhib / g_AMPA_excit2inhib\n",
    "w_ext2excit = g_AMPA_extern2excit / g_AMPA_excit2excit\n",
    "# other weights are 1\n",
    "# print(\"w_neg={}, w_ext2inhib={}, w_ext2excit={}\".format(w_neg, w_ext2inhib, w_ext2excit))\n",
    "\n",
    "# Define the inhibitory popㅁulation\n",
    "# dynamics:"
   ]
  },
  {
   "cell_type": "code",
   "execution_count": 14,
   "id": "b0f7a520",
   "metadata": {},
   "outputs": [],
   "source": [
    "excit_lif_dynamics = \"\"\"\n",
    "        s_NMDA_total : 1  # the post synaptic sum of s. compare with s_NMDA_presyn\n",
    "        dv/dt = (\n",
    "        - G_leak_excit * (v-E_leak_excit)\n",
    "        - g_AMPA_excit2excit * s_AMPA * (v-E_AMPA)\n",
    "        - g_GABA_inhib2excit * s_GABA * (v-E_GABA)\n",
    "        - g_NMDA_excit2excit * s_NMDA_total * (v-E_NMDA)/(1.0+1.0*exp(-0.062*v/volt)/3.57)\n",
    "        )/Cm_excit : volt (unless refractory)\n",
    "        ds_AMPA/dt = -s_AMPA/tau_AMPA : 1\n",
    "        ds_GABA/dt = -s_GABA/tau_GABA : 1\n",
    "        ds_NMDA/dt = -s_NMDA/tau_NMDA_s + alpha_NMDA * x * (1-s_NMDA) : 1\n",
    "        dx/dt = -x/tau_NMDA_x : 1\n",
    "    \"\"\""
   ]
  },
  {
   "cell_type": "code",
   "execution_count": 15,
   "id": "c59686fd",
   "metadata": {},
   "outputs": [],
   "source": [
    "b2.start_scope()"
   ]
  },
  {
   "cell_type": "code",
   "execution_count": 16,
   "id": "eb72db57",
   "metadata": {},
   "outputs": [],
   "source": [
    "excit_pop_A = NeuronGroup(1, model=excit_lif_dynamics,\n",
    "                              threshold=\"v>v_spike_thr_excit\", reset=\"v=v_reset_excit\",\n",
    "                              refractory=t_abs_refract_excit, method=\"rk2\")"
   ]
  },
  {
   "cell_type": "code",
   "execution_count": 17,
   "id": "87e4ce34",
   "metadata": {},
   "outputs": [],
   "source": [
    "excit_pop_A.v = rnd.uniform(E_leak_excit / b2.mV, high=E_leak_excit / b2.mV + 5., size=excit_pop_A.N) * b2.mV\n"
   ]
  },
  {
   "cell_type": "code",
   "execution_count": null,
   "id": "962cc758",
   "metadata": {},
   "outputs": [],
   "source": []
  },
  {
   "cell_type": "code",
   "execution_count": 18,
   "id": "32c43a5d",
   "metadata": {},
   "outputs": [
    {
     "data": {
      "text/plain": [
       "SpikeGeneratorGroup(85, indices=<length 354 array>, times=<length 354 array>"
      ]
     },
     "execution_count": 18,
     "metadata": {},
     "output_type": "execute_result"
    }
   ],
   "source": [
    "SGG"
   ]
  },
  {
   "cell_type": "code",
   "execution_count": 19,
   "id": "a77c9005",
   "metadata": {},
   "outputs": [],
   "source": [
    "syn_AMPA_A2A = Synapses(SGG, target=excit_pop_A, on_pre=\"s_AMPA += w_pos\", delay=0.5 * b2.ms)\n",
    "syn_AMPA_A2A.connect(p=1.)"
   ]
  },
  {
   "cell_type": "code",
   "execution_count": 20,
   "id": "658eb474",
   "metadata": {},
   "outputs": [],
   "source": [
    "M = StateMonitor(excit_pop_A, 'v', record=True)\n"
   ]
  },
  {
   "cell_type": "code",
   "execution_count": null,
   "id": "8f32b056",
   "metadata": {},
   "outputs": [],
   "source": []
  },
  {
   "cell_type": "code",
   "execution_count": null,
   "id": "91a3db7c",
   "metadata": {},
   "outputs": [],
   "source": []
  },
  {
   "cell_type": "code",
   "execution_count": 21,
   "id": "7515625a",
   "metadata": {},
   "outputs": [
    {
     "name": "stderr",
     "output_type": "stream",
     "text": [
      "WARNING    \"synapses\" has been included in the network but not the object on which it depends.Setting \"synapses\" to inactive. [brian2.core.magic.dependency_warning]\n"
     ]
    }
   ],
   "source": [
    "b2.run(1000*b2.ms)\n"
   ]
  },
  {
   "cell_type": "code",
   "execution_count": null,
   "id": "59aa3fe1",
   "metadata": {},
   "outputs": [],
   "source": []
  },
  {
   "cell_type": "code",
   "execution_count": 22,
   "id": "d7e1815a",
   "metadata": {},
   "outputs": [
    {
     "data": {
      "text/plain": [
       "[<matplotlib.lines.Line2D at 0x7fdb3a86db70>]"
      ]
     },
     "execution_count": 22,
     "metadata": {},
     "output_type": "execute_result"
    },
    {
     "data": {
      "image/png": "[encoded data removed]",
      "text/plain": [
       "<Figure size 640x480 with 1 Axes>"
      ]
     },
     "metadata": {},
     "output_type": "display_data"
    }
   ],
   "source": [
    "plt.plot(M.t/b2.ms, M.v[0], label='Neuron 0')\n"
   ]
  },
  {
   "cell_type": "code",
   "execution_count": 19,
   "id": "01400d84",
   "metadata": {},
   "outputs": [
    {
     "ename": "NameError",
     "evalue": "name 'plot' is not defined",
     "output_type": "error",
     "traceback": [
      "\u001b[0;31m---------------------------------------------------------------------------\u001b[0m",
      "\u001b[0;31mNameError\u001b[0m                                 Traceback (most recent call last)",
      "Input \u001b[0;32mIn [19]\u001b[0m, in \u001b[0;36m<cell line: 15>\u001b[0;34m()\u001b[0m\n\u001b[1;32m     13\u001b[0m     net\u001b[38;5;241m.\u001b[39mrun(\u001b[38;5;241m1\u001b[39m\u001b[38;5;241m*\u001b[39mb2\u001b[38;5;241m.\u001b[39msecond)\n\u001b[1;32m     14\u001b[0m     output_rates\u001b[38;5;241m.\u001b[39mappend(M\u001b[38;5;241m.\u001b[39mnum_spikes\u001b[38;5;241m/\u001b[39mb2\u001b[38;5;241m.\u001b[39msecond)\n\u001b[0;32m---> 15\u001b[0m \u001b[43mplot\u001b[49m(tau_range\u001b[38;5;241m/\u001b[39mms, output_rates)\n\u001b[1;32m     16\u001b[0m xlabel(\u001b[38;5;124mr\u001b[39m\u001b[38;5;124m'\u001b[39m\u001b[38;5;124m$\u001b[39m\u001b[38;5;124m\\\u001b[39m\u001b[38;5;124mtau$ (ms)\u001b[39m\u001b[38;5;124m'\u001b[39m)\n\u001b[1;32m     17\u001b[0m ylabel(\u001b[38;5;124m'\u001b[39m\u001b[38;5;124mFiring rate (sp/s)\u001b[39m\u001b[38;5;124m'\u001b[39m)\n",
      "\u001b[0;31mNameError\u001b[0m: name 'plot' is not defined"
     ]
    }
   ],
   "source": [
    "M = SpikeMonitor(excit_pop_A)\n",
    "\n",
    "\n",
    "#M = SpikeMonitor(G)\n",
    "# Store the current state of the network\n",
    "net = b2.Network(SGG, excit_pop_A, syn_AMPA_A2A, M)\n",
    "net.store()\n",
    "output_rates = []\n",
    "for tau in range(3):\n",
    "    # Restore the original state of the network\n",
    "    net.restore()\n",
    "    # Run it with the new value of tau\n",
    "    net.run(1*b2.second)\n",
    "    output_rates.append(M.num_spikes/b2.second)\n"
   ]
  },
  {
   "cell_type": "code",
   "execution_count": 22,
   "id": "7bb5e74e",
   "metadata": {},
   "outputs": [
    {
     "data": {
      "text/plain": [
       "[<matplotlib.lines.Line2D at 0x7fb3e0cb9960>]"
      ]
     },
     "execution_count": 22,
     "metadata": {},
     "output_type": "execute_result"
    },
    {
     "data": {
      "image/png": "[encoded data removed]",
      "text/plain": [
       "<Figure size 640x480 with 1 Axes>"
      ]
     },
     "metadata": {},
     "output_type": "display_data"
    }
   ],
   "source": [
    "plt.plot(output_rates)\n"
   ]
  },
  {
   "cell_type": "code",
   "execution_count": 31,
   "id": "539544b9",
   "metadata": {
    "scrolled": true
   },
   "outputs": [],
   "source": [
    "net = b2.Network(SGG, excit_pop_A, syn_AMPA_A2A, M)\n"
   ]
  },
  {
   "cell_type": "code",
   "execution_count": 49,
   "id": "b58fbc33",
   "metadata": {},
   "outputs": [],
   "source": [
    "\n",
    "\n"
   ]
  },
  {
   "cell_type": "code",
   "execution_count": 60,
   "id": "d0bed6ce",
   "metadata": {},
   "outputs": [
    {
     "name": "stderr",
     "output_type": "stream",
     "text": [
      "WARNING    \"synapses_1\" has been included in the network but not the object on which it depends.Setting \"synapses_1\" to inactive. [brian2.core.magic.dependency_warning]\n"
     ]
    }
   ],
   "source": [
    "b2.run(1*b2.second)"
   ]
  },
  {
   "cell_type": "code",
   "execution_count": 41,
   "id": "eea602b0",
   "metadata": {},
   "outputs": [],
   "source": [
    "M = SpikeMonitor(excit_pop_A)\n",
    "\n"
   ]
  },
  {
   "cell_type": "code",
   "execution_count": 42,
   "id": "4ca37ed4",
   "metadata": {},
   "outputs": [
    {
     "data": {
      "text/plain": [
       "<SpikeMonitor, recording from spikemonitor_2>"
      ]
     },
     "execution_count": 42,
     "metadata": {},
     "output_type": "execute_result"
    }
   ],
   "source": [
    "M"
   ]
  },
  {
   "cell_type": "code",
   "execution_count": null,
   "id": "4979177d",
   "metadata": {},
   "outputs": [],
   "source": []
  },
  {
   "cell_type": "code",
   "execution_count": 43,
   "id": "b8330416",
   "metadata": {},
   "outputs": [],
   "source": [
    "def get_monitors(pop, monitored_subset_size):\n",
    "    \"\"\"\n",
    "    Internal helper.\n",
    "    Args:\n",
    "        pop:\n",
    "        monitored_subset_size:\n",
    "\n",
    "    Returns:\n",
    "\n",
    "    \"\"\"\n",
    "    monitored_subset_size = min(monitored_subset_size, pop.N)\n",
    "    idx_monitored_neurons = sample(range(pop.N), monitored_subset_size)\n",
    "    rate_monitor = PopulationRateMonitor(pop)\n",
    "    # record parameter: record=idx_monitored_neurons is not supported???\n",
    "    spike_monitor = SpikeMonitor(pop, record=idx_monitored_neurons)\n",
    "    voltage_monitor = StateMonitor(pop, \"v\", record=idx_monitored_neurons)\n",
    "    return rate_monitor, spike_monitor, voltage_monitor, idx_monitored_neurons"
   ]
  },
  {
   "cell_type": "code",
   "execution_count": 44,
   "id": "bd54280e",
   "metadata": {},
   "outputs": [],
   "source": [
    "rate_monitor_A, spike_monitor_A, voltage_monitor_A, idx_monitored_neurons_A = \\\n",
    "        get_monitors(excit_pop_A, monitored_subset_size)\n"
   ]
  },
  {
   "cell_type": "code",
   "execution_count": 45,
   "id": "d52bcb67",
   "metadata": {},
   "outputs": [
    {
     "ename": "NameError",
     "evalue": "name 'plot' is not defined",
     "output_type": "error",
     "traceback": [
      "\u001b[0;31m---------------------------------------------------------------------------\u001b[0m",
      "\u001b[0;31mNameError\u001b[0m                                 Traceback (most recent call last)",
      "Input \u001b[0;32mIn [45]\u001b[0m, in \u001b[0;36m<cell line: 1>\u001b[0;34m()\u001b[0m\n\u001b[0;32m----> 1\u001b[0m \u001b[43mplot\u001b[49m(statemon\u001b[38;5;241m.\u001b[39mt\u001b[38;5;241m/\u001b[39mms, statemon\u001b[38;5;241m.\u001b[39mv[\u001b[38;5;241m0\u001b[39m])\n",
      "\u001b[0;31mNameError\u001b[0m: name 'plot' is not defined"
     ]
    }
   ],
   "source": [
    "plot(statemon.t/ms, statemon.v[0])\n"
   ]
  },
  {
   "cell_type": "code",
   "execution_count": 46,
   "id": "254e29af",
   "metadata": {},
   "outputs": [
    {
     "data": {
      "text/plain": [
       "<spikemonitor_2.t: array([], dtype=float64) * second>"
      ]
     },
     "execution_count": 46,
     "metadata": {},
     "output_type": "execute_result"
    }
   ],
   "source": [
    "M.t"
   ]
  },
  {
   "cell_type": "code",
   "execution_count": null,
   "id": "34957d0d",
   "metadata": {},
   "outputs": [],
   "source": []
  },
  {
   "cell_type": "code",
   "execution_count": null,
   "id": "bbb527d7",
   "metadata": {},
   "outputs": [],
   "source": []
  }
 ],
 "metadata": {
  "kernelspec": {
   "display_name": "Python 3 (ipykernel)",
   "language": "python",
   "name": "python3"
  },
  "language_info": {
   "codemirror_mode": {
    "name": "ipython",
    "version": 3
   },
   "file_extension": ".py",
   "mimetype": "text/x-python",
   "name": "python",
   "nbconvert_exporter": "python",
   "pygments_lexer": "ipython3",
   "version": "3.10.6"
  }
 },
 "nbformat": 4,
 "nbformat_minor": 5
}
