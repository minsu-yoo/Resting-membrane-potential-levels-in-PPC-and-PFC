{
 "cells": [
  {
   "cell_type": "code",
   "execution_count": 2,
   "id": "26554aea",
   "metadata": {},
   "outputs": [],
   "source": [
    "import brian2 as b2\n",
    "from brian2 import NeuronGroup, Synapses, PoissonInput, PoissonGroup, network_operation\n",
    "from brian2.monitors import StateMonitor, SpikeMonitor, PopulationRateMonitor\n",
    "from random import sample\n",
    "import numpy.random as rnd\n",
    "from neurodynex3.tools import plot_tools\n",
    "import numpy\n",
    "import matplotlib.pyplot as plt\n",
    "from math import floor\n",
    "import time\n",
    "\n",
    "b2.defaultclock.dt = 0.10 * b2.ms\n",
    "\n",
    "from brian2 import *\n",
    "\n",
    "\n"
   ]
  },
  {
   "cell_type": "code",
   "execution_count": 7,
   "id": "b26033ee",
   "metadata": {},
   "outputs": [],
   "source": [
    "def nmda_by_x(x_rate, w_pos):\n",
    "    \n",
    "    start_scope()\n",
    "    #w_pos = 1.9\n",
    "    N_Excit=384\n",
    "    N_Inhib=96\n",
    "    weight_scaling_factor=5.33\n",
    "    t_stimulus_start=100 * b2.ms\n",
    "    t_stimulus_duration=9999 * b2.ms\n",
    "    coherence_level=0.\n",
    "    stimulus_update_interval=30 * b2.ms\n",
    "    mu0_mean_stimulus_Hz=250.\n",
    "    stimulus_std_Hz=20.\n",
    "    N_extern=1000\n",
    "    firing_rate_extern=9.8 * b2.Hz\n",
    "    f_Subpop_size=0.25  # .15 in publication [1]                     \n",
    "    max_sim_time=1000. * b2.ms \n",
    "    stop_condition_rate=None\n",
    "\n",
    "    monitored_subset_size=512, \n",
    "    E_leak_excit = -70.0 * b2.mV\n",
    "\n",
    "    print(\"simulating {} neurons. Start: {}\".format(N_Excit + N_Inhib, time.ctime()))\n",
    "    t_stimulus_end = t_stimulus_start + t_stimulus_duration\n",
    "\n",
    "    N_Group_A = int(N_Excit * f_Subpop_size)  # size of the excitatory subpopulation sensitive to stimulus A\n",
    "    N_Group_B = N_Group_A  # size of the excitatory subpopulation sensitive to stimulus B\n",
    "    N_Group_Z = N_Excit - N_Group_A - N_Group_B  # (1-2f)Ne excitatory neurons do not respond to either stimulus.\n",
    "\n",
    "    Cm_excit = 0.5 * b2.nF  # membrane capacitance of excitatory neurons\n",
    "    G_leak_excit = 25.0 * b2.nS  # leak conductance\n",
    "    E_leak_excit = -70.0 * b2.mV  # reversal potential   #######################################################\n",
    "    v_spike_thr_excit = -50.0 * b2.mV  # spike condition\n",
    "    v_reset_excit = -60.0 * b2.mV  # reset voltage after spike\n",
    "    t_abs_refract_excit = 2. * b2.ms  # absolute refractory period\n",
    "\n",
    "    # specify the inhibitory interneurons:\n",
    "    # N_Inhib = 200\n",
    "    Cm_inhib = 0.2 * b2.nF\n",
    "    G_leak_inhib = 20.0 * b2.nS\n",
    "    E_leak_inhib = -90.0 * b2.mV\n",
    "    v_spike_thr_inhib = -50.0 * b2.mV\n",
    "    v_reset_inhib = -60.0 * b2.mV\n",
    "    t_abs_refract_inhib = 1.0 * b2.ms\n",
    "\n",
    "    # specify the AMPA synapses\n",
    "    E_AMPA = 0.0 * b2.mV\n",
    "    tau_AMPA = 2.5 * b2.ms\n",
    "\n",
    "    # specify the GABA synapses\n",
    "    E_GABA = -70.0 * b2.mV\n",
    "    tau_GABA = 5.0 * b2.ms\n",
    "\n",
    "    # specify the NMDA synapses\n",
    "    E_NMDA = 0.0 * b2.mV\n",
    "    tau_NMDA_s = 100.0 * b2.ms\n",
    "    tau_NMDA_x = 2. * b2.ms\n",
    "    alpha_NMDA = 0.5 * b2.kHz\n",
    "\n",
    "    # projections from the external population\n",
    "    g_AMPA_extern2inhib = 1.62 * b2.nS\n",
    "    g_AMPA_extern2excit = 2.1 * b2.nS\n",
    "\n",
    "    # projectsions from the inhibitory populations\n",
    "    g_GABA_inhib2inhib = weight_scaling_factor * 1.25 * b2.nS\n",
    "    g_GABA_inhib2excit = weight_scaling_factor * 1.60 * b2.nS\n",
    "\n",
    "    # projections from the excitatory population\n",
    "    g_AMPA_excit2excit = weight_scaling_factor * 0.012 * b2.nS\n",
    "    g_AMPA_excit2inhib = weight_scaling_factor * 0.015 * b2.nS\n",
    "    g_NMDA_excit2excit = weight_scaling_factor * 0.040 * b2.nS\n",
    "    g_NMDA_excit2inhib = weight_scaling_factor * 0.045 * b2.nS  # stronger projection to inhib.\n",
    "\n",
    "    # weights and \"adjusted\" weights.\n",
    "    w_neg = 1. - f_Subpop_size * (w_pos - 1.) / (1. - f_Subpop_size)\n",
    "    # We use the same postsyn AMPA and NMDA conductances. Adjust the weights coming from different sources:\n",
    "    w_ext2inhib = g_AMPA_extern2inhib / g_AMPA_excit2inhib\n",
    "    w_ext2excit = g_AMPA_extern2excit / g_AMPA_excit2excit\n",
    "    # other weights are 1\n",
    "    # print(\"w_neg={}, w_ext2inhib={}, w_ext2excit={}\".format(w_neg, w_ext2inhib, w_ext2excit))A\n",
    "    # Define the inhibitory population\n",
    "\n",
    "\n",
    "\n",
    "    excit_lif_dynamics = \"\"\"\n",
    "            s_NMDA_total : 1  # the post synaptic sum of s. compare with s_NMDA_presyn\n",
    "            dv/dt = (\n",
    "            - G_leak_excit * (v-E_leak_excit)\n",
    "            - g_AMPA_excit2excit * s_AMPA * (v-E_AMPA)\n",
    "            - g_GABA_inhib2excit * s_GABA * (v-E_GABA)\n",
    "            - g_NMDA_excit2excit * s_NMDA_total * (v-E_NMDA)/(1.0+1.0*exp(-0.062*v/volt)/3.57)\n",
    "            )/Cm_excit : volt (unless refractory)\n",
    "            ds_AMPA/dt = -s_AMPA/tau_AMPA : 1\n",
    "            ds_GABA/dt = -s_GABA/tau_GABA : 1\n",
    "            ds_NMDA/dt = -s_NMDA/tau_NMDA_s + alpha_NMDA * x * (1-s_NMDA) : 1\n",
    "            dx/dt = -x/tau_NMDA_x : 1\n",
    "        \"\"\"\n",
    "    \n",
    "    excit_lif_dynamics_nmda = \"\"\"\n",
    "            s_NMDA_total : 1  # the post synaptic sum of s. compare with s_NMDA_presyn\n",
    "            dv/dt = (\n",
    "            - G_leak_excit * (v-E_leak_excit)\n",
    "            - g_AMPA_excit2excit * s_AMPA * (v-E_AMPA)\n",
    "            - g_GABA_inhib2excit * s_GABA * (v-E_GABA)\n",
    "            - g_NMDA_excit2excit * s_NMDA_total * (v-E_NMDA)/(1.0+1.0*exp(-0.062*v/volt)/3.57)\n",
    "            )/Cm_excit : volt (unless refractory)\n",
    "            ds_AMPA/dt = -s_AMPA/tau_AMPA : 1\n",
    "            ds_GABA/dt = -s_GABA/tau_GABA : 1\n",
    "            ds_NMDA/dt = -s_NMDA/tau_NMDA_s + alpha_NMDA * x * (1-s_NMDA) : 1\n",
    "            dx/dt = -x/tau_NMDA_x : 1\n",
    "        \"\"\"\n",
    "\n",
    "\n",
    "    one_neuron = NeuronGroup(1, model=excit_lif_dynamics_nmda,\n",
    "                            threshold=\"v>v_spike_thr_excit\", reset=\"v=v_reset_excit\",\n",
    "                            refractory=t_abs_refract_excit, method=\"rk2\")\n",
    "\n",
    "    one_neuron.v = rnd.uniform(E_leak_excit / b2.mV, high=E_leak_excit / b2.mV + 5., size=one_neuron.N) * b2.mV\n",
    "\n",
    "\n",
    "\n",
    "\n",
    "    # network parameters\n",
    "    N_E = 1000\n",
    "    gamma = 0.25\n",
    "    N_I = round(gamma * N_E)\n",
    "    N = N_E + N_I\n",
    "    epsilon = 0.1\n",
    "    C_E = epsilon * N_E\n",
    "    C_ext = C_E\n",
    "\n",
    "    # neuron parameters\n",
    "    tau = 10 * ms\n",
    "    theta = 1 * mV\n",
    "    V_r = 0 * mV\n",
    "    tau_rp = 2 * ms\n",
    "\n",
    "    # synapse parameters\n",
    "    J = 0.1 * mV\n",
    "    D = 1.5 * ms\n",
    "    nu_ext = 10 *Hz\n",
    "    # external stimulus\n",
    "    nu_thr = theta / (J * C_E * tau)\n",
    "\n",
    "    defaultclock.dt = 0.1 * ms\n",
    "\n",
    "    Poisson_NE = 1000\n",
    "    g = 1\n",
    "\n",
    "    #w_pos= 1.9\n",
    "\n",
    "\n",
    "\n",
    "    # with and without NMDA 와 비교하기 \n",
    "    exc_poisson_input = PoissonInput(\n",
    "            target=one_neuron, target_var=\"s_AMPA\", N=N_E, rate=1*nu_ext, weight= w_ext2excit)       \n",
    "\n",
    "    inh_poisson_input = PoissonInput(\n",
    "            target=one_neuron, target_var=\"s_GABA\", N=N_I, rate=1*nu_ext, weight= w_ext2inhib)\n",
    "\n",
    "    nmda_poisson_input = PoissonInput(\n",
    "            target=one_neuron, target_var=\"x\", N=1, rate= x_rate*Hz, weight= 1 )\n",
    "\n",
    "    #NDMA input \n",
    "    sNMDA_A_total = []\n",
    "\n",
    "    @network_operation()\n",
    "    def update_nmda_sum():\n",
    "            sum_sNMDA_A = 300*sum(one_neuron.s_NMDA)\n",
    "\n",
    "            #sum_sNMDA_A = 100\n",
    "\n",
    "            # note the _ at the end of s_NMDA_total_ disables unit checking\n",
    "            one_neuron.s_NMDA_total_ = (w_pos * sum_sNMDA_A)  ## 자기 자신의 nmda input 만을 받는다. \n",
    "            sNMDA_A_total.append(sum_sNMDA_A)\n",
    "\n",
    "\n",
    "    # set a self-recurrent synapse to introduce a delay when updating the intermediate\n",
    "    # gating variable x\n",
    "\n",
    "    syn_x_A2A = Synapses(one_neuron, one_neuron, on_pre=\"x += 1.\", delay=0.5 * b2.ms)\n",
    "    syn_x_A2A.connect(j=\"i\")\n",
    "\n",
    "    rmp_monitor = StateMonitor(one_neuron, 'v', record = 0)\n",
    "\n",
    "    x_monitor = StateMonitor(one_neuron, 'x', record = 0)\n",
    "    s_monitor = StateMonitor(one_neuron, 's_NMDA', record = 0)\n",
    "\n",
    "    rmp_in_mV = 1000*(rmp_monitor.v[0])\n",
    "    run(1200*ms, report='text')\n",
    "\n",
    "    time_in_ms = (rmp_monitor.t/ms)/1000\n",
    "    rmp_in_mV = 1000*(rmp_monitor.v[0])\n",
    "    result = {}\n",
    "    \n",
    "    result['time'] = time_in_ms\n",
    "    result['rmp'] = rmp_in_mV/volt\n",
    "    \n",
    "    \n",
    "    return result"
   ]
  },
  {
   "cell_type": "code",
   "execution_count": 39,
   "id": "c9da1f9e",
   "metadata": {},
   "outputs": [],
   "source": [
    "rmp_values_total = {}\n",
    "\n"
   ]
  },
  {
   "cell_type": "code",
   "execution_count": 40,
   "id": "bad6c978",
   "metadata": {},
   "outputs": [],
   "source": [
    "rmp_w_pos = []\n",
    "\n"
   ]
  },
  {
   "cell_type": "code",
   "execution_count": 41,
   "id": "dc537b49",
   "metadata": {},
   "outputs": [],
   "source": [
    "w_pos_level_raw = numpy.arange(1,2.5,0.1)"
   ]
  },
  {
   "cell_type": "code",
   "execution_count": 42,
   "id": "5076073c",
   "metadata": {},
   "outputs": [],
   "source": [
    "w_pos_level = numpy.round(w_pos_level_raw, 1)"
   ]
  },
  {
   "cell_type": "code",
   "execution_count": 53,
   "id": "23038a8d",
   "metadata": {},
   "outputs": [
    {
     "name": "stdout",
     "output_type": "stream",
     "text": [
      "simulating 480 neurons. Start: Fri Nov  4 15:12:38 2022\n",
      "Starting simulation at t=0. s for a duration of 1.2 s\n",
      "1.2 s (100%) simulated in 1s\n",
      "simulating 480 neurons. Start: Fri Nov  4 15:12:40 2022\n",
      "Starting simulation at t=0. s for a duration of 1.2 s\n",
      "1.2 s (100%) simulated in 1s\n",
      "simulating 480 neurons. Start: Fri Nov  4 15:12:42 2022\n",
      "Starting simulation at t=0. s for a duration of 1.2 s\n",
      "1.2 s (100%) simulated in 1s\n",
      "simulating 480 neurons. Start: Fri Nov  4 15:12:44 2022\n",
      "Starting simulation at t=0. s for a duration of 1.2 s\n",
      "1.2 s (100%) simulated in 1s\n"
     ]
    }
   ],
   "source": [
    "for w_pos in w_pos_level[:2]:\n",
    "    \n",
    "    rmp_w_pos = []\n",
    "    \n",
    "    for trial_n in range(2):\n",
    "        \n",
    "        rmp_w_pos.append(nmda_by_x(100, w_pos))\n",
    "        \n",
    "    rmp_values_total[w_pos] = rmp_w_pos\n",
    "    "
   ]
  },
  {
   "cell_type": "code",
   "execution_count": 54,
   "id": "cef28309",
   "metadata": {},
   "outputs": [
    {
     "data": {
      "text/plain": [
       "{1.1: [{'time': array([0.0000e+00, 1.0000e-04, 2.0000e-04, ..., 1.1997e+00, 1.1998e+00,\n",
       "          1.1999e+00]),\n",
       "   'rmp': array([-68.94352778, -68.94879694, -68.86916942, ..., -66.93591369,\n",
       "          -67.02998801, -67.06745811])},\n",
       "  {'time': array([0.0000e+00, 1.0000e-04, 2.0000e-04, ..., 1.1997e+00, 1.1998e+00,\n",
       "          1.1999e+00]),\n",
       "   'rmp': array([-65.92207642, -65.94241506, -65.9085214 , ..., -66.4765598 ,\n",
       "          -66.51173531, -66.51396914])}],\n",
       " 1.0: [{'time': array([0.0000e+00, 1.0000e-04, 2.0000e-04, ..., 1.1997e+00, 1.1998e+00,\n",
       "          1.1999e+00]),\n",
       "   'rmp': array([-65.16675614, -65.19086195, -65.16133195, ..., -67.39672067,\n",
       "          -67.38249552, -67.35620081])},\n",
       "  {'time': array([0.0000e+00, 1.0000e-04, 2.0000e-04, ..., 1.1997e+00, 1.1998e+00,\n",
       "          1.1999e+00]),\n",
       "   'rmp': array([-69.4235641 , -69.42643908, -69.37231649, ..., -66.8419957 ,\n",
       "          -66.74569835, -66.6634023 ])}]}"
      ]
     },
     "execution_count": 54,
     "metadata": {},
     "output_type": "execute_result"
    }
   ],
   "source": [
    "rmp_values_total"
   ]
  },
  {
   "cell_type": "code",
   "execution_count": 43,
   "id": "59c3549f",
   "metadata": {
    "scrolled": false
   },
   "outputs": [
    {
     "name": "stdout",
     "output_type": "stream",
     "text": [
      "simulating 480 neurons. Start: Fri Nov  4 15:09:25 2022\n",
      "Starting simulation at t=0. s for a duration of 1.2 s\n",
      "1.2 s (100%) simulated in 1s\n",
      "simulating 480 neurons. Start: Fri Nov  4 15:09:27 2022\n",
      "Starting simulation at t=0. s for a duration of 1.2 s\n",
      "1.2 s (100%) simulated in 1s\n",
      "simulating 480 neurons. Start: Fri Nov  4 15:09:29 2022\n",
      "Starting simulation at t=0. s for a duration of 1.2 s\n",
      "1.2 s (100%) simulated in 1s\n",
      "simulating 480 neurons. Start: Fri Nov  4 15:09:31 2022\n",
      "Starting simulation at t=0. s for a duration of 1.2 s\n",
      "1.2 s (100%) simulated in 1s\n"
     ]
    }
   ],
   "source": [
    "for trial_n in range(2):\n",
    "    \n",
    "    rmp_w_pos = []\n",
    "    \n",
    "    for w_pos in w_pos_level[:2]:\n",
    "        \n",
    "        rmp_w_pos.append(nmda_by_x(100, w_pos))\n",
    "    \n",
    "    rmp_values_total[w_pos] = rmp_w_pos\n",
    "    "
   ]
  },
  {
   "cell_type": "code",
   "execution_count": 45,
   "id": "0bbf981e",
   "metadata": {},
   "outputs": [
    {
     "data": {
      "text/plain": [
       "array([1. , 1.1])"
      ]
     },
     "execution_count": 45,
     "metadata": {},
     "output_type": "execute_result"
    }
   ],
   "source": [
    "w_pos_level[:2]"
   ]
  },
  {
   "cell_type": "code",
   "execution_count": 48,
   "id": "7facc488",
   "metadata": {
    "scrolled": true
   },
   "outputs": [
    {
     "data": {
      "text/plain": [
       "dict_keys([1.1])"
      ]
     },
     "execution_count": 48,
     "metadata": {},
     "output_type": "execute_result"
    }
   ],
   "source": [
    "rmp_values_total.keys()"
   ]
  },
  {
   "cell_type": "code",
   "execution_count": null,
   "id": "60d14788",
   "metadata": {},
   "outputs": [],
   "source": [
    "rmp_w_pos"
   ]
  },
  {
   "cell_type": "code",
   "execution_count": 8,
   "id": "460ae7c1",
   "metadata": {
    "scrolled": true
   },
   "outputs": [
    {
     "name": "stdout",
     "output_type": "stream",
     "text": [
      "simulating 480 neurons. Start: Fri Nov  4 14:53:00 2022\n",
      "Starting simulation at t=0. s for a duration of 1.2 s\n",
      "1.2 s (100%) simulated in 1s\n"
     ]
    },
    {
     "data": {
      "text/plain": [
       "{'time': array([0.0000e+00, 1.0000e-04, 2.0000e-04, ..., 1.1997e+00, 1.1998e+00,\n",
       "        1.1999e+00]),\n",
       " 'rmp': array([-65.35000548, -65.37319732, -65.36943542, ..., -67.06107953,\n",
       "        -66.97151483, -66.87056097])}"
      ]
     },
     "execution_count": 8,
     "metadata": {},
     "output_type": "execute_result"
    }
   ],
   "source": [
    "nmda_by_x(100, 1)"
   ]
  },
  {
   "cell_type": "code",
   "execution_count": 17,
   "id": "147d8884",
   "metadata": {
    "scrolled": true
   },
   "outputs": [
    {
     "data": {
      "text/plain": [
       "9"
      ]
     },
     "execution_count": 17,
     "metadata": {},
     "output_type": "execute_result"
    }
   ],
   "source": [
    "trial_n"
   ]
  },
  {
   "cell_type": "code",
   "execution_count": null,
   "id": "5a22160f",
   "metadata": {},
   "outputs": [],
   "source": [
    "rmp_values_total()"
   ]
  }
 ],
 "metadata": {
  "kernelspec": {
   "display_name": "Python 3 (ipykernel)",
   "language": "python",
   "name": "python3"
  },
  "language_info": {
   "codemirror_mode": {
    "name": "ipython",
    "version": 3
   },
   "file_extension": ".py",
   "mimetype": "text/x-python",
   "name": "python",
   "nbconvert_exporter": "python",
   "pygments_lexer": "ipython3",
   "version": "3.10.6"
  }
 },
 "nbformat": 4,
 "nbformat_minor": 5
}
